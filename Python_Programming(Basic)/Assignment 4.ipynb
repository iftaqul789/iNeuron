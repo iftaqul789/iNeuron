{
 "cells": [
  {
   "cell_type": "code",
   "execution_count": 13,
   "id": "8ba5282a",
   "metadata": {},
   "outputs": [
    {
     "name": "stdout",
     "output_type": "stream",
     "text": [
      "Invalid input data type\n"
     ]
    }
   ],
   "source": [
    "# Q1\n",
    "\n",
    "def fact(x):\n",
    "    \n",
    "    '''input: any natural number , type int\n",
    "       output: gives a factorial of a given number , type int '''\n",
    "    \n",
    "    if type(x) == int:\n",
    "        if x == 0:\n",
    "            return 1\n",
    "        else:\n",
    "            return x * fact(x-1)\n",
    "    else:\n",
    "        return print(\"Invalid input data type\")\n",
    "    \n",
    "fact(3)\n",
    "fact(0)\n",
    "fact(3.5)"
   ]
  },
  {
   "cell_type": "code",
   "execution_count": 30,
   "id": "ea8e133a",
   "metadata": {},
   "outputs": [
    {
     "name": "stdout",
     "output_type": "stream",
     "text": [
      "3 * 1 = 3\n",
      "3 * 2 = 6\n",
      "3 * 3 = 9\n",
      "3 * 4 = 12\n",
      "3 * 5 = 15\n",
      "3 * 6 = 18\n",
      "3 * 7 = 21\n",
      "3 * 8 = 24\n",
      "3 * 9 = 27\n",
      "3 * 10 = 30\n"
     ]
    }
   ],
   "source": [
    "# Q2\n",
    "\n",
    "def multTable(x):\n",
    "    \n",
    "    '''input: any real number\n",
    "        output : gives the multiple table of given number'''\n",
    "    if type(x) == int or type(x) == float:\n",
    "        for num in range(1,11):\n",
    "            print('{} * {} = {}'.format(x,num,x*num))\n",
    "    else:\n",
    "        print(\"invalid input data type\")\n",
    "multTable(3)"
   ]
  },
  {
   "cell_type": "code",
   "execution_count": 19,
   "id": "d424b21e",
   "metadata": {},
   "outputs": [
    {
     "data": {
      "text/plain": [
       "[0, 1, 1, 2, 3, 5]"
      ]
     },
     "execution_count": 19,
     "metadata": {},
     "output_type": "execute_result"
    }
   ],
   "source": [
    "# Q3\n",
    "\n",
    "def fibo(x):\n",
    "    \n",
    "    '''input: any natural number, indicates the total number of fibonaci number user wants in its list , x > 1\n",
    "      output: fibonaci number list of given length , type list'''\n",
    "    \n",
    "    fibo_num = [0,1]\n",
    "    \n",
    "    if x > 2:\n",
    "        for n in range(x-2):\n",
    "            fibo_num.append(fibo_num[-1] + fibo_num[-2])\n",
    "        return fibo_num\n",
    "    else:\n",
    "        return fibo_num\n",
    "\n",
    "fibo(6)\n",
    "\n",
    "\n"
   ]
  },
  {
   "cell_type": "code",
   "execution_count": 51,
   "id": "0adff92a",
   "metadata": {},
   "outputs": [
    {
     "name": "stdout",
     "output_type": "stream",
     "text": [
      "The number 153 is an Armstrong number\n"
     ]
    }
   ],
   "source": [
    "#Q4\n",
    "\n",
    "def isArmstrng(x):\n",
    "    \n",
    "    '''input : any natural numbrer\n",
    "       output : checks wether the number is armstrong number or not '''\n",
    "    \n",
    "    order = len(str(x))\n",
    "    sum_digit = 0\n",
    "    num = x\n",
    "    \n",
    "    while num != 0:\n",
    "        digit = num % 10\n",
    "        sum_digit += digit ** order\n",
    "        num = num // 10\n",
    "        \n",
    "    if sum_digit == x:\n",
    "        \n",
    "        return print(\"The number {} is an Armstrong number\".format(x))\n",
    "    \n",
    "    return print(\"The number {} is not an Armstrong number\".format(x))\n",
    "    \n",
    "isArmstrng(153)\n",
    "    \n",
    "    \n",
    "    \n",
    "    "
   ]
  },
  {
   "cell_type": "code",
   "execution_count": 50,
   "id": "be1dd63c",
   "metadata": {},
   "outputs": [
    {
     "data": {
      "text/plain": [
       "[153, 370, 371, 407]"
      ]
     },
     "execution_count": 50,
     "metadata": {},
     "output_type": "execute_result"
    }
   ],
   "source": [
    "# Q5\n",
    "\n",
    "\n",
    "def isArmstrng(x):\n",
    "    \n",
    "    order = len(str(x))\n",
    "    sum_digit = 0\n",
    "    num = x\n",
    "    while num != 0:\n",
    "        digit = num % 10\n",
    "        sum_digit += digit ** order\n",
    "        num = num // 10\n",
    "    if sum_digit == x:\n",
    "        \n",
    "        return True\n",
    "    \n",
    "    return False\n",
    "\n",
    "def armstrngIntrvl(l,h):\n",
    "    \n",
    "    '''input: lower limit(l) and upper limit(h) any natural number\n",
    "       output: gives the list of armstrong number in that interval'''\n",
    "    \n",
    "    ams_num_list = []\n",
    "    for num in range(l,h+1):\n",
    "        if isAmstrng(num):\n",
    "            ams_num_list.append(num)\n",
    "    return ams_num_list\n",
    "        \n",
    "armstrngIntrvl(10,500)"
   ]
  },
  {
   "cell_type": "code",
   "execution_count": 54,
   "id": "1cbf152f",
   "metadata": {},
   "outputs": [
    {
     "data": {
      "text/plain": [
       "88"
      ]
     },
     "execution_count": 54,
     "metadata": {},
     "output_type": "execute_result"
    }
   ],
   "source": [
    "# Q6\n",
    "\n",
    "def sumNatrlNum(x):\n",
    "    \n",
    "    '''input : list of natural numbers\n",
    "       output: sum of the natural numbres in the input list'''\n",
    "    \n",
    "    return sum(x)\n",
    "\n",
    "\n",
    "sumNatrlNum([4,5,4,67,8])"
   ]
  },
  {
   "cell_type": "code",
   "execution_count": null,
   "id": "d26d03a7",
   "metadata": {},
   "outputs": [],
   "source": []
  },
  {
   "cell_type": "code",
   "execution_count": null,
   "id": "4d425ab0",
   "metadata": {},
   "outputs": [],
   "source": []
  }
 ],
 "metadata": {
  "kernelspec": {
   "display_name": "Python 3",
   "language": "python",
   "name": "python3"
  },
  "language_info": {
   "codemirror_mode": {
    "name": "ipython",
    "version": 3
   },
   "file_extension": ".py",
   "mimetype": "text/x-python",
   "name": "python",
   "nbconvert_exporter": "python",
   "pygments_lexer": "ipython3",
   "version": "3.8.8"
  }
 },
 "nbformat": 4,
 "nbformat_minor": 5
}
