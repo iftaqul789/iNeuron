{
 "cells": [
  {
   "cell_type": "code",
   "execution_count": 3,
   "id": "f36ae0b5",
   "metadata": {},
   "outputs": [
    {
     "name": "stdout",
     "output_type": "stream",
     "text": [
      "in... in... incredible?\n"
     ]
    }
   ],
   "source": [
    "#Q1\n",
    "\n",
    "def stutter(x):\n",
    "    \n",
    "    '''input: string longer than 2 char'''\n",
    "    \n",
    "    return print(\"{}... {}... {}?\".format(x[0:2],x[0:2],x))\n",
    "\n",
    "stutter(\"incredible\")"
   ]
  },
  {
   "cell_type": "code",
   "execution_count": 10,
   "id": "f5de8b9b",
   "metadata": {},
   "outputs": [
    {
     "data": {
      "text/plain": [
       "1145.9"
      ]
     },
     "execution_count": 10,
     "metadata": {},
     "output_type": "execute_result"
    }
   ],
   "source": [
    "#Q2\n",
    "\n",
    "import math as mt\n",
    "\n",
    "def radians_to_degrees(x):\n",
    "    \n",
    "    '''input: int/float\n",
    "    output: float converts radians into degrees'''\n",
    "    \n",
    "    deg_val = (180/mt.pi) * x\n",
    "    return round(deg_val,1)\n",
    "\n",
    "radians_to_degrees(20)\n",
    "    "
   ]
  },
  {
   "cell_type": "code",
   "execution_count": 13,
   "id": "6d35965f",
   "metadata": {},
   "outputs": [
    {
     "data": {
      "text/plain": [
       "False"
      ]
     },
     "execution_count": 13,
     "metadata": {},
     "output_type": "execute_result"
    }
   ],
   "source": [
    "#Q3\n",
    "\n",
    "def is_curzon(x):\n",
    "    \n",
    "    '''input: +ve integer\n",
    "    output: bool, checks a number is cruzon number or not'''\n",
    "    \n",
    "    nmrtr = 2**x + 1\n",
    "    dnmntr = 2*x + 1\n",
    "    return nmrtr%dnmntr == 0\n",
    "\n",
    "is_curzon(10)"
   ]
  },
  {
   "cell_type": "code",
   "execution_count": 17,
   "id": "2b215607",
   "metadata": {},
   "outputs": [
    {
     "data": {
      "text/plain": [
       "2.6"
      ]
     },
     "execution_count": 17,
     "metadata": {},
     "output_type": "execute_result"
    }
   ],
   "source": [
    "#Q4\n",
    "\n",
    "\n",
    "def area_of_hexagon(x):\n",
    "    \n",
    "    '''input: float/int, length of side of the hexagon\n",
    "    output: float area of the hexagon'''\n",
    "    \n",
    "    return round((3* mt.sqrt(3) * x**2)/2,1)\n",
    "\n",
    "area_of_hexagon(1)"
   ]
  },
  {
   "cell_type": "code",
   "execution_count": 52,
   "id": "1dc3ac77",
   "metadata": {},
   "outputs": [
    {
     "data": {
      "text/plain": [
       "'10111'"
      ]
     },
     "execution_count": 52,
     "metadata": {},
     "output_type": "execute_result"
    }
   ],
   "source": [
    "#Q5\n",
    "\n",
    "def binary(x):\n",
    "    \n",
    "    '''input: any int\n",
    "    output : string, converts decimal into binary'''\n",
    "    \n",
    "    bin_val = \"\"\n",
    "    \n",
    "    while x//2 != 0:\n",
    "        bin_val += str(x%2)\n",
    "        x = x//2\n",
    "    return \"1\" + bin_val[::-1]\n",
    "\n",
    "binary(23)\n"
   ]
  },
  {
   "cell_type": "code",
   "execution_count": null,
   "id": "25310d95",
   "metadata": {},
   "outputs": [],
   "source": []
  }
 ],
 "metadata": {
  "kernelspec": {
   "display_name": "Python 3",
   "language": "python",
   "name": "python3"
  },
  "language_info": {
   "codemirror_mode": {
    "name": "ipython",
    "version": 3
   },
   "file_extension": ".py",
   "mimetype": "text/x-python",
   "name": "python",
   "nbconvert_exporter": "python",
   "pygments_lexer": "ipython3",
   "version": "3.8.8"
  }
 },
 "nbformat": 4,
 "nbformat_minor": 5
}
