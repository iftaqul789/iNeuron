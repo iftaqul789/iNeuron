{
 "cells": [
  {
   "cell_type": "code",
   "execution_count": 4,
   "id": "8d60174a",
   "metadata": {},
   "outputs": [
    {
     "data": {
      "text/plain": [
       "False"
      ]
     },
     "execution_count": 4,
     "metadata": {},
     "output_type": "execute_result"
    }
   ],
   "source": [
    "#Q1\n",
    "\n",
    "def is_symmetric(x):\n",
    "    '''input: int\n",
    "    output: bool , checks werher a number is symmetric or not'''\n",
    "    return str(x) == str(x)[::-1]\n",
    "\n",
    "is_symmetric(7247)"
   ]
  },
  {
   "cell_type": "code",
   "execution_count": 11,
   "id": "b10e1670",
   "metadata": {},
   "outputs": [
    {
     "data": {
      "text/plain": [
       "24"
      ]
     },
     "execution_count": 11,
     "metadata": {},
     "output_type": "execute_result"
    }
   ],
   "source": [
    "#Q2\n",
    "\n",
    "def multiply_nums(x):\n",
    "    \n",
    "    '''input: str , nums separated by , and space \n",
    "    output: int, product of all nums'''\n",
    "    \n",
    "    nums = x.split(', ')\n",
    "    result = 1\n",
    "    for num in nums:\n",
    "        result *= int(num)\n",
    "    return result\n",
    "\n",
    "multiply_nums(\"2, 3, 4\")"
   ]
  },
  {
   "cell_type": "code",
   "execution_count": 14,
   "id": "ecc79c8d",
   "metadata": {},
   "outputs": [
    {
     "data": {
      "text/plain": [
       "9981"
      ]
     },
     "execution_count": 14,
     "metadata": {},
     "output_type": "execute_result"
    }
   ],
   "source": [
    "#Q3\n",
    "\n",
    "def square_digits(x):\n",
    "    \n",
    "    '''input: int\n",
    "    output:int '''\n",
    "    \n",
    "    num = str(x)\n",
    "    f_val = ''\n",
    "    for n in num:\n",
    "        f_val += str(int(n)**2)\n",
    "    return int(f_val)\n",
    "\n",
    "square_digits(339)"
   ]
  },
  {
   "cell_type": "code",
   "execution_count": 19,
   "id": "a3bc651a",
   "metadata": {},
   "outputs": [
    {
     "data": {
      "text/plain": [
       "[1, 2, 7, 8, 99]"
      ]
     },
     "execution_count": 19,
     "metadata": {},
     "output_type": "execute_result"
    }
   ],
   "source": [
    "#Q4\n",
    "\n",
    "def setify(x):\n",
    "    \n",
    "    '''input: list\n",
    "    output: list sorted free from duplicate values'''\n",
    "    \n",
    "    nw_ls = []\n",
    "    for num in x:\n",
    "        if num not in nw_ls:\n",
    "            nw_ls.append(num)\n",
    "    return sorted(nw_ls)\n",
    "\n",
    "setify([1,1,7,7,2,2,8,99,99,99])"
   ]
  },
  {
   "cell_type": "code",
   "execution_count": 7,
   "id": "ad9b8d6f",
   "metadata": {},
   "outputs": [
    {
     "data": {
      "text/plain": [
       "4"
      ]
     },
     "execution_count": 7,
     "metadata": {},
     "output_type": "execute_result"
    }
   ],
   "source": [
    "#Q5\n",
    "\n",
    "def mean(x):\n",
    "    nmrtr = 0\n",
    "    dnmrtr = 0\n",
    "    for d in str(x):\n",
    "        nmrtr += int(d)\n",
    "        dnmrtr +=1\n",
    "    return int((nmrtr/dnmrtr))\n",
    "\n",
    "mean(14386)"
   ]
  },
  {
   "cell_type": "code",
   "execution_count": null,
   "id": "c79b361c",
   "metadata": {},
   "outputs": [],
   "source": []
  },
  {
   "cell_type": "code",
   "execution_count": null,
   "id": "9bfedf63",
   "metadata": {},
   "outputs": [],
   "source": []
  }
 ],
 "metadata": {
  "kernelspec": {
   "display_name": "Python 3",
   "language": "python",
   "name": "python3"
  },
  "language_info": {
   "codemirror_mode": {
    "name": "ipython",
    "version": 3
   },
   "file_extension": ".py",
   "mimetype": "text/x-python",
   "name": "python",
   "nbconvert_exporter": "python",
   "pygments_lexer": "ipython3",
   "version": "3.8.8"
  }
 },
 "nbformat": 4,
 "nbformat_minor": 5
}
