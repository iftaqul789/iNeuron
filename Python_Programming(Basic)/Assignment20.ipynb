{
 "cells": [
  {
   "cell_type": "code",
   "execution_count": 3,
   "id": "74ea75da",
   "metadata": {},
   "outputs": [
    {
     "data": {
      "text/plain": [
       "[1, 2, 8, 9, 10]"
      ]
     },
     "execution_count": 3,
     "metadata": {},
     "output_type": "execute_result"
    }
   ],
   "source": [
    "#Q1\n",
    "\n",
    "def filter_list(x):\n",
    "    \n",
    "    '''input: list\n",
    "    output: list containing only integers val'''\n",
    "    \n",
    "    nw_lst = []\n",
    "    temp_ls = [nw_lst.append(char) for char in x if type(char) != str]\n",
    "    return nw_lst\n",
    "\n",
    "filter_list([1,\"a\",2,\"n\",\"3\",8,9,10])\n"
   ]
  },
  {
   "cell_type": "code",
   "execution_count": 5,
   "id": "787ab2bf",
   "metadata": {},
   "outputs": [
    {
     "data": {
      "text/plain": [
       "[0, 1, 2, 3]"
      ]
     },
     "execution_count": 5,
     "metadata": {},
     "output_type": "execute_result"
    }
   ],
   "source": [
    "#Q2\n",
    "\n",
    "def add_index(x):\n",
    "    \n",
    "    '''input: list\n",
    "    output: list with each element added with its index'''\n",
    "    \n",
    "    add_ind_ls = []\n",
    "    for i, num in enumerate(x):\n",
    "        add_ind_ls.append(i + num)\n",
    "    return add_ind_ls\n",
    "\n",
    "add_index([0,0,0,0])"
   ]
  },
  {
   "cell_type": "code",
   "execution_count": 13,
   "id": "bc117a37",
   "metadata": {},
   "outputs": [
    {
     "data": {
      "text/plain": [
       "565.49"
      ]
     },
     "execution_count": 13,
     "metadata": {},
     "output_type": "execute_result"
    }
   ],
   "source": [
    "#Q3\n",
    "import math as mt\n",
    "def cone_volume(height, radius):\n",
    "    \n",
    "    '''input: height and radius of cone respectively\n",
    "    output: volume of cone by pi*r**2*h/3'''\n",
    "    \n",
    "    vol = (mt.pi * radius**2 * height)/3\n",
    "    return round(vol,2)\n",
    "\n",
    "cone_volume(15,6)"
   ]
  },
  {
   "cell_type": "code",
   "execution_count": 18,
   "id": "027a4574",
   "metadata": {},
   "outputs": [
    {
     "data": {
      "text/plain": [
       "23220"
      ]
     },
     "execution_count": 18,
     "metadata": {},
     "output_type": "execute_result"
    }
   ],
   "source": [
    "#Q4\n",
    "\n",
    "def triangle(x):\n",
    "    \n",
    "    '''input: int, nth number  tringle\n",
    "    output: int value of dots associated with that triangle'''\n",
    "    \n",
    "    if x == 0:\n",
    "        return 0\n",
    "    dot_ls = [1]\n",
    "    for num in range(2,x+1):\n",
    "        dot_ls.append(dot_ls[-1]+ num)\n",
    "    return dot_ls[-1]\n",
    "\n",
    "triangle(215)"
   ]
  },
  {
   "cell_type": "code",
   "execution_count": 21,
   "id": "489a43b3",
   "metadata": {},
   "outputs": [
    {
     "data": {
      "text/plain": [
       "6"
      ]
     },
     "execution_count": 21,
     "metadata": {},
     "output_type": "execute_result"
    }
   ],
   "source": [
    "#Q5\n",
    "\n",
    "def missing_num(x):\n",
    "    tot = 55 # sum of 1 to 10\n",
    "    gvn_val = sum(x)\n",
    "    return tot - gvn_val\n",
    "\n",
    "missing_num([1,2,3,4,5,7,8,9,10])\n",
    "    "
   ]
  }
 ],
 "metadata": {
  "kernelspec": {
   "display_name": "Python 3",
   "language": "python",
   "name": "python3"
  },
  "language_info": {
   "codemirror_mode": {
    "name": "ipython",
    "version": 3
   },
   "file_extension": ".py",
   "mimetype": "text/x-python",
   "name": "python",
   "nbconvert_exporter": "python",
   "pygments_lexer": "ipython3",
   "version": "3.8.8"
  }
 },
 "nbformat": 4,
 "nbformat_minor": 5
}
