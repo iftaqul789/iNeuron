{
 "cells": [
  {
   "cell_type": "code",
   "execution_count": 1,
   "id": "bc99d1f9",
   "metadata": {},
   "outputs": [
    {
     "data": {
      "text/plain": [
       "24.0"
      ]
     },
     "execution_count": 1,
     "metadata": {},
     "output_type": "execute_result"
    }
   ],
   "source": [
    "# Q1\n",
    "\n",
    "def gcd(a,b):\n",
    "    \n",
    "    '''input: natural numbers\n",
    "        output : hcf of that two numbers'''\n",
    "    \n",
    "    if a == 0:\n",
    "        return b\n",
    "    else:\n",
    "        return gcd(b%a,a)\n",
    "\n",
    "def lcm(a,b):\n",
    "    \n",
    "    '''input: natural numbers\n",
    "        output : lcm of that two numbers'''\n",
    "    \n",
    "    lcm = (a*b)/ gcd(a,b)\n",
    "    \n",
    "    return lcm\n",
    "\n",
    "lcm(8,12)\n"
   ]
  },
  {
   "cell_type": "code",
   "execution_count": 2,
   "id": "b2665bde",
   "metadata": {},
   "outputs": [
    {
     "data": {
      "text/plain": [
       "1"
      ]
     },
     "execution_count": 2,
     "metadata": {},
     "output_type": "execute_result"
    }
   ],
   "source": [
    "#Q2\n",
    "\n",
    "def gcd(a,b):\n",
    "    \n",
    "    '''input: natural numbers\n",
    "        output : hcf of that two numbers'''\n",
    "    \n",
    "    if a == 0:\n",
    "        return b\n",
    "    else:\n",
    "        return gcd(b%a,a)\n",
    "    \n",
    "gcd(3,7)"
   ]
  },
  {
   "cell_type": "code",
   "execution_count": 14,
   "id": "e3371c38",
   "metadata": {},
   "outputs": [
    {
     "data": {
      "text/plain": [
       "34"
      ]
     },
     "execution_count": 14,
     "metadata": {},
     "output_type": "execute_result"
    }
   ],
   "source": [
    "#Q3\n",
    "\n",
    "def decmlToBinary(x):\n",
    "    \n",
    "    qtn = x\n",
    "    bin_num = \" \"\n",
    "    \n",
    "    while qtn != 0:\n",
    "        qtn = x // 2\n",
    "        rmndr = x % 2\n",
    "        x = qtn\n",
    "        bin_num += str(rmndr)\n",
    "        \n",
    "    return int(bin_num[::-1])\n",
    "\n",
    "decmlToBinary(28)\n",
    "\n",
    "def decmlToOctal(x):\n",
    "    qtn = x\n",
    "    bin_num = \" \"\n",
    "    \n",
    "    while qtn != 0:\n",
    "        qtn = x // 8\n",
    "        rmndr = x % 8\n",
    "        x = qtn\n",
    "        bin_num += str(rmndr)\n",
    "        \n",
    "    return int(bin_num[::-1])\n",
    "\n",
    "decmlToOctal(28)"
   ]
  },
  {
   "cell_type": "code",
   "execution_count": 22,
   "id": "747e9ac8",
   "metadata": {},
   "outputs": [
    {
     "name": "stdout",
     "output_type": "stream",
     "text": [
      "Please give ur character b\n",
      "The ASCII code for b is: 98\n"
     ]
    }
   ],
   "source": [
    "#Q4\n",
    "\n",
    "usr_val = input(\"Please give your character \")\n",
    "\n",
    "asci_code = ord(usr_val)\n",
    "\n",
    "print(\"The ASCII code for {} is: {}\".format(usr_val,asci_code))"
   ]
  },
  {
   "cell_type": "code",
   "execution_count": 7,
   "id": "d80e8d4c",
   "metadata": {},
   "outputs": [
    {
     "name": "stdout",
     "output_type": "stream",
     "text": [
      "Please enetr your first number3\n",
      "Please enetr your first number4\n",
      "Please select operation\n",
      "1 for addition\n",
      "2 for subtraction\n",
      "3 for division\n",
      "4 for multiplication\n",
      "Please select operation3\n",
      "0.75\n"
     ]
    }
   ],
   "source": [
    "#Q5\n",
    "\n",
    "#operating functions\n",
    "\n",
    "def add(a,b):\n",
    "    return a+b\n",
    "def sub(a,b):\n",
    "    return a-b\n",
    "def div(a,b):\n",
    "    return a/b\n",
    "def mult(a,b):\n",
    "    return a *b\n",
    "\n",
    "#user inputs\n",
    "\n",
    "num1 = float(input(\"Please enetr your first number\"))\n",
    "num2 = float(input(\"Please enetr your first number\"))\n",
    "print(\"Please select operation\")\n",
    "print(\"1 for addition\")\n",
    "print(\"2 for subtraction\")\n",
    "print(\"3 for division\")\n",
    "print(\"4 for multiplication\")\n",
    "\n",
    "oprtn = input(\"Please select operation\")\n",
    "\n",
    "#results\n",
    "\n",
    "if oprtn == \"1\":\n",
    "    print(add(num1,num2))\n",
    "elif oprtn == \"2\":\n",
    "    print(sub(num1,num2))\n",
    "elif oprtn == \"3\":\n",
    "    print(div(num1,num2))\n",
    "elif oprtn == \"4\":\n",
    "    print(mult(num1, num2))\n",
    "else:\n",
    "    print(\"Invalid operation\")\n",
    "    \n",
    "\n",
    "        "
   ]
  },
  {
   "cell_type": "code",
   "execution_count": null,
   "id": "2d6a0341",
   "metadata": {},
   "outputs": [],
   "source": [
    "\n",
    " "
   ]
  },
  {
   "cell_type": "code",
   "execution_count": null,
   "id": "5f464d72",
   "metadata": {},
   "outputs": [],
   "source": [
    " "
   ]
  },
  {
   "cell_type": "code",
   "execution_count": null,
   "id": "d0058a43",
   "metadata": {},
   "outputs": [],
   "source": []
  }
 ],
 "metadata": {
  "kernelspec": {
   "display_name": "Python 3",
   "language": "python",
   "name": "python3"
  },
  "language_info": {
   "codemirror_mode": {
    "name": "ipython",
    "version": 3
   },
   "file_extension": ".py",
   "mimetype": "text/x-python",
   "name": "python",
   "nbconvert_exporter": "python",
   "pygments_lexer": "ipython3",
   "version": "3.8.8"
  }
 },
 "nbformat": 4,
 "nbformat_minor": 5
}
