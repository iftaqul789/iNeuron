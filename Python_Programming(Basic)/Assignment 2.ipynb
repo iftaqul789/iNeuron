{
 "cells": [
  {
   "cell_type": "code",
   "execution_count": 53,
   "id": "92ae20d3",
   "metadata": {},
   "outputs": [
    {
     "name": "stdout",
     "output_type": "stream",
     "text": [
      "2 km is equal to 1.242742 mile.\n"
     ]
    }
   ],
   "source": [
    "#Q1\n",
    "\n",
    "def kmToMile(x):\n",
    "    \n",
    "    '''input: value in Km type int or float\n",
    "       output: converts into mile , type float'''\n",
    "    mile = x * 0.621371\n",
    "    return print('{} km is equal to {} mile.'.format(x, mile))\n",
    "\n",
    "kmToMile(2)"
   ]
  },
  {
   "cell_type": "code",
   "execution_count": 57,
   "id": "02b2bebe",
   "metadata": {},
   "outputs": [
    {
     "name": "stdout",
     "output_type": "stream",
     "text": [
      "1 Celsius is equal to 33.8 Fahrenheit.\n"
     ]
    }
   ],
   "source": [
    "#Q2\n",
    "\n",
    "def celToFer(x):\n",
    "    \n",
    "    '''input: value in Celcius type int or float\n",
    "        output : converts into fehrenheit , type float'''\n",
    "    \n",
    "    frnht = (x * 9/5) + 32\n",
    "    return print(\"{} Celsius is equal to {} Fahrenheit.\".format(x,frnht))\n",
    "\n",
    "celToFer(1)"
   ]
  },
  {
   "cell_type": "code",
   "execution_count": 14,
   "id": "66c8ecf0",
   "metadata": {},
   "outputs": [
    {
     "name": "stdout",
     "output_type": "stream",
     "text": [
      "    January 2022\n",
      "Mo Tu We Th Fr Sa Su\n",
      "                1  2\n",
      " 3  4  5  6  7  8  9\n",
      "10 11 12 13 14 15 16\n",
      "17 18 19 20 21 22 23\n",
      "24 25 26 27 28 29 30\n",
      "31\n",
      "\n"
     ]
    }
   ],
   "source": [
    "#Q3\n",
    "\n",
    "import calendar\n",
    "\n",
    "def dispCalndr(y,m):\n",
    "    \n",
    "    '''input : takes vale of year(y) and month(m), type int'''\n",
    "    \n",
    "    print(calendar.month(y,m))\n",
    "\n",
    "dispCalndr(2022,1)"
   ]
  },
  {
   "cell_type": "code",
   "execution_count": 69,
   "id": "d0aebaa3",
   "metadata": {},
   "outputs": [
    {
     "name": "stdout",
     "output_type": "stream",
     "text": [
      "((0.33+0.94j), (0.33-0.94j))\n",
      "Invalid input data type or a can not be zero\n",
      "None\n",
      "Invalid input data type or a can not be zero\n",
      "None\n",
      "(6.0, 2.0)\n"
     ]
    }
   ],
   "source": [
    "#Q4\n",
    "\n",
    "import math as mt\n",
    "import cmath as cmt\n",
    "\n",
    "def quadSolve(a,b,c):\n",
    "    \n",
    "    '''solves quadratic equation in the form of ax^2 + bx + c = 0 , a!= 0\n",
    "        input: a , b ,c are coeff of x^2 , x and constant val , type int or float\n",
    "        output: real or complex roots  x1,x2  of quadratic equation'''\n",
    "    \n",
    "    try: \n",
    "        if (mt.pow(b,2) - 4*a*c >= 0):\n",
    "            \n",
    "            x1 = (-b + mt.sqrt(b*b - 4*a*c))/(2*a)\n",
    "            x2 = (-b - mt.sqrt(b*b - 4*a*c))/(2*a)\n",
    "            \n",
    "            return (x1,x2)\n",
    "        \n",
    "        else:\n",
    "            x1 = (-b + cmt.sqrt(b*b - 4*a*c))/(2*a)\n",
    "            x2 = (-b - cmt.sqrt(b*b - 4*a*c))/(2*a)\n",
    "            \n",
    "            return ((round(x1.real,2) + round(x1.imag,2) * 1j),(round(x2.real,2) + round(x2.imag,2) * 1j))\n",
    "    \n",
    "    except:\n",
    "        \n",
    "        return  print(\"Invalid input data type or a can not be zero\")\n",
    "        \n",
    "\n",
    "print(quadSolve(12,-8,12))\n",
    "\n",
    "print(quadSolve(\"lk\",-8,12))\n",
    "\n",
    "print(quadSolve( 0,-8,12))\n",
    "\n",
    "print(quadSolve(1,-8,12))\n"
   ]
  },
  {
   "cell_type": "code",
   "execution_count": 66,
   "id": "e95e2dba",
   "metadata": {},
   "outputs": [
    {
     "name": "stdout",
     "output_type": "stream",
     "text": [
      "3 2\n"
     ]
    }
   ],
   "source": [
    "# Q5\n",
    "\n",
    "x = 2\n",
    "y = 3\n",
    "\n",
    "#swaping values without temp variable\n",
    "\n",
    "(x,y) = (3,2)\n",
    "print(x,y)"
   ]
  },
  {
   "cell_type": "code",
   "execution_count": null,
   "id": "f3bd231e",
   "metadata": {},
   "outputs": [],
   "source": []
  },
  {
   "cell_type": "code",
   "execution_count": null,
   "id": "bedd2362",
   "metadata": {},
   "outputs": [],
   "source": []
  }
 ],
 "metadata": {
  "kernelspec": {
   "display_name": "Python 3",
   "language": "python",
   "name": "python3"
  },
  "language_info": {
   "codemirror_mode": {
    "name": "ipython",
    "version": 3
   },
   "file_extension": ".py",
   "mimetype": "text/x-python",
   "name": "python",
   "nbconvert_exporter": "python",
   "pygments_lexer": "ipython3",
   "version": "3.8.8"
  }
 },
 "nbformat": 4,
 "nbformat_minor": 5
}
