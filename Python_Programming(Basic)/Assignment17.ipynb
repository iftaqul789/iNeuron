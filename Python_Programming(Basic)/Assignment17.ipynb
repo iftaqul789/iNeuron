{
 "cells": [
  {
   "cell_type": "code",
   "execution_count": 4,
   "id": "d243436f",
   "metadata": {},
   "outputs": [
    {
     "data": {
      "text/plain": [
       "30"
      ]
     },
     "execution_count": 4,
     "metadata": {},
     "output_type": "execute_result"
    }
   ],
   "source": [
    "#Q1\n",
    "\n",
    "def evenly_divisible(a,b,c):\n",
    "    \n",
    "    '''input: lower limit(a) and upper limt(b) and divisor(c)\n",
    "    output: sum of the num between the range ,evenly diovided by divisor'''\n",
    "    \n",
    "    num_sum = 0\n",
    "    for num in range(a,b+1):\n",
    "        if num%c == 0:\n",
    "            num_sum += num\n",
    "    return num_sum\n",
    "\n",
    "evenly_divisible(1,10,2)\n",
    "    "
   ]
  },
  {
   "cell_type": "code",
   "execution_count": 51,
   "id": "c49f4722",
   "metadata": {},
   "outputs": [
    {
     "name": "stdout",
     "output_type": "stream",
     "text": [
      "True\n"
     ]
    }
   ],
   "source": [
    "#Q2\n",
    "def correct_signs(file):\n",
    "    \n",
    "    comnd = 'x = True if ' +file+ 'else False \\nprint(x)'\n",
    "    \n",
    "    exec(comnd)\n",
    "    \n",
    "correct_signs('4 >3 > 2')"
   ]
  },
  {
   "cell_type": "code",
   "execution_count": 27,
   "id": "1529c7be",
   "metadata": {},
   "outputs": [
    {
     "data": {
      "text/plain": [
       "'#hSdhd#ksl#s##'"
      ]
     },
     "execution_count": 27,
     "metadata": {},
     "output_type": "execute_result"
    }
   ],
   "source": [
    "#3\n",
    "\n",
    "def replace_vowels(x,sc):\n",
    "    \n",
    "    '''input: string(x) and special character(sc) as str\n",
    "    output: string , vowels are replaced by sc'''\n",
    "    \n",
    "    final_str = ''\n",
    "    for char in x:\n",
    "        if char.lower() in \"aeiou\":\n",
    "            final_str += sc\n",
    "        else:\n",
    "            final_str += char\n",
    "    return final_str\n",
    "\n",
    "replace_vowels(\"AhSdhdikslasOu\",\"#\")"
   ]
  },
  {
   "cell_type": "code",
   "execution_count": 30,
   "id": "3b546a56",
   "metadata": {},
   "outputs": [
    {
     "data": {
      "text/plain": [
       "720"
      ]
     },
     "execution_count": 30,
     "metadata": {},
     "output_type": "execute_result"
    }
   ],
   "source": [
    "#Q4\n",
    "\n",
    "def factorial(x):\n",
    "    \n",
    "    '''input: any int\n",
    "    output: int factorial value of input'''\n",
    "    \n",
    "    if x == 0:\n",
    "        return 1\n",
    "    else:\n",
    "        return x * factorial(x-1)\n",
    "\n",
    "factorial(6)"
   ]
  },
  {
   "cell_type": "code",
   "execution_count": 38,
   "id": "250ba55e",
   "metadata": {},
   "outputs": [
    {
     "data": {
      "text/plain": [
       "1"
      ]
     },
     "execution_count": 38,
     "metadata": {},
     "output_type": "execute_result"
    }
   ],
   "source": [
    "#Q5\n",
    "\n",
    "def hamming_distance(str1,str2):\n",
    "    \n",
    "    '''input: strings str1 and str2\n",
    "    output: int calculates the hamming distance'''\n",
    "    \n",
    "    dist_val = 0\n",
    "    for i,char in enumerate(str1):\n",
    "        if char != str2[i]:\n",
    "            dist_val += 1\n",
    "    return dist_val\n",
    "\n",
    "hamming_distance(\"abcd\",'adcd')"
   ]
  },
  {
   "cell_type": "code",
   "execution_count": null,
   "id": "dfffc6ac",
   "metadata": {},
   "outputs": [],
   "source": []
  }
 ],
 "metadata": {
  "kernelspec": {
   "display_name": "Python 3",
   "language": "python",
   "name": "python3"
  },
  "language_info": {
   "codemirror_mode": {
    "name": "ipython",
    "version": 3
   },
   "file_extension": ".py",
   "mimetype": "text/x-python",
   "name": "python",
   "nbconvert_exporter": "python",
   "pygments_lexer": "ipython3",
   "version": "3.8.8"
  }
 },
 "nbformat": 4,
 "nbformat_minor": 5
}
