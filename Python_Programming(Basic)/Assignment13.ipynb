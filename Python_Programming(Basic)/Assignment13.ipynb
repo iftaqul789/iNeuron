{
 "cells": [
  {
   "cell_type": "code",
   "execution_count": 70,
   "id": "5aa1da8a",
   "metadata": {},
   "outputs": [],
   "source": [
    "import math as mt\n",
    "import numpy as np\n",
    "import string"
   ]
  },
  {
   "cell_type": "code",
   "execution_count": 29,
   "id": "1980d955",
   "metadata": {},
   "outputs": [
    {
     "name": "stdout",
     "output_type": "stream",
     "text": [
      "18.26,22.36,24.49,"
     ]
    }
   ],
   "source": [
    "#Q1\n",
    "\n",
    "# constant variables\n",
    "\n",
    "C = 50\n",
    "H = 30\n",
    "\n",
    "# path of the csv file\n",
    "\n",
    "path = 'Data/iNdata.txt'     \n",
    "\n",
    "# reading the csv file and calculting the value\n",
    "\n",
    "with open(path,'r') as f:\n",
    "    my_file = f.read()\n",
    "    for num in my_file.split(','):\n",
    "        val = mt.sqrt((2*C*int(num))/H)\n",
    "        print(round(val,2) , end = \",\")\n",
    "        "
   ]
  },
  {
   "cell_type": "code",
   "execution_count": 61,
   "id": "7febed3a",
   "metadata": {},
   "outputs": [
    {
     "name": "stdout",
     "output_type": "stream",
     "text": [
      "[[0. 0. 0. 0. 0.]\n",
      " [0. 1. 2. 3. 4.]\n",
      " [0. 2. 4. 6. 8.]]\n"
     ]
    }
   ],
   "source": [
    "#Q2\n",
    "\n",
    "# user inputs for rows and columns\n",
    "x = 3\n",
    "y = 5\n",
    "\n",
    "# dummy matrix of same dimension as specified by user\n",
    "dum_mat = np.zeros([x,y]) \n",
    "\n",
    "#array creation\n",
    "\n",
    "for i in range(3):\n",
    "    for j in range(5):\n",
    "        dum_mat[i][j]= i * j\n",
    "\n",
    "    \n",
    "print(dum_mat)\n",
    "\n",
    "\n"
   ]
  },
  {
   "cell_type": "code",
   "execution_count": 66,
   "id": "08043923",
   "metadata": {},
   "outputs": [
    {
     "name": "stdout",
     "output_type": "stream",
     "text": [
      "apple,boy,hello,world,xerox,"
     ]
    }
   ],
   "source": [
    "#Q3\n",
    "\n",
    "csv_str = \"hello,world,apple,boy,xerox\"\n",
    "\n",
    "unsrt_lst = csv_str.split(',')\n",
    "srtd_lst = sorted(unsrt_lst)\n",
    "for wd in srtd_lst:\n",
    "    print(wd, end = \",\")\n",
    "   \n",
    "\n"
   ]
  },
  {
   "cell_type": "code",
   "execution_count": 69,
   "id": "66cf2805",
   "metadata": {},
   "outputs": [
    {
     "name": "stdout",
     "output_type": "stream",
     "text": [
      "apple boy hello world xerox "
     ]
    }
   ],
   "source": [
    "#Q4\n",
    "whtspc_str = \"hello world apple boy xerox\"\n",
    "\n",
    "unst_lst = whtspc_str.split(' ')\n",
    "srtd_ls = sorted(unst_lst)\n",
    "for wd in srtd_lst:\n",
    "    print(wd, end = \" \")\n",
    "   \n",
    "\n",
    "\n"
   ]
  },
  {
   "cell_type": "code",
   "execution_count": 82,
   "id": "bc7d7c10",
   "metadata": {},
   "outputs": [
    {
     "name": "stdout",
     "output_type": "stream",
     "text": [
      "LETTERS 51\n",
      "DIGITS 3\n"
     ]
    }
   ],
   "source": [
    "#Q5\n",
    "\n",
    "dum_sen = \"the world is beautiful For a Reason And that reseon is iftaqil789\"\n",
    "\n",
    "def countAlpDig(x):\n",
    "    \n",
    "    '''input: any string\n",
    "    output: counts letters and digits in the string'''\n",
    "    \n",
    "    alpha = string.ascii_lowercase + string.ascii_uppercase\n",
    "    digits = '0123456789'\n",
    "    word = 0\n",
    "    num = 0\n",
    "    for char in x:\n",
    "        if char in alpha:\n",
    "            word += 1\n",
    "        if char in digits:\n",
    "            num += 1\n",
    "    return print('''LETTERS {}\n",
    "DIGITS {}'''.format(word,num) )\n",
    "        \n",
    "countAlpDig(dum_sen)\n",
    "\n"
   ]
  },
  {
   "cell_type": "code",
   "execution_count": 89,
   "id": "27a580ff",
   "metadata": {},
   "outputs": [
    {
     "name": "stdout",
     "output_type": "stream",
     "text": [
      "#123Rouyal,12Ryklo#,"
     ]
    }
   ],
   "source": [
    "#Q6\n",
    "#csv passowrd file\n",
    "\n",
    "csv_pswds = \"1Rgh$f,$6phjik9,#123Rouyal,12Ryklo#,12Ghsdjdeyeik\"\n",
    "\n",
    "#crtetria of a valiod password\n",
    "\n",
    "alphaLow = string.ascii_lowercase\n",
    "alphaUp = string.ascii_uppercase\n",
    "dig = '0123456789'\n",
    "spcl_char = '$#@'\n",
    "min_len = 6\n",
    "max_len = 12\n",
    "\n",
    "#password validation code\n",
    "\n",
    "for pswd in csv_pswds.split(','):\n",
    "    lw_alp = []\n",
    "    up_alp = []\n",
    "    dg = []\n",
    "    sp_c = []\n",
    "    \n",
    "    for char in pswd:\n",
    "        if char in alphaLow:\n",
    "            lw_alp.append(char)\n",
    "        if char in alphaUp:\n",
    "            up_alp.append(char)\n",
    "        if char in dig:\n",
    "            dg.append(char)\n",
    "        if char in spcl_char:\n",
    "            sp_c.append(char)\n",
    "    if len(lw_alp) > 0 and len(up_alp) > 0 and len(dg)>0 and len(sp_c) > 0 and len(pswd) > min_len and len(pswd)< max_len:\n",
    "        print(pswd, end = \",\")\n",
    "        lw_alp = []\n",
    "        up_alp = []\n",
    "        dg = []\n",
    "        sp_c = []\n",
    "    \n"
   ]
  }
 ],
 "metadata": {
  "kernelspec": {
   "display_name": "Python 3",
   "language": "python",
   "name": "python3"
  },
  "language_info": {
   "codemirror_mode": {
    "name": "ipython",
    "version": 3
   },
   "file_extension": ".py",
   "mimetype": "text/x-python",
   "name": "python",
   "nbconvert_exporter": "python",
   "pygments_lexer": "ipython3",
   "version": "3.8.8"
  }
 },
 "nbformat": 4,
 "nbformat_minor": 5
}
