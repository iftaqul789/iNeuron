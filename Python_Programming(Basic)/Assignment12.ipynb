{
 "cells": [
  {
   "cell_type": "code",
   "execution_count": null,
   "id": "df93d6f1",
   "metadata": {},
   "outputs": [],
   "source": []
  },
  {
   "cell_type": "code",
   "execution_count": 4,
   "id": "a44e8314",
   "metadata": {},
   "outputs": [
    {
     "data": {
      "text/plain": [
       "1"
      ]
     },
     "execution_count": 4,
     "metadata": {},
     "output_type": "execute_result"
    }
   ],
   "source": [
    "#Q1\n",
    "\n",
    "my_dict = {'a':1,\"b\":2,\"c\":3,\"d\":4}\n",
    "\n",
    "def extrctDicVal(d,k):\n",
    "    \n",
    "    '''input: a dictionary(d) and key(k) of the dictionary\n",
    "    output: values of the corresponding keyt'''\n",
    "    \n",
    "    val = d[k]\n",
    "    return val\n",
    "\n",
    "extrctDicVal(my_dict,'a')"
   ]
  },
  {
   "cell_type": "code",
   "execution_count": 5,
   "id": "bada1f8b",
   "metadata": {},
   "outputs": [
    {
     "data": {
      "text/plain": [
       "10"
      ]
     },
     "execution_count": 5,
     "metadata": {},
     "output_type": "execute_result"
    }
   ],
   "source": [
    "#Q2\n",
    "\n",
    "def sumDict(d):\n",
    "    \n",
    "    '''input: a dictionary with all the values as int or float\n",
    "    outp[ut: sum of all the values . int/float]'''\n",
    "    \n",
    "    sum_val = 0\n",
    "    for k in d:\n",
    "        sum_val += d[k]\n",
    "    return sum_val\n",
    "\n",
    "sumDict(my_dict)"
   ]
  },
  {
   "cell_type": "code",
   "execution_count": 12,
   "id": "d64eea6c",
   "metadata": {},
   "outputs": [
    {
     "data": {
      "text/plain": [
       "{'a': 5, 'b': 2, 'c': 3, 'd': 4, 'l': 22, 'x': 2, 'z': 45}"
      ]
     },
     "execution_count": 12,
     "metadata": {},
     "output_type": "execute_result"
    }
   ],
   "source": [
    "#Q3\n",
    "\n",
    "nw_dict = {'a':5,'l':22,'x':2,\"z\":45}\n",
    "\n",
    "def mergDict(d1,d2):\n",
    "    \n",
    "    '''input: two dictionary\n",
    "    output: a dictionary merged'''\n",
    "    \n",
    "    finl_dict = d1.update(d2)\n",
    "    return d1\n",
    "\n",
    "mergDict(my_dict,nw_dict)\n"
   ]
  },
  {
   "cell_type": "code",
   "execution_count": 44,
   "id": "92ebe8de",
   "metadata": {},
   "outputs": [],
   "source": [
    "#Q4\n",
    "\n",
    "lis_key_val = [['A','B',\"c\"],[1,2,3]]\n",
    "    \n",
    "    "
   ]
  },
  {
   "cell_type": "code",
   "execution_count": 43,
   "id": "6b17c15f",
   "metadata": {},
   "outputs": [
    {
     "name": "stdout",
     "output_type": "stream",
     "text": [
      "{'John': 'Jenny', 'Charles': 'Christy', 'Mike': 'Monica'}\n"
     ]
    }
   ],
   "source": [
    "a = (\"John\", \"Charles\", \"Mike\")\n",
    "b = (\"Jenny\", \"Christy\", \"Monica\")\n",
    "\n",
    "x = zip(a,b)\n",
    "print(dict(x))\n"
   ]
  },
  {
   "cell_type": "code",
   "execution_count": 75,
   "id": "6367d066",
   "metadata": {},
   "outputs": [
    {
     "name": "stdout",
     "output_type": "stream",
     "text": [
      "OrderedDict([('a', 5), ('l', 22), ('x', 2), ('z', 45), ('f', 8)])\n"
     ]
    },
    {
     "data": {
      "text/plain": [
       "OrderedDict([('h', 22), ('a', 5), ('l', 22), ('x', 2), ('z', 45), ('f', 8)])"
      ]
     },
     "execution_count": 75,
     "metadata": {},
     "output_type": "execute_result"
    }
   ],
   "source": [
    "#Q5\n",
    "\n",
    "\n",
    "from collections import OrderedDict as od\n",
    "ord_dic = od(nw_dict)\n",
    "\n",
    "print(ord_dic)\n",
    "\n",
    "def insrtToOd(k,v,dic):\n",
    "    \n",
    "    '''input: orderd dictionary, key(k), value(v), dictionary(dic)\n",
    "    output: ordered dictionaray , inserts the new update at the begining of the old dictionary'''\n",
    "    \n",
    "    dic.update({k:v})\n",
    "    dic.move_to_end(k, last = False)\n",
    "    return dic\n",
    "\n",
    "insrtToOd(\"h\",22,ord_dic)"
   ]
  },
  {
   "cell_type": "code",
   "execution_count": null,
   "id": "bb60c80c",
   "metadata": {},
   "outputs": [],
   "source": [
    "#Q6\n",
    "\n"
   ]
  },
  {
   "cell_type": "code",
   "execution_count": 99,
   "id": "d5d8d546",
   "metadata": {},
   "outputs": [
    {
     "name": "stdout",
     "output_type": "stream",
     "text": [
      "{'a': 7, 'b': 2, 'h': 99, 'k': 5, 'x': 1, 'z': 22}\n",
      "{'x': 1, 'b': 2, 'k': 5, 'a': 7, 'z': 22, 'h': 99}\n"
     ]
    }
   ],
   "source": [
    "#Q7\n",
    "\n",
    "unsrtd_dic = {'k':5,\"a\":7,\"h\":99,\"b\":2,\"z\":22,\"x\":1}\n",
    "\n",
    "\n",
    "def sortDicKey(dic):\n",
    "    \n",
    "    '''input: dictioinary\n",
    "    output:L dictionary , sorted by its keys'''\n",
    "    \n",
    "    srtd_dic_key = {k:v for k,v in sorted(dic.items())}\n",
    "    return srtd_dic_key\n",
    "\n",
    "print(sortDicKey(unsrtd_dic))\n",
    "\n",
    "\n",
    "def sortDicVal(dic):\n",
    "    \n",
    "     '''input: dictioinary\n",
    "    output:L dictionary , sorted by its values'''\n",
    "    \n",
    "    \n",
    "     srtd_dic_val = {k:v for k,v in sorted(dic.items(), key = lambda v:v[1])}\n",
    "    \n",
    "     return srtd_dic_val\n",
    "\n",
    "print(sortDicVal(unsrtd_dic))"
   ]
  },
  {
   "cell_type": "code",
   "execution_count": null,
   "id": "8b89aaeb",
   "metadata": {},
   "outputs": [],
   "source": []
  }
 ],
 "metadata": {
  "kernelspec": {
   "display_name": "Python 3",
   "language": "python",
   "name": "python3"
  },
  "language_info": {
   "codemirror_mode": {
    "name": "ipython",
    "version": 3
   },
   "file_extension": ".py",
   "mimetype": "text/x-python",
   "name": "python",
   "nbconvert_exporter": "python",
   "pygments_lexer": "ipython3",
   "version": "3.8.8"
  }
 },
 "nbformat": 4,
 "nbformat_minor": 5
}
