{
 "cells": [
  {
   "cell_type": "code",
   "execution_count": 1,
   "id": "b7471c18",
   "metadata": {},
   "outputs": [
    {
     "data": {
      "text/plain": [
       "'aabbcc'"
      ]
     },
     "execution_count": 1,
     "metadata": {},
     "output_type": "execute_result"
    }
   ],
   "source": [
    "#Q1\n",
    "\n",
    "def double_str(x):\n",
    "    \n",
    "    '''input: string\n",
    "    output: sting doubles each char inside the given string'''\n",
    "    \n",
    "    dbl_str = ''\n",
    "    for char in x:\n",
    "        dbl_str += char + char\n",
    "    return dbl_str\n",
    "\n",
    "double_str(\"abc\")"
   ]
  },
  {
   "cell_type": "code",
   "execution_count": 22,
   "id": "3168337b",
   "metadata": {},
   "outputs": [
    {
     "name": "stdout",
     "output_type": "stream",
     "text": [
      "Boolean Expected\n"
     ]
    }
   ],
   "source": [
    "#Q2\n",
    "\n",
    "def reverse(x):\n",
    "    \n",
    "    '''input: bool\n",
    "    output: bool '''\n",
    "    \n",
    "    if x == True:\n",
    "        return False\n",
    "    elif x == False:\n",
    "        return True\n",
    "    else:\n",
    "        return print(\"Boolean Expected\")\n",
    "    \n",
    "reverse(None)"
   ]
  },
  {
   "cell_type": "code",
   "execution_count": 61,
   "id": "15da2555",
   "metadata": {},
   "outputs": [
    {
     "name": "stdout",
     "output_type": "stream",
     "text": [
      "Paper folded 21 times is 1048.576\n"
     ]
    }
   ],
   "source": [
    "#Q3\n",
    "\n",
    "def num_layers(x):\n",
    "    # Paper_thickness = 0.5mm = 0.0005 m\n",
    "    \n",
    "    thick_ls = [2]\n",
    "    for i in range(1,x):\n",
    "        thick_ls.append(thick_ls[-1]*2)\n",
    "    return print(\"Paper folded {} times is {}\".format(x,thick_ls[-1]*0.0005))\n",
    "\n",
    "num_layers(21)\n",
    "    \n",
    "    "
   ]
  },
  {
   "cell_type": "code",
   "execution_count": 68,
   "id": "fae779ba",
   "metadata": {},
   "outputs": [
    {
     "data": {
      "text/plain": [
       "[0, 7, 11]"
      ]
     },
     "execution_count": 68,
     "metadata": {},
     "output_type": "execute_result"
    }
   ],
   "source": [
    "#Q4\n",
    "\n",
    "import string\n",
    "def index_of_caps(x):\n",
    "    \n",
    "    '''input: string\n",
    "    output: list , containg the indx of upercase alphas of x'''\n",
    "    \n",
    "    uprcase = string.ascii_uppercase #upercase alphas\n",
    "    indx_ls = [] #emty lst of indx\n",
    "    for i,char in enumerate(x):\n",
    "        if char in uprcase:\n",
    "            indx_ls.append(i)\n",
    "    return indx_ls\n",
    "\n",
    "index_of_caps(\"AhdjkgdKhgdL\")\n",
    "    \n"
   ]
  },
  {
   "cell_type": "code",
   "execution_count": 72,
   "id": "c6d5e53c",
   "metadata": {},
   "outputs": [
    {
     "data": {
      "text/plain": [
       "[2, 4, 6, 8]"
      ]
     },
     "execution_count": 72,
     "metadata": {},
     "output_type": "execute_result"
    }
   ],
   "source": [
    "#Q5\n",
    "\n",
    "def evnNum(x):\n",
    "    \n",
    "    '''input: int\n",
    "    output: list , containing the even nums btwn 1 to x, inclusive'''\n",
    "    \n",
    "    return [num for num in range(1,x+1) if num %2 == 0]\n",
    "\n",
    "evnNum(8)"
   ]
  },
  {
   "cell_type": "code",
   "execution_count": null,
   "id": "9578fca7",
   "metadata": {},
   "outputs": [],
   "source": []
  }
 ],
 "metadata": {
  "kernelspec": {
   "display_name": "Python 3",
   "language": "python",
   "name": "python3"
  },
  "language_info": {
   "codemirror_mode": {
    "name": "ipython",
    "version": 3
   },
   "file_extension": ".py",
   "mimetype": "text/x-python",
   "name": "python",
   "nbconvert_exporter": "python",
   "pygments_lexer": "ipython3",
   "version": "3.8.8"
  }
 },
 "nbformat": 4,
 "nbformat_minor": 5
}
