{
 "cells": [
  {
   "cell_type": "code",
   "execution_count": 23,
   "id": "3997354c",
   "metadata": {},
   "outputs": [
    {
     "name": "stdout",
     "output_type": "stream",
     "text": [
      "<__main__.divBy7 object at 0x000001EFA87719D0>\n"
     ]
    }
   ],
   "source": [
    "#Q1\n",
    "\n",
    "class divBy7():\n",
    "    def __init__(self,lb,ub):\n",
    "        self.lb = lb\n",
    "        self.ub = ub\n",
    "        self.num = list(range(lb,ub+1))\n",
    "    \n",
    "    def __itr__(self):\n",
    "        for num in range(0,len(self.num)):\n",
    "            if num %7 == 0:\n",
    "                return self.num[num]\n",
    "\n",
    "A = divBy7(0,20)\n",
    "print(A)\n",
    "    "
   ]
  },
  {
   "cell_type": "code",
   "execution_count": 16,
   "id": "9ba5e591",
   "metadata": {},
   "outputs": [
    {
     "name": "stdout",
     "output_type": "stream",
     "text": [
      "2:2\n",
      "3:2\n",
      "3!:2\n",
      "Buddy:2\n",
      "For:2\n",
      "Hey:2\n",
      "all:2\n",
      "and:2\n",
      "are:2\n",
      "how:2\n",
      "python:3\n",
      "set:2\n",
      "you:2\n"
     ]
    }
   ],
   "source": [
    "#Q2\n",
    "\n",
    "\n",
    "#user input\n",
    "\n",
    "inp_sen = \"Hey Buddy how are you 3! all set For python 2 and python 3\"\n",
    "\n",
    "#initialising empt dictionary\n",
    "\n",
    "my_dic = {}\n",
    "\n",
    "# creating the dictionary with words as key and tehir occurances as values\n",
    "\n",
    "for char in inp_sen.split(' '):\n",
    "    if char not in my_dic:\n",
    "        my_dic[char] = 1\n",
    "    my_dic[char] += 1\n",
    "    \n",
    "#sorting the keys alphanumerically and creating a list of keys\n",
    "\n",
    "sortd_ls_key = sorted(my_dic)\n",
    "for k in sortd_ls_key:\n",
    "    print('{}:{}'.format(k,my_dic[k]))"
   ]
  },
  {
   "cell_type": "code",
   "execution_count": 31,
   "id": "b282a2c1",
   "metadata": {},
   "outputs": [],
   "source": [
    "#Q3\n",
    "\n",
    "class Person():\n",
    "    def __init__(self,gender):\n",
    "        self.gender = gender\n",
    "        \n",
    "    def get_gender(self):\n",
    "        return self.gender\n",
    "    \n",
    "class Male(Person):\n",
    "    def __init__(self,gender):\n",
    "        Person.__init__(self,gender)\n",
    "        \n",
    "class Female(Person):\n",
    "    def __init__(self,gender):\n",
    "        Person.__init__(self,gender)\n"
   ]
  },
  {
   "cell_type": "code",
   "execution_count": 32,
   "id": "d6cf2ec0",
   "metadata": {},
   "outputs": [],
   "source": [
    "Roy = Male(\"Male\")\n",
    "Mili = Female(\"Female\")"
   ]
  },
  {
   "cell_type": "code",
   "execution_count": 34,
   "id": "9d59afdc",
   "metadata": {},
   "outputs": [
    {
     "data": {
      "text/plain": [
       "'Female'"
      ]
     },
     "execution_count": 34,
     "metadata": {},
     "output_type": "execute_result"
    }
   ],
   "source": [
    "Roy.get_gender()\n",
    "Mili.get_gender()"
   ]
  },
  {
   "cell_type": "code",
   "execution_count": 38,
   "id": "66516656",
   "metadata": {},
   "outputs": [
    {
     "name": "stdout",
     "output_type": "stream",
     "text": [
      "I Play Hockey\n",
      "I Play Football\n",
      "I Love Hockey\n",
      "I Love Football\n",
      "You Play Hockey\n",
      "You Play Football\n",
      "You Love Hockey\n",
      "You Love Football\n"
     ]
    }
   ],
   "source": [
    "#Q4\n",
    "\n",
    "sub = [\"I\",\"You\"]\n",
    "verb = [\"Play\",\"Love\"]\n",
    "obj = [\"Hockey\",\"Football\"]\n",
    "\n",
    "for s in sub:\n",
    "    for v in verb:\n",
    "        for o in obj:\n",
    "            print(s +\" \"+ v+ \" \" + o)"
   ]
  },
  {
   "cell_type": "code",
   "execution_count": 51,
   "id": "cb03798e",
   "metadata": {},
   "outputs": [
    {
     "name": "stdout",
     "output_type": "stream",
     "text": [
      "The size of the orinal string is 81\n",
      "the size of compressed string is 56\n",
      "the size of decompressed string is 81\n"
     ]
    }
   ],
   "source": [
    "#Q5\n",
    "import zlib\n",
    "import sys\n",
    "\n",
    "str_input = \"hello world!hello world!hello world!hello world!\"\n",
    "str_to_byt = bytes(str_input,'ascii')\n",
    "print(\"The size of the orinal string is {}\".format(sys.getsizeof(str_to_byt)))\n",
    "\n",
    "#compressing string\n",
    "compress = zlib.compress(str_to_byt)\n",
    "print(\"the size of compressed string is {}\".format(sys.getsizeof(compress)))\n",
    "\n",
    "#decompressing string\n",
    "decompress = zlib.decompress(compress)\n",
    "print(\"the size of decompressed string is {}\".format(sys.getsizeof(decompress)))\n",
    "\n"
   ]
  },
  {
   "cell_type": "code",
   "execution_count": 15,
   "id": "19e432ca",
   "metadata": {},
   "outputs": [
    {
     "name": "stdout",
     "output_type": "stream",
     "text": [
      "18\n",
      "0\n",
      "10\n"
     ]
    }
   ],
   "source": [
    "#Q6\n",
    "import math as mt\n",
    "sortd_ls = [1,2,3,4,5,6,7,8,9,11,22,33,44,55,66,77,88,99,100]\n",
    "\n",
    "def binSearch(val, srtd_ls):\n",
    "    '''input: a value(val) and list\n",
    "    output: returns the index of the given number in that list'''\n",
    "\n",
    "    org_ls = srtd_ls.copy()\n",
    "    lb = 0\n",
    "    ub = len(srtd_ls)\n",
    "    md_pt_id = int((lb + ub) / 2)\n",
    "\n",
    "    for num in srtd_ls[lb:ub + 1]:\n",
    "        if val > srtd_ls[md_pt_id]:\n",
    "            lb = md_pt_id\n",
    "        elif val < srtd_ls[md_pt_id]:\n",
    "            ub = md_pt_id\n",
    "        else:\n",
    "            return org_ls.index(val)\n",
    "        md_pt_id = int((lb + ub) / 2)\n",
    "        \n",
    "print(binSearch(100, sortd_ls)) #corner case\n",
    "print(binSearch(1, sortd_ls))\n",
    "print(binSearch(22, sortd_ls))#corner case"
   ]
  },
  {
   "cell_type": "code",
   "execution_count": 21,
   "id": "0ca86617",
   "metadata": {},
   "outputs": [
    {
     "data": {
      "text/plain": [
       "[1, 2, 3, 4]"
      ]
     },
     "execution_count": 21,
     "metadata": {},
     "output_type": "execute_result"
    }
   ],
   "source": [
    "list(range(1,5))"
   ]
  },
  {
   "cell_type": "code",
   "execution_count": null,
   "id": "71c8dac1",
   "metadata": {},
   "outputs": [],
   "source": []
  }
 ],
 "metadata": {
  "kernelspec": {
   "display_name": "Python 3",
   "language": "python",
   "name": "python3"
  },
  "language_info": {
   "codemirror_mode": {
    "name": "ipython",
    "version": 3
   },
   "file_extension": ".py",
   "mimetype": "text/x-python",
   "name": "python",
   "nbconvert_exporter": "python",
   "pygments_lexer": "ipython3",
   "version": "3.8.8"
  }
 },
 "nbformat": 4,
 "nbformat_minor": 5
}
