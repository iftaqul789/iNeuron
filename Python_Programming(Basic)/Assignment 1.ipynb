{
 "cells": [
  {
   "cell_type": "code",
   "execution_count": 1,
   "id": "be20430f",
   "metadata": {},
   "outputs": [
    {
     "name": "stdout",
     "output_type": "stream",
     "text": [
      "Hello Python\n"
     ]
    }
   ],
   "source": [
    "#Q1\n",
    "def helloPrint():\n",
    "    print(\"Hello Python\")\n",
    "    \n",
    "helloPrint()"
   ]
  },
  {
   "cell_type": "code",
   "execution_count": 5,
   "id": "3d4088de",
   "metadata": {},
   "outputs": [
    {
     "data": {
      "text/plain": [
       "2.0"
      ]
     },
     "execution_count": 5,
     "metadata": {},
     "output_type": "execute_result"
    }
   ],
   "source": [
    "#Q2\n",
    "def addNum(a,b):\n",
    "    \n",
    "    '''Input : a , b any int or float\n",
    "       otput : sum of a and b any int or float'''\n",
    "    sum_val = a + b\n",
    "    return sum_val\n",
    "\n",
    "addNum(2,3)\n",
    "\n",
    "def divNum(a,b):\n",
    "    \n",
    "     '''Input : a , b  , type int or float and  b != 0.\n",
    "        otput : division of a and b, type float'''\n",
    "    div_val = a / b\n",
    "    return div_val\n",
    "\n",
    "divNum(6,3)"
   ]
  },
  {
   "cell_type": "code",
   "execution_count": 27,
   "id": "73f9e1db",
   "metadata": {},
   "outputs": [
    {
     "name": "stdout",
     "output_type": "stream",
     "text": [
      "The area of the given triangle is 3.0 sq unit\n"
     ]
    }
   ],
   "source": [
    "#Q3\n",
    "\n",
    "def AreaTriangle(b, h):\n",
    "    '''input : b = base and h = height of triangle, type int or float\n",
    "       output: area of triangle,type int or float'''\n",
    "    area = 0.5 * b * h\n",
    "    return print(\"The area of the given triangle is {} sq unit\".format(area))\n",
    "\n",
    "AreaTriangle(2,3)"
   ]
  },
  {
   "cell_type": "code",
   "execution_count": 15,
   "id": "e9f67963",
   "metadata": {},
   "outputs": [
    {
     "name": "stdout",
     "output_type": "stream",
     "text": [
      "5\n",
      "3\n"
     ]
    }
   ],
   "source": [
    "#Q4\n",
    "\n",
    "x = 3\n",
    "y = 5\n",
    "\n",
    "# to swap val\n",
    "(x,y) = (5,3)\n",
    "\n",
    "print(x)\n",
    "print(y)\n"
   ]
  },
  {
   "cell_type": "code",
   "execution_count": 25,
   "id": "cc1d9f1c",
   "metadata": {},
   "outputs": [
    {
     "data": {
      "text/plain": [
       "0.19896321407530437"
      ]
     },
     "execution_count": 25,
     "metadata": {},
     "output_type": "execute_result"
    }
   ],
   "source": [
    "#Q5\n",
    "import random\n",
    "\n",
    "def ranNum():\n",
    "    \"output: random number between zero to one , type float\"\n",
    "    a = random.random()\n",
    "    return a\n",
    "\n",
    "ranNum()"
   ]
  },
  {
   "cell_type": "code",
   "execution_count": null,
   "id": "698755f2",
   "metadata": {},
   "outputs": [],
   "source": []
  }
 ],
 "metadata": {
  "kernelspec": {
   "display_name": "Python 3",
   "language": "python",
   "name": "python3"
  },
  "language_info": {
   "codemirror_mode": {
    "name": "ipython",
    "version": 3
   },
   "file_extension": ".py",
   "mimetype": "text/x-python",
   "name": "python",
   "nbconvert_exporter": "python",
   "pygments_lexer": "ipython3",
   "version": "3.8.8"
  }
 },
 "nbformat": 4,
 "nbformat_minor": 5
}
