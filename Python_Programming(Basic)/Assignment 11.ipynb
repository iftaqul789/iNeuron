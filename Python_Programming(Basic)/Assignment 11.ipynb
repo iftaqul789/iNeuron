{
 "cells": [
  {
   "cell_type": "code",
   "execution_count": 4,
   "id": "a53433c5",
   "metadata": {},
   "outputs": [
    {
     "data": {
      "text/plain": [
       "['plane', 'cricket', 'great', 'flower']"
      ]
     },
     "execution_count": 4,
     "metadata": {},
     "output_type": "execute_result"
    }
   ],
   "source": [
    "#Q1\n",
    "\n",
    "lis_word = [\"boy\",\"girl\",\"plane\",\"cricket\",\"five\",\"great\",\"flower\"]\n",
    "\n",
    "def wrd_lst_grtr(k,ls):\n",
    "    \n",
    "    '''input: a list , a number int k\n",
    "    output: returns a list containing all the words of length greater than k'''\n",
    "    \n",
    "    grtr_len_lst = []\n",
    "    for w in ls:\n",
    "        if len(w) > k:\n",
    "            grtr_len_lst.append(w)\n",
    "    return grtr_len_lst  \n",
    "wrd_lst_grtr(4,lis_word)"
   ]
  },
  {
   "cell_type": "code",
   "execution_count": 21,
   "id": "c981df04",
   "metadata": {},
   "outputs": [
    {
     "data": {
      "text/plain": [
       "'abjcbjbj'"
      ]
     },
     "execution_count": 21,
     "metadata": {},
     "output_type": "execute_result"
    }
   ],
   "source": [
    "#Q2\n",
    "\n",
    "s = 'absjcbjbsj'\n",
    "\n",
    "def rmv_char(i,S):\n",
    "    '''input: a string (S) and a character(i)\n",
    "    output: removes all the character i from S, str'''\n",
    "    \n",
    "    nw_str = ''\n",
    "    for char in S:\n",
    "        if char not in i:\n",
    "            nw_str += char\n",
    "    return nw_str\n",
    "\n",
    "rmv_char('s',s)\n",
    "    "
   ]
  },
  {
   "cell_type": "code",
   "execution_count": 34,
   "id": "fb9ad77b",
   "metadata": {},
   "outputs": [
    {
     "name": "stdout",
     "output_type": "stream",
     "text": [
      "['agsvfgtfdc', 'asgeggaev', 'agsdhgvae', 'asgvv']\n",
      "agsvfgtfdcasgeggaevagsdhgvaeasgvv\n"
     ]
    }
   ],
   "source": [
    "#Q3\n",
    "\n",
    "my_str = \"agsvfgtfdc asgeggaev agsdhgvae asgvv\"\n",
    "\n",
    "def str_splt(x): # splits a string\n",
    "    splt = x.split()\n",
    "    return splt\n",
    "\n",
    "splt_lst = str_splt(my_str)\n",
    "print(splt_lst)\n",
    "\n",
    "def join_str(x): # joins a string \n",
    "    join_val = ''.join(x)\n",
    "    return join_val\n",
    "\n",
    "print(join_str(splt_lst))\n"
   ]
  },
  {
   "cell_type": "code",
   "execution_count": 37,
   "id": "29c568b5",
   "metadata": {},
   "outputs": [
    {
     "data": {
      "text/plain": [
       "True"
      ]
     },
     "execution_count": 37,
     "metadata": {},
     "output_type": "execute_result"
    }
   ],
   "source": [
    "#Q4\n",
    "\n",
    "bin_string = '10100010101'\n",
    "\n",
    "def isBinStr(x):\n",
    "    \n",
    "    '''input: a string\n",
    "    output: bool , checks wether a string is binary or not'''\n",
    "    \n",
    "    bin_set = set()\n",
    "    for b in x:\n",
    "        bin_set.add(b)\n",
    "    if bin_set == {\"1\",'0'} or bin_set == {\"0\"} or bin_set == {\"1\"}:\n",
    "        return True\n",
    "    else:\n",
    "        return False\n",
    "\n",
    "isBinStr(bin_string)"
   ]
  },
  {
   "cell_type": "code",
   "execution_count": 49,
   "id": "6e77b887",
   "metadata": {},
   "outputs": [
    {
     "name": "stdout",
     "output_type": "stream",
     "text": [
      "{'also', 'the', 'coding', 'world'}\n"
     ]
    }
   ],
   "source": [
    "#Q5\n",
    "\n",
    "\n",
    "str1 = 'the world is beautiful'\n",
    "str2 = 'coding is also beautiful'\n",
    "\n",
    "def uncomnWrds(a,b):\n",
    "    \n",
    "    '''input: two strings \n",
    "    output: string , uncommon words', set'''\n",
    "    \n",
    "    set1 = set(a.split())\n",
    "    set2 = set(b.split())\n",
    "    a_wrd = set1-set2\n",
    "    b_wrd = set2-set1\n",
    "    \n",
    "    uncmn_wrds = a_wrd | b_wrd\n",
    "    \n",
    "    return uncmn_wrds\n",
    " \n",
    "    \n",
    "print(uncomnWrds(str1,str2))\n",
    "        \n",
    "        \n",
    "    \n",
    "    \n"
   ]
  },
  {
   "cell_type": "code",
   "execution_count": 56,
   "id": "c88e093f",
   "metadata": {},
   "outputs": [
    {
     "data": {
      "text/plain": [
       "['a', 'b', 's', 'd', 'e']"
      ]
     },
     "execution_count": 56,
     "metadata": {},
     "output_type": "execute_result"
    }
   ],
   "source": [
    "#Q6 \n",
    "\n",
    "my_sts = \"aaabbbbbbsshdbdkelopeuaj\"\n",
    "def dupChar(x):\n",
    "    \n",
    "    '''input: a string\n",
    "    output: list , gives all the duplicate values'''\n",
    "    my_dict = {}\n",
    "    for char in x:\n",
    "        if char not in my_dict:\n",
    "            my_dict[char] = 0\n",
    "        my_dict[char] += 1\n",
    "    dup_lst = []\n",
    "    for k in my_dict:\n",
    "        if my_dict[k] >= 2:\n",
    "            dup_lst.append(k)\n",
    "    \n",
    "    return dup_lst\n",
    "dupChar(my_sts)"
   ]
  },
  {
   "cell_type": "code",
   "execution_count": 58,
   "id": "63f826d4",
   "metadata": {},
   "outputs": [],
   "source": [
    "#Q7\n",
    "import string\n",
    "def countSpclChar(x):\n",
    "    \n",
    "    '''input: a string\n",
    "    output: bool checks wether a string contains spcl character or not'''\n",
    "    for char in x:\n",
    "        if char "
   ]
  },
  {
   "cell_type": "code",
   "execution_count": 60,
   "id": "fe43911e",
   "metadata": {},
   "outputs": [
    {
     "data": {
      "text/plain": [
       "'!\"#$%&\\'()*+,-./:;<=>?@[\\\\]^_`{|}~'"
      ]
     },
     "execution_count": 60,
     "metadata": {},
     "output_type": "execute_result"
    }
   ],
   "source": [
    "string.punctuation"
   ]
  },
  {
   "cell_type": "code",
   "execution_count": null,
   "id": "67b45e37",
   "metadata": {},
   "outputs": [],
   "source": []
  }
 ],
 "metadata": {
  "kernelspec": {
   "display_name": "Python 3",
   "language": "python",
   "name": "python3"
  },
  "language_info": {
   "codemirror_mode": {
    "name": "ipython",
    "version": 3
   },
   "file_extension": ".py",
   "mimetype": "text/x-python",
   "name": "python",
   "nbconvert_exporter": "python",
   "pygments_lexer": "ipython3",
   "version": "3.8.8"
  }
 },
 "nbformat": 4,
 "nbformat_minor": 5
}
