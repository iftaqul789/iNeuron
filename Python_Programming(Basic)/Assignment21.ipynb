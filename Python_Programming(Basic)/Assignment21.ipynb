{
 "cells": [
  {
   "cell_type": "code",
   "execution_count": 9,
   "id": "3c44ee75",
   "metadata": {},
   "outputs": [
    {
     "data": {
      "text/plain": [
       "[6, 7, 8, 9, 1]"
      ]
     },
     "execution_count": 9,
     "metadata": {},
     "output_type": "execute_result"
    }
   ],
   "source": [
    "#Q1\n",
    "\n",
    "def next_in_line(x,n):\n",
    "    \n",
    "    '''input:list\n",
    "    output:list'''\n",
    "    \n",
    "    updt_ls = x.copy()\n",
    "    updt_ls.append(n)\n",
    "    updt_ls.remove(updt_ls[0])\n",
    "    return updt_ls\n",
    "\n",
    "next_in_line([5,6,7,8,9],1)"
   ]
  },
  {
   "cell_type": "code",
   "execution_count": 18,
   "id": "508abc2d",
   "metadata": {},
   "outputs": [
    {
     "data": {
      "text/plain": [
       "60000"
      ]
     },
     "execution_count": 18,
     "metadata": {},
     "output_type": "execute_result"
    }
   ],
   "source": [
    "#Q2\n",
    "\n",
    "my_dict = [{\"name\":\"jhon\",\"age\": 22, \"budget\": 10000},\n",
    "           {\"name\":\"Ram\",\"age\": 52, \"budget\": 20000},\n",
    "           {\"name\":\"Sham\",\"age\": 29, \"budget\": 30000}]\n",
    "\n",
    "def get_budget(x):\n",
    "    \n",
    "    '''input: list of deictionaries\n",
    "    output: int, budget total'''\n",
    "    \n",
    "    tot_budget = 0\n",
    "    for d in x:\n",
    "        tot_budget += d['budget']\n",
    "    return tot_budget\n",
    "\n",
    "get_budget(my_dict)"
   ]
  },
  {
   "cell_type": "code",
   "execution_count": 21,
   "id": "07c3d4a4",
   "metadata": {},
   "outputs": [
    {
     "data": {
      "text/plain": [
       "'adgggs'"
      ]
     },
     "execution_count": 21,
     "metadata": {},
     "output_type": "execute_result"
    }
   ],
   "source": [
    "#Q3\n",
    "\n",
    "def alphabet_soup(x):\n",
    "    \n",
    "    '''input: string\n",
    "    ouput: sorted string'''\n",
    "    \n",
    "    \n",
    "    soup= ''\n",
    "    for char in sorted(x):\n",
    "        soup += char\n",
    "    return soup\n",
    "\n",
    "alphabet_soup(\"gaggsd\")"
   ]
  },
  {
   "cell_type": "code",
   "execution_count": 31,
   "id": "00874b09",
   "metadata": {},
   "outputs": [
    {
     "data": {
      "text/plain": [
       "15399.264120852586"
      ]
     },
     "execution_count": 31,
     "metadata": {},
     "output_type": "execute_result"
    }
   ],
   "source": [
    "#Q4\n",
    "\n",
    "def compound_interest(p,t,r,term):\n",
    "    \n",
    "    '''input: principle amt(p), time(t) in years,r = rate (%),term = no.of times compund intr is added\n",
    "    output: final value of investment'''\n",
    "    \n",
    "    final_val = p*((1+ r/term))**(term*t)\n",
    "    return final_val\n",
    "\n",
    "compound_interest(3500,15,0.1,4)"
   ]
  },
  {
   "cell_type": "code",
   "execution_count": 38,
   "id": "ce2da716",
   "metadata": {},
   "outputs": [
    {
     "data": {
      "text/plain": [
       "[1, 3, 4, 0]"
      ]
     },
     "execution_count": 38,
     "metadata": {},
     "output_type": "execute_result"
    }
   ],
   "source": [
    "#Q5\n",
    "\n",
    "def return_only_integer(x):\n",
    "    return [char for char in x if type(char) == int ]\n",
    "\n",
    "return_only_integer([\"a\",1,3,4,\"kd\",\"sdgdhg\",0])"
   ]
  },
  {
   "cell_type": "code",
   "execution_count": null,
   "id": "ac7e082a",
   "metadata": {},
   "outputs": [],
   "source": []
  },
  {
   "cell_type": "code",
   "execution_count": null,
   "id": "1af78c7e",
   "metadata": {},
   "outputs": [],
   "source": []
  }
 ],
 "metadata": {
  "kernelspec": {
   "display_name": "Python 3",
   "language": "python",
   "name": "python3"
  },
  "language_info": {
   "codemirror_mode": {
    "name": "ipython",
    "version": 3
   },
   "file_extension": ".py",
   "mimetype": "text/x-python",
   "name": "python",
   "nbconvert_exporter": "python",
   "pygments_lexer": "ipython3",
   "version": "3.8.8"
  }
 },
 "nbformat": 4,
 "nbformat_minor": 5
}
