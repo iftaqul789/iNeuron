{
 "cells": [
  {
   "cell_type": "code",
   "execution_count": 8,
   "id": "75c38440",
   "metadata": {},
   "outputs": [
    {
     "data": {
      "text/plain": [
       "10"
      ]
     },
     "execution_count": 8,
     "metadata": {},
     "output_type": "execute_result"
    }
   ],
   "source": [
    "#Q1\n",
    "\n",
    "def sumLst(x):\n",
    "    \n",
    "    '''input : list of numbers(int/float)\n",
    "    output: sum of the all the elements og the given lis , int'''\n",
    "    \n",
    "    val = 0\n",
    "    for num in x:\n",
    "        val += num\n",
    "    return val\n",
    "my_lst = [1,2,3,4]\n",
    "\n",
    "sumLst(my_lst)"
   ]
  },
  {
   "cell_type": "code",
   "execution_count": 9,
   "id": "c885bdad",
   "metadata": {},
   "outputs": [
    {
     "data": {
      "text/plain": [
       "24"
      ]
     },
     "execution_count": 9,
     "metadata": {},
     "output_type": "execute_result"
    }
   ],
   "source": [
    "#Q2\n",
    "\n",
    "def multLst(x):\n",
    "    '''input : list of numbers(int/float)\n",
    "    output: multiplication of the all the elements og the given lis , int'''\n",
    "    \n",
    "    val = 1\n",
    "    for num in x:\n",
    "        val *= num\n",
    "    return val\n",
    "multLst(my_lst)"
   ]
  },
  {
   "cell_type": "code",
   "execution_count": 11,
   "id": "0ea926b8",
   "metadata": {},
   "outputs": [
    {
     "data": {
      "text/plain": [
       "1"
      ]
     },
     "execution_count": 11,
     "metadata": {},
     "output_type": "execute_result"
    }
   ],
   "source": [
    "#Q3\n",
    "\n",
    "def SmallNumLst(x):\n",
    "    \n",
    "    '''input : list of numbers(int/float)\n",
    "    output: smallest number in the list , int'''\n",
    "    \n",
    "    srt_lst = sorted(x)\n",
    "    return srt_lst[0]\n",
    "\n",
    "SmallNumLst(my_lst)"
   ]
  },
  {
   "cell_type": "code",
   "execution_count": 12,
   "id": "44bb5b23",
   "metadata": {},
   "outputs": [
    {
     "data": {
      "text/plain": [
       "4"
      ]
     },
     "execution_count": 12,
     "metadata": {},
     "output_type": "execute_result"
    }
   ],
   "source": [
    "# Q4\n",
    "\n",
    "def largNumLst(x):\n",
    "    \n",
    "     '''input : list of numbers(int/float)\n",
    "    output: Largest  number in the list , int'''\n",
    "    \n",
    "    srt_lst = sorted(x, reverse = True)\n",
    "    return srt_lst[0]\n",
    "largNumLst(my_lst)"
   ]
  },
  {
   "cell_type": "code",
   "execution_count": 13,
   "id": "0a2f5fe9",
   "metadata": {},
   "outputs": [
    {
     "data": {
      "text/plain": [
       "3"
      ]
     },
     "execution_count": 13,
     "metadata": {},
     "output_type": "execute_result"
    }
   ],
   "source": [
    "#Q5\n",
    "\n",
    "def scndlargNumLst(x):\n",
    "    \n",
    "     '''input : list of numbers(int/float)\n",
    "    output: 2nd largest number in the list , int'''\n",
    "    \n",
    "    srt_lst = sorted(x, reverse = True)\n",
    "    return srt_lst[1]\n",
    "scndlargNumLst(my_lst)"
   ]
  },
  {
   "cell_type": "code",
   "execution_count": 22,
   "id": "40834819",
   "metadata": {},
   "outputs": [
    {
     "data": {
      "text/plain": [
       "[1, 2]"
      ]
     },
     "execution_count": 22,
     "metadata": {},
     "output_type": "execute_result"
    }
   ],
   "source": [
    "# Q6\n",
    "\n",
    "def largElmns(N,x):\n",
    "    \n",
    "    '''input : list of numbers(int/float)\n",
    "    output: N largest numbers in the list, X is list , list'''\n",
    "    \n",
    "    srt_lst = sorted(x)\n",
    "    return srt_lst[0:N]\n",
    "largElmns(2,my_lst)"
   ]
  },
  {
   "cell_type": "code",
   "execution_count": 23,
   "id": "63933e58",
   "metadata": {},
   "outputs": [
    {
     "data": {
      "text/plain": [
       "[2, 4]"
      ]
     },
     "execution_count": 23,
     "metadata": {},
     "output_type": "execute_result"
    }
   ],
   "source": [
    "#Q7\n",
    "\n",
    "def evnLst(x):\n",
    "    \n",
    "     \n",
    "    '''input : list of numbers(int/float)\n",
    "    output: list of even numbers  , list'''\n",
    "    \n",
    "    evn_num = []\n",
    "    for num in x:\n",
    "        if num%2 == 0:\n",
    "            evn_num.append(num)\n",
    "    return evn_num\n",
    "\n",
    "evnLst(my_lst)"
   ]
  },
  {
   "cell_type": "code",
   "execution_count": 25,
   "id": "a20c58fb",
   "metadata": {},
   "outputs": [
    {
     "data": {
      "text/plain": [
       "[1, 3]"
      ]
     },
     "execution_count": 25,
     "metadata": {},
     "output_type": "execute_result"
    }
   ],
   "source": [
    "#Q8\n",
    "\n",
    "def oddLst(x):\n",
    "      \n",
    "    '''input : list of numbers(int/float)\n",
    "    output: list of even numbers  , list'''\n",
    "    \n",
    "    odd_lst = []\n",
    "    for num in x:\n",
    "        if num%2 != 0:\n",
    "            odd_lst.append(num)\n",
    "    return odd_lst\n",
    "\n",
    "oddLst(my_lst)"
   ]
  },
  {
   "cell_type": "code",
   "execution_count": 27,
   "id": "8671f4b2",
   "metadata": {},
   "outputs": [
    {
     "data": {
      "text/plain": [
       "[[1, 2], [1, 2, 3], ['a', 'b']]"
      ]
     },
     "execution_count": 27,
     "metadata": {},
     "output_type": "execute_result"
    }
   ],
   "source": [
    "#Q9\n",
    "ls = [[1,2],[],[1,2,3],[\"a\",'b'],[]]\n",
    "\n",
    "def rmvEmptLst(x):\n",
    "    \n",
    "    '''input: a list\n",
    "    output : list, removes all the empty list inside the list'''\n",
    "    \n",
    "    for l in x:\n",
    "        if len(l) == 0:\n",
    "            x.remove(l)\n",
    "    return x\n",
    "rmvEmptLst(ls)"
   ]
  },
  {
   "cell_type": "code",
   "execution_count": 29,
   "id": "2a89de59",
   "metadata": {},
   "outputs": [
    {
     "data": {
      "text/plain": [
       "[[1, 2], [1, 2, 3], ['a', 'b']]"
      ]
     },
     "execution_count": 29,
     "metadata": {},
     "output_type": "execute_result"
    }
   ],
   "source": [
    "#Q10\n",
    "\n",
    "def cpyLst(x):\n",
    "    \n",
    "    '''input: list\n",
    "    output: a list, copy of original list'''\n",
    "    \n",
    "    l = x.copy()\n",
    "    return l\n",
    "cpyLst(ls)"
   ]
  },
  {
   "cell_type": "code",
   "execution_count": 33,
   "id": "f1d5ac63",
   "metadata": {},
   "outputs": [
    {
     "data": {
      "text/plain": [
       "{'a': 2, 'b': 3, 'c': 4, 1: 2, 2: 2, 3: 1, 4: 2, 5: 2, 7: 1, 67: 1, 8: 1}"
      ]
     },
     "execution_count": 33,
     "metadata": {},
     "output_type": "execute_result"
    }
   ],
   "source": [
    "#Q11\n",
    "\n",
    "def countElm(x):\n",
    "    '''input: a list\n",
    "    output: dict, with key as elemnts and value as number of their occurances in the list'''\n",
    "    \n",
    "    my_dict = {}\n",
    "    for i in x:\n",
    "        if i not in my_dict:\n",
    "            my_dict[i] = 0\n",
    "        my_dict[i] += 1\n",
    "    return my_dict\n",
    "\n",
    "\n",
    "ls1 = ['a','b','c',1,2,3,1,4,5,2,7,'a','b','b','c','c','c',4,5,67,8]\n",
    "\n",
    "countElm(ls1)"
   ]
  },
  {
   "cell_type": "code",
   "execution_count": null,
   "id": "ed73af6a",
   "metadata": {},
   "outputs": [],
   "source": []
  }
 ],
 "metadata": {
  "kernelspec": {
   "display_name": "Python 3",
   "language": "python",
   "name": "python3"
  },
  "language_info": {
   "codemirror_mode": {
    "name": "ipython",
    "version": 3
   },
   "file_extension": ".py",
   "mimetype": "text/x-python",
   "name": "python",
   "nbconvert_exporter": "python",
   "pygments_lexer": "ipython3",
   "version": "3.8.8"
  }
 },
 "nbformat": 4,
 "nbformat_minor": 5
}
