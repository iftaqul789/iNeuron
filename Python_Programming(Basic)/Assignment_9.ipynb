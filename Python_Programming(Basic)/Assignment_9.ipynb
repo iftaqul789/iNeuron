{
 "cells": [
  {
   "cell_type": "code",
   "execution_count": 1,
   "id": "b621064e",
   "metadata": {},
   "outputs": [],
   "source": [
    "import math as mt"
   ]
  },
  {
   "cell_type": "code",
   "execution_count": 10,
   "id": "49f52d85",
   "metadata": {},
   "outputs": [
    {
     "data": {
      "text/plain": [
       "True"
      ]
     },
     "execution_count": 10,
     "metadata": {},
     "output_type": "execute_result"
    }
   ],
   "source": [
    "#Q1\n",
    "\n",
    "def isDisarium(x):\n",
    "    \n",
    "    '''input = any number\n",
    "    output = bool, checks wether the number is disarium or not'''\n",
    "    \n",
    "    num_str = str(x)\n",
    "    sum_val = 0\n",
    "    power = 1\n",
    "    for n in num_str:\n",
    "        val = int(n)**power\n",
    "        sum_val += val\n",
    "        power += 1\n",
    "    return (sum_val == x)\n",
    "isDisarium(135)"
   ]
  },
  {
   "cell_type": "code",
   "execution_count": 9,
   "id": "ff4c9a8b",
   "metadata": {},
   "outputs": [
    {
     "data": {
      "text/plain": [
       "[1, 2, 3, 4, 5, 6, 7, 8, 9, 89]"
      ]
     },
     "execution_count": 9,
     "metadata": {},
     "output_type": "execute_result"
    }
   ],
   "source": [
    "#Q2\n",
    "\n",
    "\n",
    "def isDisarium(x):\n",
    "    \n",
    "    '''input = any number\n",
    "    output = bool, checks wether the number is disarium or not'''\n",
    "    \n",
    "    num_str = str(x)\n",
    "    sum_val = 0\n",
    "    power = 1\n",
    "    for n in num_str:\n",
    "        val = int(n)**power\n",
    "        sum_val += val\n",
    "        power += 1\n",
    "    return (sum_val == x)\n",
    "\n",
    "\n",
    "def disaNum(lb,ub):\n",
    "    \n",
    "    '''input: lb, ub lower and upper bound of a range, type must be int.\n",
    "    output: gives the list of all the disarium numbres in the given range'''\n",
    "    \n",
    "    dis_nums = []\n",
    "    for num in range(lb,ub+1):\n",
    "        if isDisarium(num):\n",
    "            dis_nums.append(num)\n",
    "    return dis_nums\n",
    "\n",
    "disaNum(1,100)\n"
   ]
  },
  {
   "cell_type": "code",
   "execution_count": 74,
   "id": "a8c30a5e",
   "metadata": {},
   "outputs": [
    {
     "data": {
      "text/plain": [
       "True"
      ]
     },
     "execution_count": 74,
     "metadata": {},
     "output_type": "execute_result"
    }
   ],
   "source": [
    "#Q3\n",
    "\n",
    "def isHappy(x):\n",
    "    if x == 1:\n",
    "        return True\n",
    "    else:\n",
    "        num_set = set()\n",
    "        sum_val = 0\n",
    "        for i in str(x):\n",
    "            num_set.add(x)\n",
    "            val = int(i)**2\n",
    "            sum_val += val\n",
    "        if sum_val == 1:\n",
    "            return True\n",
    "        elif sum_val in num_set:\n",
    "            return False\n",
    "        else:\n",
    "            num_set.add(sum_val)\n",
    "            return isHappy(sum_val)\n",
    "\n",
    "isHappy(13)\n",
    "            "
   ]
  },
  {
   "cell_type": "code",
   "execution_count": 58,
   "id": "8a1d4a5e",
   "metadata": {},
   "outputs": [
    {
     "data": {
      "text/plain": [
       "True"
      ]
     },
     "execution_count": 58,
     "metadata": {},
     "output_type": "execute_result"
    }
   ],
   "source": [
    "#Q4 \n",
    "\n",
    "def happyNums(lb,ub):\n",
    "    happy_nums = []\n",
    "    for i in range(lb,ub):\n",
    "        if isHappy(i):\n",
    "            happy_nums.append(i)\n",
    "    return happy_nums\n",
    "        "
   ]
  },
  {
   "cell_type": "code",
   "execution_count": 68,
   "id": "5842c24a",
   "metadata": {},
   "outputs": [
    {
     "data": {
      "text/plain": [
       "True"
      ]
     },
     "execution_count": 68,
     "metadata": {},
     "output_type": "execute_result"
    }
   ],
   "source": [
    "#Q5\n",
    "\n",
    "def SumDig(x):\n",
    "    \n",
    "    '''input: type int \n",
    "    output: bool , checks wether a number is harshad number or not'''\n",
    "    \n",
    "    sum_dig = 0\n",
    "    for i in str(x):\n",
    "        n = x%10\n",
    "        sum_dig += n\n",
    "        x = int(x/10)\n",
    "    return sum_dig\n",
    "\n",
    "def isHarshadNum(x):\n",
    "    sum_val = SumDig(x)\n",
    "    return (x%sum_val == 0)\n",
    "isHarshadNum(21)"
   ]
  },
  {
   "cell_type": "code",
   "execution_count": 69,
   "id": "089529b1",
   "metadata": {},
   "outputs": [
    {
     "data": {
      "text/plain": [
       "[0, 2, 6, 12, 20, 30, 42, 56, 72, 90]"
      ]
     },
     "execution_count": 69,
     "metadata": {},
     "output_type": "execute_result"
    }
   ],
   "source": [
    "#Q6\n",
    "\n",
    "def pronicNums(lb,ub):\n",
    "    \n",
    "    '''input: lb,ub upper bound and lower bound of a range\n",
    "    output: list, all pronic numbers between the given range'''\n",
    "    \n",
    "    prnc_num = []\n",
    "    for i in range(lb,ub+1):\n",
    "        p_num = i*(i+1)\n",
    "        if p_num <= 100:\n",
    "            prnc_num.append(p_num)\n",
    "        if p_num > 100:\n",
    "            break\n",
    "    return prnc_num\n",
    "\n",
    "pronicNums(0,100)"
   ]
  }
 ],
 "metadata": {
  "kernelspec": {
   "display_name": "Python 3",
   "language": "python",
   "name": "python3"
  },
  "language_info": {
   "codemirror_mode": {
    "name": "ipython",
    "version": 3
   },
   "file_extension": ".py",
   "mimetype": "text/x-python",
   "name": "python",
   "nbconvert_exporter": "python",
   "pygments_lexer": "ipython3",
   "version": "3.8.8"
  }
 },
 "nbformat": 4,
 "nbformat_minor": 5
}
