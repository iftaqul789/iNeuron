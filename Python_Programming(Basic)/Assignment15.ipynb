{
 "cells": [
  {
   "cell_type": "code",
   "execution_count": 14,
   "id": "3fc8c165",
   "metadata": {},
   "outputs": [
    {
     "name": "stdout",
     "output_type": "stream",
     "text": [
      "Please enter your number100\n",
      "0,35,70\n",
      "\n",
      "\n"
     ]
    }
   ],
   "source": [
    "\n",
    "#Q1\n",
    "\n",
    "import csv\n",
    "\n",
    "def divByFS(x):\n",
    "    \n",
    "    '''input: takes any int val\n",
    "    output: generates int values that are divisible by both 5 and 7, excluding x , csv frmt'''\n",
    "    \n",
    "    for num in range(x):\n",
    "        if num%5 == 0 and num%7 ==0:\n",
    "            yield num\n",
    "\n",
    "            \n",
    "#user input\n",
    "n = int(input(\"Please enter your number\"))\n",
    "\n",
    "\n",
    "num_ls = [] #list to append the outyput values\n",
    "\n",
    "for num in divByFS(n+1):\n",
    "    num_ls.append(num)\n",
    "\n",
    "with open('Data/a15/q1.csv', 'w') as f:\n",
    "    \n",
    "    writer = csv.writer(f)\n",
    "    writer.writerow(num_ls)\n",
    "\n",
    "my_file = open('Data/a15/q1.csv','r')\n",
    "\n",
    "print(my_file.read())\n",
    "\n",
    "file.close()\n",
    "\n",
    "\n",
    "# output csv file link\n",
    "# https://github.com/iftaqul789/iNeuron/blob/main/Python_Programming(Basic)/Data/q1.csv\n",
    "\n",
    "\n",
    "\n",
    "\n",
    "    \n",
    "\n"
   ]
  },
  {
   "cell_type": "code",
   "execution_count": 60,
   "id": "f9368288",
   "metadata": {},
   "outputs": [
    {
     "name": "stdout",
     "output_type": "stream",
     "text": [
      "Please enter your number..100\n",
      "0,2,4,6,8,10,12,14,16,18,20,22,24,26,28,30,32,34,36,38,40,42,44,46,48,50,52,54,56,58,60,62,64,66,68,70,72,74,76,78,80,82,84,86,88,90,92,94,96,98,100\n",
      "\n",
      "\n"
     ]
    }
   ],
   "source": [
    "#Q2\n",
    "\n",
    "import csv\n",
    "\n",
    "def evnNum(x):\n",
    "    \n",
    "    '''input: takes any int val\n",
    "    output: generates even values between 0 to x , excluding x, csv frmt'''\n",
    "    \n",
    "    for num in range(x):\n",
    "        if num%2 == 0:\n",
    "            yield num\n",
    "\n",
    "n = int(input(\"Please enter your number..\"))\n",
    "\n",
    "evnLs = []\n",
    "\n",
    "for num in evnNum(n+1):\n",
    "    evnLs.append(num)\n",
    "\n",
    "with open(\"Data/a15/q2.csv\", 'w') as f:\n",
    "    \n",
    "    writer = csv.writer(f)\n",
    "    writer.writerow(evnLs)\n",
    "\n",
    "file = open(\"Data/a15/q2.csv\", 'r')\n",
    "\n",
    "print(file.read())\n",
    "\n",
    "file.close()\n",
    "\n",
    "\n",
    "#output csv file\n",
    "#https://github.com/iftaqul789/iNeuron/blob/main/Python_Programming(Basic)/Data/q2.csv\n"
   ]
  },
  {
   "cell_type": "code",
   "execution_count": null,
   "id": "31adc6fb",
   "metadata": {},
   "outputs": [],
   "source": []
  },
  {
   "cell_type": "code",
   "execution_count": 17,
   "id": "e1fad384",
   "metadata": {},
   "outputs": [
    {
     "data": {
      "text/plain": [
       "'John'"
      ]
     },
     "execution_count": 17,
     "metadata": {},
     "output_type": "execute_result"
    }
   ],
   "source": [
    "#Q4\n",
    "\n",
    "def getUsrName(x):\n",
    "    \n",
    "    \"input:string, in frmal name@compyname.com\"\n",
    "    '''output: str name'''\n",
    "    \n",
    "    user_name = x.split(\"@\")\n",
    "    return user_name[0]\n",
    "\n",
    "\n",
    "email = 'John@comany.com'\n",
    "\n",
    "getUsrName(email)"
   ]
  },
  {
   "cell_type": "code",
   "execution_count": 78,
   "id": "b3edf2e6",
   "metadata": {},
   "outputs": [
    {
     "name": "stdout",
     "output_type": "stream",
     "text": [
      "0\n",
      "Rectangle\n",
      "The area of the square is 9\n"
     ]
    }
   ],
   "source": [
    "#Q5\n",
    "\n",
    "class Shape():\n",
    "    \n",
    "    def __init__(self,x):\n",
    "        self.x = x\n",
    "    def get_shape(self):\n",
    "        return self.x\n",
    "    \n",
    "    def area(self):\n",
    "        area_val = 0\n",
    "        return area_val\n",
    "    \n",
    "\n",
    "class Square(Shape):\n",
    "    \n",
    "    def __init__(self,length):\n",
    "        super().__init__(self)\n",
    "        self.length = length\n",
    "    \n",
    "    def area(self):\n",
    "        return \"The area of the square is {}\".format(self.length**2)\n",
    "    \n",
    "\n",
    "a = Shape(\"Rectangle\")\n",
    "b = Square(3)\n",
    "\n",
    "print(a.area())\n",
    "print(a.get_shape())\n",
    "print(b.area())"
   ]
  },
  {
   "cell_type": "code",
   "execution_count": 71,
   "id": "b9c4cd2a",
   "metadata": {},
   "outputs": [
    {
     "name": "stdout",
     "output_type": "stream",
     "text": [
      "0,1,1,2,3,5,8,13,21,34,55\n",
      "\n",
      "\n"
     ]
    }
   ],
   "source": [
    "#Q3\n",
    "\n",
    "import csv\n",
    "def fibo(x):\n",
    "    \n",
    "    '''input: any integer(x)\n",
    "    output: csv , fibonachi numbers x+1 nums '''\n",
    "    \n",
    "    fibo_i = [0,1]\n",
    "    fibo_ls= [fibo_i.append(fibo_i[-1] + fibo_i[-2]) for i in range(x-1) ]\n",
    "    \n",
    "    with open(\"Data/a15/q3.csv\", 'w') as f:\n",
    "        \n",
    "        file = csv.writer(f)\n",
    "        file.writerow(fibo_i)\n",
    "        \n",
    "    f = open(\"Data/a15/q3.csv\", 'r')\n",
    "    content = f.read()\n",
    "    return print(content)\n",
    "fibo(10)\n",
    "\n",
    "\n",
    "#output csv file link\n",
    "#https://github.com/iftaqul789/iNeuron/blob/main/Python_Programming(Basic)/Data/q3.csv\n",
    "\n"
   ]
  },
  {
   "cell_type": "code",
   "execution_count": null,
   "id": "b3535d57",
   "metadata": {},
   "outputs": [],
   "source": []
  }
 ],
 "metadata": {
  "kernelspec": {
   "display_name": "Python 3",
   "language": "python",
   "name": "python3"
  },
  "language_info": {
   "codemirror_mode": {
    "name": "ipython",
    "version": 3
   },
   "file_extension": ".py",
   "mimetype": "text/x-python",
   "name": "python",
   "nbconvert_exporter": "python",
   "pygments_lexer": "ipython3",
   "version": "3.8.8"
  }
 },
 "nbformat": 4,
 "nbformat_minor": 5
}
