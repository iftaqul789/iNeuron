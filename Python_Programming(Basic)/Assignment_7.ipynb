{
 "cells": [
  {
   "cell_type": "code",
   "execution_count": 1,
   "id": "e8f1c90f",
   "metadata": {},
   "outputs": [],
   "source": [
    "import numpy as np"
   ]
  },
  {
   "cell_type": "code",
   "execution_count": 3,
   "id": "2908009e",
   "metadata": {},
   "outputs": [
    {
     "data": {
      "text/plain": [
       "6"
      ]
     },
     "execution_count": 3,
     "metadata": {},
     "output_type": "execute_result"
    }
   ],
   "source": [
    "#Q1\n",
    "ary1 = np.array([1,2,3])\n",
    "def sum_ary(x):\n",
    "    \n",
    "    '''input : any array of numbers 1D\n",
    "       output: sum of the elements of array'''\n",
    "    \n",
    "    return x.sum()\n",
    "sum_ary(ary1)"
   ]
  },
  {
   "cell_type": "code",
   "execution_count": 4,
   "id": "af066f7a",
   "metadata": {},
   "outputs": [
    {
     "data": {
      "text/plain": [
       "3"
      ]
     },
     "execution_count": 4,
     "metadata": {},
     "output_type": "execute_result"
    }
   ],
   "source": [
    "#Q2\n",
    "\n",
    "def lg_elemnt(x):\n",
    "    \n",
    "    '''input: any array 1D of numbers\n",
    "    output: returns the hioghest element in the given array'''\n",
    "    \n",
    "    high_val = 0\n",
    "    for num in x:\n",
    "        if num > high_val:\n",
    "            high_val = num\n",
    "    return high_val\n",
    "\n",
    "lg_elemnt(ary1)"
   ]
  },
  {
   "cell_type": "code",
   "execution_count": 5,
   "id": "b9aef8b1",
   "metadata": {},
   "outputs": [
    {
     "data": {
      "text/plain": [
       "array([3, 2, 1])"
      ]
     },
     "execution_count": 5,
     "metadata": {},
     "output_type": "execute_result"
    }
   ],
   "source": [
    "#Q3\n",
    "\n",
    "def rotate_arry(x):\n",
    "    \n",
    "    '''input: 1D array\n",
    "    output: rotates the 1D array elements'''\n",
    "    return x[::-1]\n",
    "rotate_arry(ary1)"
   ]
  },
  {
   "cell_type": "code",
   "execution_count": 35,
   "id": "07e0431e",
   "metadata": {},
   "outputs": [
    {
     "data": {
      "text/plain": [
       "array([4, 5, 1, 2, 3])"
      ]
     },
     "execution_count": 35,
     "metadata": {},
     "output_type": "execute_result"
    }
   ],
   "source": [
    "#Q4\n",
    "import math as mt\n",
    "\n",
    "def splt_arry(x):\n",
    "    \n",
    "    '''input : 1D array\n",
    "    output: 1D array in reverse oreder after spliting in mid point'''\n",
    "    \n",
    "    length = len(x)\n",
    "    if length%2 == 0: #even Case\n",
    "        md_pt = int(length/2)\n",
    "        ar1 = x[0:md_pt]\n",
    "        ar2 = x[md_pt:]\n",
    "        return np.concatenate((ar2,ar1), axis = None)\n",
    "    else:\n",
    "        md_pt = int(mt.ceil(length/2)) #odd case\n",
    "        ar1 = x[0:md_pt]\n",
    "        ar2 = x[md_pt:]\n",
    "        return np.concatenate((ar2,ar1), axis = None)\n",
    "    \n",
    "a = np.array([1,2,3,4,5])\n",
    "\n",
    "splt_arry(a)\n",
    "\n",
    "        "
   ]
  },
  {
   "cell_type": "code",
   "execution_count": 47,
   "id": "361cc38f",
   "metadata": {},
   "outputs": [
    {
     "data": {
      "text/plain": [
       "False"
      ]
     },
     "execution_count": 47,
     "metadata": {},
     "output_type": "execute_result"
    }
   ],
   "source": [
    "#Q5\n",
    "def isMon(x):\n",
    "    '''input : 1D array\n",
    "    output : bool , gives wether an array is monotonic or not'''\n",
    "    \n",
    "    return (all(x[i] <= x[i + 1] for i in range(len(x) - 1)) or\n",
    "            all(x[i] >= x[i + 1] for i in range(len(x) - 1)))\n",
    "\n",
    "b = np.array([1,4,7,3,9,8,7])\n",
    "isMon(b)"
   ]
  },
  {
   "cell_type": "code",
   "execution_count": null,
   "id": "52a39445",
   "metadata": {},
   "outputs": [],
   "source": []
  },
  {
   "cell_type": "code",
   "execution_count": null,
   "id": "278e4637",
   "metadata": {},
   "outputs": [],
   "source": []
  },
  {
   "cell_type": "code",
   "execution_count": null,
   "id": "d5645906",
   "metadata": {},
   "outputs": [],
   "source": []
  },
  {
   "cell_type": "code",
   "execution_count": null,
   "id": "5811338c",
   "metadata": {},
   "outputs": [],
   "source": []
  },
  {
   "cell_type": "code",
   "execution_count": null,
   "id": "d1d15446",
   "metadata": {},
   "outputs": [],
   "source": []
  }
 ],
 "metadata": {
  "kernelspec": {
   "display_name": "Python 3",
   "language": "python",
   "name": "python3"
  },
  "language_info": {
   "codemirror_mode": {
    "name": "ipython",
    "version": 3
   },
   "file_extension": ".py",
   "mimetype": "text/x-python",
   "name": "python",
   "nbconvert_exporter": "python",
   "pygments_lexer": "ipython3",
   "version": "3.8.8"
  }
 },
 "nbformat": 4,
 "nbformat_minor": 5
}
