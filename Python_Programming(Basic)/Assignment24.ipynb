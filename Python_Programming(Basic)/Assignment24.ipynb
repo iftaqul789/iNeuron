{
 "cells": [
  {
   "cell_type": "code",
   "execution_count": 2,
   "id": "5a787f4e",
   "metadata": {},
   "outputs": [
    {
     "data": {
      "text/plain": [
       "[1, 2, 3, 40, 5, 6, 7, 80, 9, 10, 11, 120, 13, 14, 15, 160, 17, 18, 19, 200]"
      ]
     },
     "execution_count": 2,
     "metadata": {},
     "output_type": "execute_result"
    }
   ],
   "source": [
    "#Q1\n",
    "\n",
    "def amplify(x):\n",
    "    \n",
    "    '''input: int, >= 1\n",
    "    output: list , num div by 4 amplified by 10 '''\n",
    "    \n",
    "    return [num * 10 if num%4 == 0 else num for num in range(1,x+1)]\n",
    "\n",
    "\n",
    "amplify(20)"
   ]
  },
  {
   "cell_type": "code",
   "execution_count": 47,
   "id": "761fad31",
   "metadata": {},
   "outputs": [
    {
     "data": {
      "text/plain": [
       "0"
      ]
     },
     "execution_count": 47,
     "metadata": {},
     "output_type": "execute_result"
    }
   ],
   "source": [
    "#Q2\n",
    "\n",
    "def unique(x):\n",
    "    \n",
    "    '''input: list , onle one unique value inside the list\n",
    "    output: gives the unique val of that list'''\n",
    "    \n",
    "    org_ls = x.copy()\n",
    "    for num in x:\n",
    "        if org_ls.count(num) == 1:\n",
    "            return num\n",
    "\n",
    "unique([1,1,1,0,1,1])\n"
   ]
  },
  {
   "cell_type": "code",
   "execution_count": 35,
   "id": "2c19267c",
   "metadata": {},
   "outputs": [],
   "source": [
    "#Q3\n",
    "\n",
    "\n",
    "import math as mt\n",
    "\n",
    "class Circle():\n",
    "    \n",
    "    '''input: circle class takes radius as input'''\n",
    "    \n",
    "    def __init__(self, r):\n",
    "        self.r = r\n",
    "        \n",
    "    def getArea(self):\n",
    "        return int(round((mt.pi * self.r**2),0))\n",
    "    \n",
    "    def getPerimeter(self):\n",
    "        return int(round(2* mt.pi* self.r,0))\n",
    "    \n",
    "    def __str__(self):\n",
    "        \n",
    "        return \"Circle object with radius: {}\".format(self.r)"
   ]
  },
  {
   "cell_type": "code",
   "execution_count": 36,
   "id": "fc01d091",
   "metadata": {},
   "outputs": [
    {
     "name": "stdout",
     "output_type": "stream",
     "text": [
      "380\n",
      "28\n",
      "Circle object with radius: 11\n"
     ]
    }
   ],
   "source": [
    "a = Circle(11)\n",
    "b = Circle(4.4)\n",
    "\n",
    "print(a.getArea())\n",
    "print(b.getPerimeter())\n",
    "\n",
    "print(a)"
   ]
  },
  {
   "cell_type": "code",
   "execution_count": 51,
   "id": "6f2b0c45",
   "metadata": {},
   "outputs": [
    {
     "name": "stdout",
     "output_type": "stream",
     "text": [
      "['Apple', 'Google', 'Microsoft']\n"
     ]
    }
   ],
   "source": [
    "#Q4\n",
    "\n",
    "def sort_by_length(x):\n",
    "    \n",
    "    '''input: list\n",
    "    output: list sorted by length of elemnt '''\n",
    "    \n",
    "    def get_len(a):\n",
    "        return len(a)\n",
    "    \n",
    "    srtd_by_ln_ls = sorted(x, key = get_len)\n",
    "    \n",
    "    return srtd_by_ln_ls\n",
    "    \n",
    "    \n",
    "sort_by_length(['bg','b','hsdgf','sgsdffd'])\n",
    "\n",
    "print(sort_by_length([\"Google\", \"Apple\",\"Microsoft\"]))\n",
    "    "
   ]
  },
  {
   "cell_type": "code",
   "execution_count": 57,
   "id": "6b284c87",
   "metadata": {},
   "outputs": [
    {
     "data": {
      "text/plain": [
       "True"
      ]
     },
     "execution_count": 57,
     "metadata": {},
     "output_type": "execute_result"
    }
   ],
   "source": [
    "#Q5\n",
    "\n",
    "def is_triplet(a,b,c):\n",
    "    \n",
    "    '''input: int a,b,c by any order\n",
    "    output: bool , checks wether these three number follows pythogrs thrm'''\n",
    "    \n",
    "    if (a> b) and (a > c):\n",
    "        return a**2 == b**2 + c**2\n",
    "    elif (b>a) and (b>c):\n",
    "        return b**2 == a**2 + c**2\n",
    "    else:\n",
    "        return c**2 == a**2 + b**2\n",
    "    \n",
    "is_triplet(13,5,12)"
   ]
  },
  {
   "cell_type": "code",
   "execution_count": null,
   "id": "5e1653b9",
   "metadata": {},
   "outputs": [],
   "source": []
  }
 ],
 "metadata": {
  "kernelspec": {
   "display_name": "Python 3",
   "language": "python",
   "name": "python3"
  },
  "language_info": {
   "codemirror_mode": {
    "name": "ipython",
    "version": 3
   },
   "file_extension": ".py",
   "mimetype": "text/x-python",
   "name": "python",
   "nbconvert_exporter": "python",
   "pygments_lexer": "ipython3",
   "version": "3.8.8"
  }
 },
 "nbformat": 4,
 "nbformat_minor": 5
}
