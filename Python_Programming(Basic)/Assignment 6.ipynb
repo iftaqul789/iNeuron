{
 "cells": [
  {
   "cell_type": "code",
   "execution_count": 1,
   "id": "a864b40b",
   "metadata": {},
   "outputs": [],
   "source": [
    "\n",
    "\n",
    "    "
   ]
  },
  {
   "cell_type": "code",
   "execution_count": 2,
   "id": "24421965",
   "metadata": {},
   "outputs": [
    {
     "data": {
      "text/plain": [
       "610"
      ]
     },
     "execution_count": 2,
     "metadata": {},
     "output_type": "execute_result"
    }
   ],
   "source": [
    "#Q1\n",
    "def fiboNum(N):\n",
    "    if N == 1:\n",
    "        return 0\n",
    "    elif N == 2:\n",
    "        return 1\n",
    "    else:\n",
    "        return fiboNum(N-2) + fiboNum(N-1)\n",
    "fiboNum(16)"
   ]
  },
  {
   "cell_type": "code",
   "execution_count": 5,
   "id": "c6a026d2",
   "metadata": {},
   "outputs": [
    {
     "data": {
      "text/plain": [
       "24"
      ]
     },
     "execution_count": 5,
     "metadata": {},
     "output_type": "execute_result"
    }
   ],
   "source": [
    "#Q2\n",
    "\n",
    "def fact(N):\n",
    "    if N == 0:\n",
    "        return 1\n",
    "    else:\n",
    "        return N * fact(N-1)\n",
    "fact(4)"
   ]
  },
  {
   "cell_type": "code",
   "execution_count": 13,
   "id": "cf2ea2e1",
   "metadata": {},
   "outputs": [
    {
     "name": "stdout",
     "output_type": "stream",
     "text": [
      "Please enter your weight in KG65\n",
      "Please enter your height in meter1.6\n",
      "Your BMI is 25.39 Kg/m^2\n"
     ]
    }
   ],
   "source": [
    "#Q3\n",
    "\n",
    "weight = float(input(\"Please enter your weight in KG\"))\n",
    "height = float(input(\"Please enter your height in meter\"))\n",
    "BMI = weight/(height**2)\n",
    "print(\"Your BMI is {} Kg/m^2\".format(round(BMI,2)))"
   ]
  },
  {
   "cell_type": "code",
   "execution_count": 9,
   "id": "4679dc66",
   "metadata": {},
   "outputs": [
    {
     "data": {
      "text/plain": [
       "-0.6931471805599453"
      ]
     },
     "execution_count": 9,
     "metadata": {},
     "output_type": "execute_result"
    }
   ],
   "source": [
    "#Q4\n",
    "def NatLog(N):\n",
    "    import math as mt\n",
    "    value = mt.log(N,mt.e)\n",
    "    return value\n",
    "NatLog(.5)\n",
    "    "
   ]
  },
  {
   "cell_type": "code",
   "execution_count": 10,
   "id": "069efa51",
   "metadata": {},
   "outputs": [
    {
     "data": {
      "text/plain": [
       "36.0"
      ]
     },
     "execution_count": 10,
     "metadata": {},
     "output_type": "execute_result"
    }
   ],
   "source": [
    "#Q5\n",
    "\n",
    "def CubsumNum(N):\n",
    "    return (N*(N+1) / 2)**2\n",
    "\n",
    "CubsumNum(3)"
   ]
  },
  {
   "cell_type": "code",
   "execution_count": null,
   "id": "7aa28643",
   "metadata": {},
   "outputs": [],
   "source": []
  },
  {
   "cell_type": "code",
   "execution_count": null,
   "id": "cb67a611",
   "metadata": {},
   "outputs": [],
   "source": []
  },
  {
   "cell_type": "code",
   "execution_count": null,
   "id": "9236fe9b",
   "metadata": {},
   "outputs": [],
   "source": []
  },
  {
   "cell_type": "code",
   "execution_count": null,
   "id": "dee4fc11",
   "metadata": {},
   "outputs": [],
   "source": []
  },
  {
   "cell_type": "code",
   "execution_count": null,
   "id": "08d1403d",
   "metadata": {},
   "outputs": [],
   "source": []
  },
  {
   "cell_type": "code",
   "execution_count": null,
   "id": "fec39256",
   "metadata": {},
   "outputs": [],
   "source": []
  },
  {
   "cell_type": "code",
   "execution_count": null,
   "id": "a7cb14f3",
   "metadata": {},
   "outputs": [],
   "source": []
  },
  {
   "cell_type": "code",
   "execution_count": null,
   "id": "2356d50c",
   "metadata": {},
   "outputs": [],
   "source": []
  }
 ],
 "metadata": {
  "kernelspec": {
   "display_name": "Python 3",
   "language": "python",
   "name": "python3"
  },
  "language_info": {
   "codemirror_mode": {
    "name": "ipython",
    "version": 3
   },
   "file_extension": ".py",
   "mimetype": "text/x-python",
   "name": "python",
   "nbconvert_exporter": "python",
   "pygments_lexer": "ipython3",
   "version": "3.8.8"
  }
 },
 "nbformat": 4,
 "nbformat_minor": 5
}
