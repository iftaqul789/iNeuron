{
 "cells": [
  {
   "cell_type": "code",
   "execution_count": 1,
   "id": "ef69d022",
   "metadata": {},
   "outputs": [
    {
     "data": {
      "text/plain": [
       "[3, 6, 9]"
      ]
     },
     "execution_count": 1,
     "metadata": {},
     "output_type": "execute_result"
    }
   ],
   "source": [
    "#Q1\n",
    "\n",
    "def list_operation(lb,ub,d):\n",
    "    \n",
    "    '''input: int lower boun(lb), upperbound(ub), divisor(d)\n",
    "    ouput: list of nums between lb and db evenly dvided by divisor'''\n",
    "    \n",
    "    return [num for num in range(lb,ub+1) if num%d == 0]\n",
    "\n",
    "list_operation(1,10,3)"
   ]
  },
  {
   "cell_type": "code",
   "execution_count": 2,
   "id": "b482282a",
   "metadata": {},
   "outputs": [],
   "source": [
    "#Q2\n",
    "\n"
   ]
  },
  {
   "cell_type": "code",
   "execution_count": 7,
   "id": "fe9607db",
   "metadata": {},
   "outputs": [
    {
     "data": {
      "text/plain": [
       "'ABJ'"
      ]
     },
     "execution_count": 7,
     "metadata": {},
     "output_type": "execute_result"
    }
   ],
   "source": [
    "#Q3\n",
    "\n",
    "def society_name(x):\n",
    "    srtd_ls = sorted(x)\n",
    "    scrt_name = ''\n",
    "    for i in srtd_ls:\n",
    "        scrt_name += i[0]\n",
    "    return scrt_name\n",
    "society_name([\"Adam\",\"Jhon\",\"Bhaba\"])"
   ]
  },
  {
   "cell_type": "code",
   "execution_count": 19,
   "id": "f0aec145",
   "metadata": {},
   "outputs": [
    {
     "data": {
      "text/plain": [
       "False"
      ]
     },
     "execution_count": 19,
     "metadata": {},
     "output_type": "execute_result"
    }
   ],
   "source": [
    "#Q4\n",
    "\n",
    "def is_isogram(x):\n",
    "    \n",
    "    '''input: string\n",
    "    output: bool, checks wether the input is isogram or not'''\n",
    "    \n",
    "    sngl_ls = \"\"\n",
    "    dbl_ls = []\n",
    "    for i in x:\n",
    "        if i.lower() not in sngl_ls:\n",
    "            sngl_ls += i.lower()\n",
    "        else:\n",
    "            dbl_ls.append(i)\n",
    "    return 1 > len(dbl_ls)\n",
    "\n",
    "is_isogram(\"aDcdgh\")\n"
   ]
  },
  {
   "cell_type": "code",
   "execution_count": 23,
   "id": "9fc88593",
   "metadata": {},
   "outputs": [
    {
     "data": {
      "text/plain": [
       "False"
      ]
     },
     "execution_count": 23,
     "metadata": {},
     "output_type": "execute_result"
    }
   ],
   "source": [
    "#Q5\n",
    "\n",
    "def is_in_order(x):\n",
    "    \n",
    "    '''input: string\n",
    "    output: bool checks wether the string is sorted or not'''\n",
    "    \n",
    "    srtd_ls = sorted(x)\n",
    "    srt_str = ''\n",
    "    for i in srtd_ls:\n",
    "        srt_str += i\n",
    "    if srt_str == x:\n",
    "        return True\n",
    "    else:\n",
    "        return False\n",
    "is_in_order(\"ghiak\")"
   ]
  },
  {
   "cell_type": "code",
   "execution_count": null,
   "id": "795d234f",
   "metadata": {},
   "outputs": [],
   "source": []
  }
 ],
 "metadata": {
  "kernelspec": {
   "display_name": "Python 3",
   "language": "python",
   "name": "python3"
  },
  "language_info": {
   "codemirror_mode": {
    "name": "ipython",
    "version": 3
   },
   "file_extension": ".py",
   "mimetype": "text/x-python",
   "name": "python",
   "nbconvert_exporter": "python",
   "pygments_lexer": "ipython3",
   "version": "3.8.8"
  }
 },
 "nbformat": 4,
 "nbformat_minor": 5
}
