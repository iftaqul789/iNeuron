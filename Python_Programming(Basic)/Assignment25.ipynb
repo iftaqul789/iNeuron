{
 "cells": [
  {
   "cell_type": "code",
   "execution_count": 34,
   "id": "2f681086",
   "metadata": {},
   "outputs": [
    {
     "data": {
      "text/plain": [
       "0"
      ]
     },
     "execution_count": 34,
     "metadata": {},
     "output_type": "execute_result"
    }
   ],
   "source": [
    "#Q1\n",
    "\n",
    "def equal(a,b,c):\n",
    "    \n",
    "    '''input: int a,b,c\n",
    "    output: int'''\n",
    "    \n",
    "    if (a==b) and (a==c):\n",
    "        return 3\n",
    "    elif (a==b) or (a ==c):\n",
    "        return 2\n",
    "    elif (b==c):\n",
    "        return 2\n",
    "    else:\n",
    "        return 0\n",
    "        \n",
    "equal(3,0,1)"
   ]
  },
  {
   "cell_type": "code",
   "execution_count": 35,
   "id": "41510187",
   "metadata": {},
   "outputs": [
    {
     "data": {
      "text/plain": [
       "[('B', 5), ('C', 8), ('Z', 4)]"
      ]
     },
     "execution_count": 35,
     "metadata": {},
     "output_type": "execute_result"
    }
   ],
   "source": [
    "#Q2\n",
    "\n",
    "def dic_to_list(x):\n",
    "    \n",
    "    '''inputs: dict\n",
    "    outputs: list'''\n",
    "    \n",
    "    return sorted(list(x.items()))\n",
    "\n",
    "dic_to_list({\"Z\":4,\"B\":5,\"C\":8})"
   ]
  },
  {
   "cell_type": "code",
   "execution_count": 36,
   "id": "5cfe0f1b",
   "metadata": {},
   "outputs": [
    {
     "data": {
      "text/plain": [
       "{'a': 'A', 'b': 'B', 'c': 'C'}"
      ]
     },
     "execution_count": 36,
     "metadata": {},
     "output_type": "execute_result"
    }
   ],
   "source": [
    "#Q3\n",
    "\n",
    "def mapping(x):\n",
    "    my_dict = {}\n",
    "    for char in x:\n",
    "        my_dict[char] = char.upper()\n",
    "    return my_dict\n",
    "        \n",
    "\n",
    "mapping([\"a\",\"b\",\"c\"])"
   ]
  },
  {
   "cell_type": "code",
   "execution_count": 37,
   "id": "ec1d6817",
   "metadata": {},
   "outputs": [
    {
     "data": {
      "text/plain": [
       "'Hilli Wilrd'"
      ]
     },
     "execution_count": 37,
     "metadata": {},
     "output_type": "execute_result"
    }
   ],
   "source": [
    "#Q4\n",
    "\n",
    "def vow_replace(x,v):\n",
    "    \n",
    "    '''input: string and char(v)\n",
    "    output: string replaces all the vowls in string by char(v)'''\n",
    "    \n",
    "    \n",
    "    vwl = \"aeiou\"\n",
    "    fnl_str = ''\n",
    "    \n",
    "    for char in x:\n",
    "        if char in vwl:\n",
    "            fnl_str += v\n",
    "        else:\n",
    "            fnl_str += char\n",
    "    return fnl_str\n",
    "\n",
    "vow_replace(\"Hello Wolrd\",'i')\n",
    "\n"
   ]
  },
  {
   "cell_type": "code",
   "execution_count": 38,
   "id": "a1d5057f",
   "metadata": {},
   "outputs": [
    {
     "data": {
      "text/plain": [
       "'To Be oR NoT To Be!'"
      ]
     },
     "execution_count": 38,
     "metadata": {},
     "output_type": "execute_result"
    }
   ],
   "source": [
    "#Q5\n",
    "\n",
    "\n",
    "def ascii_capitalize(x):\n",
    "    final_str = ''\n",
    "    for char in x:\n",
    "        if ord(char)%2 == 0:\n",
    "            final_str += char.upper()\n",
    "        else:\n",
    "            final_str += char.lower()\n",
    "    return final_str\n",
    "ascii_capitalize(\"to be or not to be!\")"
   ]
  }
 ],
 "metadata": {
  "kernelspec": {
   "display_name": "Python 3",
   "language": "python",
   "name": "python3"
  },
  "language_info": {
   "codemirror_mode": {
    "name": "ipython",
    "version": 3
   },
   "file_extension": ".py",
   "mimetype": "text/x-python",
   "name": "python",
   "nbconvert_exporter": "python",
   "pygments_lexer": "ipython3",
   "version": "3.8.8"
  }
 },
 "nbformat": 4,
 "nbformat_minor": 5
}
