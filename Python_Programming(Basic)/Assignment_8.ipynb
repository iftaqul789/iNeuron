{
 "cells": [
  {
   "cell_type": "code",
   "execution_count": 11,
   "id": "0a496d3e",
   "metadata": {},
   "outputs": [],
   "source": [
    "import numpy as np"
   ]
  },
  {
   "cell_type": "code",
   "execution_count": 27,
   "id": "ed72180b",
   "metadata": {},
   "outputs": [
    {
     "name": "stdout",
     "output_type": "stream",
     "text": [
      "[[ 1  2  4]\n",
      " [ 4  5  7]\n",
      " [ 8  9 10]]\n",
      "[[1]\n",
      " [2]\n",
      " [3]]\n",
      "[[3 4 6]\n",
      " [9 8 7]\n",
      " [0 5 6]]\n"
     ]
    }
   ],
   "source": [
    "a = np.array([[1,2,4],[4,5,7],[8,9,10]])\n",
    "b = np.array([[1],[2],[3]])\n",
    "c = np.array([[3,4,6],[9,8,7],[0,5,6]])\n",
    "print(a)\n",
    "print(b)\n",
    "print(c)"
   ]
  },
  {
   "cell_type": "code",
   "execution_count": 39,
   "id": "6e3b794d",
   "metadata": {},
   "outputs": [
    {
     "name": "stdout",
     "output_type": "stream",
     "text": [
      "[[ 4  6 10]\n",
      " [13 13 14]\n",
      " [ 8 14 16]]\n"
     ]
    }
   ],
   "source": [
    "#Q1\n",
    "\n",
    "def add_mat(x,y):\n",
    "    \n",
    "    '''input : array (matrix)\n",
    "     output : sum or the two input array by matrix addition'''\n",
    "    \n",
    "    if x.shape == y.shape:\n",
    "        return (x + y)\n",
    "    else:\n",
    "        return print(\"Two different size matrix cannot be add\")\n",
    "print(add_mat(a,c))"
   ]
  },
  {
   "cell_type": "code",
   "execution_count": 78,
   "id": "5ed9b879",
   "metadata": {},
   "outputs": [
    {
     "data": {
      "text/plain": [
       "array([[17],\n",
       "       [35],\n",
       "       [56]])"
      ]
     },
     "execution_count": 78,
     "metadata": {},
     "output_type": "execute_result"
    }
   ],
   "source": [
    "#Q2\n",
    "\n",
    "def mul_mat(x,y):\n",
    "    \n",
    "    '''input: array as matrix\n",
    "        output: matrix after matrix multiplication two input arrays'''\n",
    "    \n",
    "    if x.shape[1] == y.shape[0]:\n",
    "        mult_val = x @ y\n",
    "        return mult_val\n",
    "    else:\n",
    "        return print(\"Number of columns of 1st matrix must be same as number of rows in 2nd matrix\")\n",
    "mul_mat(a,b)\n",
    "\n",
    "                "
   ]
  },
  {
   "cell_type": "code",
   "execution_count": 79,
   "id": "e141eb77",
   "metadata": {},
   "outputs": [
    {
     "data": {
      "text/plain": [
       "array([[ 1,  4,  8],\n",
       "       [ 2,  5,  9],\n",
       "       [ 4,  7, 10]])"
      ]
     },
     "execution_count": 79,
     "metadata": {},
     "output_type": "execute_result"
    }
   ],
   "source": [
    "#Q3\n",
    "def mat_trans(x):\n",
    "    '''input: an array \n",
    "    output: transpose of array'''\n",
    "    return x.T\n",
    "mat_trans(a)"
   ]
  },
  {
   "cell_type": "code",
   "execution_count": 86,
   "id": "931f09ae",
   "metadata": {},
   "outputs": [
    {
     "data": {
      "text/plain": [
       "['abeca', 'ant', 'apple', 'ball', 'kite', 'mango', 'owl']"
      ]
     },
     "execution_count": 86,
     "metadata": {},
     "output_type": "execute_result"
    }
   ],
   "source": [
    "#Q4\n",
    "l = ['apple','owl','mango','ant','ball','kite','abeca']\n",
    "char = \"agsdjkeghdj\"\n",
    "\n",
    "def sort_list(x):\n",
    "    '''input: list, string,numbers\n",
    "    output: sorted lis,string in alphanetical order'''\n",
    "    return sorted(x)\n",
    "sort_list(l)"
   ]
  },
  {
   "cell_type": "code",
   "execution_count": 4,
   "id": "593c94f8",
   "metadata": {},
   "outputs": [
    {
     "data": {
      "text/plain": [
       "'hsgteskslsdjy'"
      ]
     },
     "execution_count": 4,
     "metadata": {},
     "output_type": "execute_result"
    }
   ],
   "source": [
    "#Q5\n",
    "import string \n",
    "\n",
    "s = \"hsgte:sks,lsdjy;\"\n",
    "def rmv_punc(x):\n",
    "    \n",
    "    '''input : string\n",
    "    output : string free from punctuation'''\n",
    "    \n",
    "    punc = string.punctuation\n",
    "    punc_free = \"\"\n",
    "    for char in x:\n",
    "        if char not in punc:\n",
    "            punc_free += char\n",
    "    \n",
    "    return punc_free\n",
    "            \n",
    "rmv_punc(s)\n",
    "\n"
   ]
  },
  {
   "cell_type": "code",
   "execution_count": null,
   "id": "882c996a",
   "metadata": {},
   "outputs": [],
   "source": []
  }
 ],
 "metadata": {
  "kernelspec": {
   "display_name": "Python 3",
   "language": "python",
   "name": "python3"
  },
  "language_info": {
   "codemirror_mode": {
    "name": "ipython",
    "version": 3
   },
   "file_extension": ".py",
   "mimetype": "text/x-python",
   "name": "python",
   "nbconvert_exporter": "python",
   "pygments_lexer": "ipython3",
   "version": "3.8.8"
  }
 },
 "nbformat": 4,
 "nbformat_minor": 5
}
