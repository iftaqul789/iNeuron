{
 "cells": [
  {
   "cell_type": "code",
   "execution_count": 6,
   "id": "cc29d600",
   "metadata": {},
   "outputs": [
    {
     "data": {
      "text/plain": [
       "[1, 5, 6, 1]"
      ]
     },
     "execution_count": 6,
     "metadata": {},
     "output_type": "execute_result"
    }
   ],
   "source": [
    "#Q1\n",
    "\n",
    "def filter_list(x):\n",
    "    \n",
    "    '''input: list\n",
    "    output: list containting only int values filtering all string values'''\n",
    "    \n",
    "    nw_lst = []\n",
    "    for char in x:\n",
    "        if type(char) != str:\n",
    "            nw_lst.append(char)\n",
    "    return nw_lst\n",
    "\n",
    "l = [1,\"g\",5,6,\"hjhh\",1]\n",
    "filter_list(l)"
   ]
  },
  {
   "cell_type": "code",
   "execution_count": 11,
   "id": "98cf921b",
   "metadata": {},
   "outputs": [
    {
     "data": {
      "text/plain": [
       "'DLROw OLLEh'"
      ]
     },
     "execution_count": 11,
     "metadata": {},
     "output_type": "execute_result"
    }
   ],
   "source": [
    "#Q2\n",
    "\n",
    "import string\n",
    "\n",
    "def reverse(x):\n",
    "    \n",
    "    '''input: string\n",
    "    output: string in reverse order with alternat cases'''\n",
    "    \n",
    "    return str.swapcase(x)[::-1]\n",
    "\n",
    "reverse(\"Hello World\")"
   ]
  },
  {
   "cell_type": "code",
   "execution_count": 40,
   "id": "a1e7c157",
   "metadata": {},
   "outputs": [
    {
     "name": "stdout",
     "output_type": "stream",
     "text": [
      "First = 1\n",
      "Middle = [2, 3]\n",
      "Last = 4\n"
     ]
    }
   ],
   "source": [
    "#Q3\n",
    "def listSegment(x):\n",
    "    first = x[0]\n",
    "    middle = x[1:-1]\n",
    "    last = x[-1]\n",
    "    print(\"First = {}\".format(first))\n",
    "    print('Middle = {}'.format(middle))\n",
    "    print(\"Last = {}\".format(last))\n",
    "    \n",
    "listSegment([1,2,3,4])"
   ]
  },
  {
   "cell_type": "code",
   "execution_count": 15,
   "id": "28e4a04e",
   "metadata": {},
   "outputs": [
    {
     "data": {
      "text/plain": [
       "24"
      ]
     },
     "execution_count": 15,
     "metadata": {},
     "output_type": "execute_result"
    }
   ],
   "source": [
    "#Q4\n",
    "\n",
    "def factorial(x):\n",
    "    if x == 0:\n",
    "        return 1\n",
    "    else:\n",
    "        return x*factorial(x-1)\n",
    "    \n",
    "factorial(4)"
   ]
  },
  {
   "cell_type": "code",
   "execution_count": 36,
   "id": "7bb742c3",
   "metadata": {},
   "outputs": [
    {
     "data": {
      "text/plain": [
       "[3, 4, 6, 7, 8, 9, 1, 1, 1, 1]"
      ]
     },
     "execution_count": 36,
     "metadata": {},
     "output_type": "execute_result"
    }
   ],
   "source": [
    "#Q5\n",
    "\n",
    "def move_to_end(x,a):\n",
    "    \n",
    "    '''input: a list(x) and a character(a) inside the list\n",
    "    output: list, moves all the chareter(a) at the end move the list'''\n",
    "    \n",
    "    org_ls = x.copy()\n",
    "    a_list = []\n",
    "    \n",
    "    while org_ls.count(a) != 0:\n",
    "        \n",
    "        org_ls.remove(a)\n",
    "        a_list.append(a)\n",
    "        \n",
    "    return org_ls + a_list\n",
    "\n",
    "move_to_end([1,1,3,4,1,1,6,7,8,9],1)\n",
    "    "
   ]
  },
  {
   "cell_type": "code",
   "execution_count": null,
   "id": "d1c94e3a",
   "metadata": {},
   "outputs": [],
   "source": []
  }
 ],
 "metadata": {
  "kernelspec": {
   "display_name": "Python 3",
   "language": "python",
   "name": "python3"
  },
  "language_info": {
   "codemirror_mode": {
    "name": "ipython",
    "version": 3
   },
   "file_extension": ".py",
   "mimetype": "text/x-python",
   "name": "python",
   "nbconvert_exporter": "python",
   "pygments_lexer": "ipython3",
   "version": "3.8.8"
  }
 },
 "nbformat": 4,
 "nbformat_minor": 5
}
