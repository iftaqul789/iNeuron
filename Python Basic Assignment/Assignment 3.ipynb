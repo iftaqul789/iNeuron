{
 "cells": [
  {
   "cell_type": "markdown",
   "id": "9f079e99",
   "metadata": {},
   "source": [
    "# Q1\n",
    "\n",
    "Functioms arew advantegeious for our progrqamms because we can use functions every time we need in the programme. we can use the\n",
    "code of functions in every block of the programe just bby calling the functions."
   ]
  },
  {
   "cell_type": "markdown",
   "id": "e061ef08",
   "metadata": {},
   "source": [
    "# Q2\n",
    "The code inside the functions runs only when the function is called in the programme.\n",
    "To call the function in the programe we need to code the function name and give it its specefied inputs."
   ]
  },
  {
   "cell_type": "markdown",
   "id": "17debc1b",
   "metadata": {},
   "source": [
    "# Q3\n",
    "\n",
    "statement def followed by function name and the input and code inside the function creates a function.\n",
    "for example \n",
    "\n",
    "    "
   ]
  },
  {
   "cell_type": "markdown",
   "id": "96c76a13",
   "metadata": {},
   "source": [
    "# Q4\n",
    "\n",
    "A function statement starts with def followed by its body code and return statement whereas, function call starts with function name and its inputs.\n"
   ]
  },
  {
   "cell_type": "markdown",
   "id": "6cf63bd7",
   "metadata": {},
   "source": [
    "# Q5\n",
    "\n",
    "There are only one global scope in python programming and two local scopes ."
   ]
  },
  {
   "cell_type": "markdown",
   "id": "d7c8664d",
   "metadata": {},
   "source": [
    "# Q6\n",
    "\n",
    "when a function is call the variable in local space, get used for running the programe and it remain inside the function and it can\n",
    "not be accessed in code outside the function."
   ]
  },
  {
   "cell_type": "markdown",
   "id": "7f465a20",
   "metadata": {},
   "source": [
    "# Q7\n",
    "\n",
    "The return value is the value that a function return after completion of the function. it can be different for different input\n",
    "values. yes it is possible tio have a return value in expression.\n",
    "\n",
    "\n"
   ]
  },
  {
   "cell_type": "markdown",
   "id": "d4564701",
   "metadata": {},
   "source": [
    "# Q8\n",
    "if a function does not have a return statement it will return None as value."
   ]
  },
  {
   "cell_type": "markdown",
   "id": "ae40b024",
   "metadata": {},
   "source": [
    "# Q9\n",
    "\n",
    "To make a function variable refetr to the global variable we can use the global keyword to delclare which variables are global."
   ]
  },
  {
   "cell_type": "markdown",
   "id": "d524bdb1",
   "metadata": {},
   "source": [
    "# Q10\n",
    "\n",
    "The data type of None is None type"
   ]
  },
  {
   "cell_type": "markdown",
   "id": "208a0d19",
   "metadata": {},
   "source": [
    "# Q11\n",
    "\n",
    "The sentence import areallyourpetsnamederic imports the module naem areallyourpetsnamederic to the environment."
   ]
  },
  {
   "cell_type": "markdown",
   "id": "57b739d5",
   "metadata": {},
   "source": [
    "# Q12\n",
    "\n",
    "To call the bacon() featuure from the spam module i will use spam.bacon()."
   ]
  },
  {
   "cell_type": "markdown",
   "id": "2c9918dd",
   "metadata": {},
   "source": [
    "# Q13\n",
    "\n",
    "To save programe from crashing if it encounter errors , we can use exception handliing  by using try and except statement."
   ]
  },
  {
   "cell_type": "markdown",
   "id": "3ccc2cd5",
   "metadata": {},
   "source": [
    "# Q14\n",
    "The purpose of try clause is to instruct the programe to try to excute the programe wih the given set of inputs,\n",
    "if the input is not valid for the program even then it will not show any error and pass the code to except clause .\n",
    "\n",
    "the purpose of except clause is to handle the input that can not be run by try clause , except clause generally use to through \n",
    "error message asking for valid inputs."
   ]
  },
  {
   "cell_type": "code",
   "execution_count": null,
   "id": "97442893",
   "metadata": {},
   "outputs": [],
   "source": []
  }
 ],
 "metadata": {
  "kernelspec": {
   "display_name": "Python 3",
   "language": "python",
   "name": "python3"
  },
  "language_info": {
   "codemirror_mode": {
    "name": "ipython",
    "version": 3
   },
   "file_extension": ".py",
   "mimetype": "text/x-python",
   "name": "python",
   "nbconvert_exporter": "python",
   "pygments_lexer": "ipython3",
   "version": "3.8.8"
  }
 },
 "nbformat": 4,
 "nbformat_minor": 5
}
