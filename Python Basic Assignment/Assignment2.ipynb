{
 "cells": [
  {
   "cell_type": "markdown",
   "id": "adb11a6f",
   "metadata": {},
   "source": [
    "# Q1\n",
    "The two different bool data types are TRUE and FALSE. In python we write them as True and False"
   ]
  },
  {
   "cell_type": "markdown",
   "id": "c2a28a3d",
   "metadata": {},
   "source": [
    "# Q2\n",
    "The three different types of boolean operators are AND , OR , NOT . we can write them as (and,or,not)."
   ]
  },
  {
   "cell_type": "code",
   "execution_count": 1,
   "id": "90044af9",
   "metadata": {},
   "outputs": [
    {
     "data": {
      "text/html": [
       "<div>\n",
       "<style scoped>\n",
       "    .dataframe tbody tr th:only-of-type {\n",
       "        vertical-align: middle;\n",
       "    }\n",
       "\n",
       "    .dataframe tbody tr th {\n",
       "        vertical-align: top;\n",
       "    }\n",
       "\n",
       "    .dataframe thead th {\n",
       "        text-align: right;\n",
       "    }\n",
       "</style>\n",
       "<table border=\"1\" class=\"dataframe\">\n",
       "  <thead>\n",
       "    <tr style=\"text-align: right;\">\n",
       "      <th></th>\n",
       "      <th>condition_1</th>\n",
       "      <th>condition_2</th>\n",
       "      <th>operator</th>\n",
       "      <th>Result</th>\n",
       "    </tr>\n",
       "  </thead>\n",
       "  <tbody>\n",
       "    <tr>\n",
       "      <th>0</th>\n",
       "      <td>TRUE</td>\n",
       "      <td>TRUE</td>\n",
       "      <td>and</td>\n",
       "      <td>TRUE</td>\n",
       "    </tr>\n",
       "    <tr>\n",
       "      <th>1</th>\n",
       "      <td>FALSE</td>\n",
       "      <td>TRUE</td>\n",
       "      <td>and</td>\n",
       "      <td>FALSE</td>\n",
       "    </tr>\n",
       "    <tr>\n",
       "      <th>2</th>\n",
       "      <td>TRUE</td>\n",
       "      <td>FALSE</td>\n",
       "      <td>and</td>\n",
       "      <td>FALSE</td>\n",
       "    </tr>\n",
       "    <tr>\n",
       "      <th>3</th>\n",
       "      <td>FALSE</td>\n",
       "      <td>FALSE</td>\n",
       "      <td>and</td>\n",
       "      <td>FALSE</td>\n",
       "    </tr>\n",
       "    <tr>\n",
       "      <th>4</th>\n",
       "      <td>TRUE</td>\n",
       "      <td>TRUE</td>\n",
       "      <td>or</td>\n",
       "      <td>TRUE</td>\n",
       "    </tr>\n",
       "    <tr>\n",
       "      <th>5</th>\n",
       "      <td>FALSE</td>\n",
       "      <td>TRUE</td>\n",
       "      <td>or</td>\n",
       "      <td>TRUE</td>\n",
       "    </tr>\n",
       "    <tr>\n",
       "      <th>6</th>\n",
       "      <td>TRUE</td>\n",
       "      <td>FALSE</td>\n",
       "      <td>or</td>\n",
       "      <td>TRUE</td>\n",
       "    </tr>\n",
       "    <tr>\n",
       "      <th>7</th>\n",
       "      <td>FALSE</td>\n",
       "      <td>FALSE</td>\n",
       "      <td>or</td>\n",
       "      <td>FALSE</td>\n",
       "    </tr>\n",
       "    <tr>\n",
       "      <th>8</th>\n",
       "      <td>TRUE</td>\n",
       "      <td></td>\n",
       "      <td>not</td>\n",
       "      <td>FALSE</td>\n",
       "    </tr>\n",
       "    <tr>\n",
       "      <th>9</th>\n",
       "      <td>FALSE</td>\n",
       "      <td></td>\n",
       "      <td>not</td>\n",
       "      <td>TRUE</td>\n",
       "    </tr>\n",
       "  </tbody>\n",
       "</table>\n",
       "</div>"
      ],
      "text/plain": [
       "  condition_1 condition_2 operator Result\n",
       "0        TRUE        TRUE      and   TRUE\n",
       "1       FALSE        TRUE      and  FALSE\n",
       "2        TRUE       FALSE      and  FALSE\n",
       "3       FALSE       FALSE      and  FALSE\n",
       "4        TRUE        TRUE       or   TRUE\n",
       "5       FALSE        TRUE       or   TRUE\n",
       "6        TRUE       FALSE       or   TRUE\n",
       "7       FALSE       FALSE       or  FALSE\n",
       "8        TRUE                  not  FALSE\n",
       "9       FALSE                  not   TRUE"
      ]
     },
     "execution_count": 1,
     "metadata": {},
     "output_type": "execute_result"
    }
   ],
   "source": [
    "# Q3\n",
    "\n",
    "import pandas as pd\n",
    "\n",
    "df = pd.DataFrame({\"condition_1\":[\"TRUE\",\"FALSE\",\"TRUE\",\"FALSE\",\"TRUE\",\"FALSE\",\"TRUE\",\"FALSE\",\"TRUE\",\"FALSE\"],\"condition_2\":[\"TRUE\",\"TRUE\",\"FALSE\",\"FALSE\",\"TRUE\",\"TRUE\",\"FALSE\",\"FALSE\",' ',' '],\"operator\":[\"and\",'and','and',\"and\",'or','or','or','or',\"not\",'not'],\"Result\":[\"TRUE\",\"FALSE\",\"FALSE\",\"FALSE\",\"TRUE\",\"TRUE\",\"TRUE\",\"FALSE\",\"FALSE\",'TRUE']})\n",
    "df.head(10)"
   ]
  },
  {
   "cell_type": "code",
   "execution_count": 2,
   "id": "fafe0e8d",
   "metadata": {},
   "outputs": [],
   "source": [
    "#Q4\n",
    "\n",
    "#(5 > 4) and (3 == 5) # False\n",
    "# not(5>4) # False\n",
    "#(5 > 4) or (3 == 5) # True\n",
    "# not((5>4) or (3==5)) # False\n",
    "# (True and True) and (True == False) # False\n",
    "# (not False ) or (not True)  # True\n"
   ]
  },
  {
   "cell_type": "markdown",
   "id": "0a61e046",
   "metadata": {},
   "source": [
    "# Q5\n",
    "\n",
    "The six comparision operators are > , <, <=,>=, ==,!="
   ]
  },
  {
   "cell_type": "markdown",
   "id": "61794da4",
   "metadata": {},
   "source": [
    "# Q6\n",
    "\n",
    "The equal to operator is written as == , whereas the equal for assigning operation is written as = .\n",
    "\n",
    "The equal to operation is use to compare betwwen tow objects such as is 2 ==2 , 3 ==5 etc and it always returns \n",
    "a boolean valus True or False.\n",
    "\n",
    "On the other hand the assigning operator = is used to assign a value to a variable or object , such as a = 5, b = 7 etc."
   ]
  },
  {
   "cell_type": "code",
   "execution_count": 3,
   "id": "e1c52615",
   "metadata": {},
   "outputs": [
    {
     "name": "stdout",
     "output_type": "stream",
     "text": [
      "eggs\n",
      "bacon\n"
     ]
    }
   ],
   "source": [
    "#Q7\n",
    "\n",
    "spam = 10\n",
    "\n",
    "if spam == 10:         #1st block\n",
    "    print(\"eggs\")\n",
    "\n",
    "if spam >5:          # 2nd block\n",
    "    print(\"bacon\")\n",
    "\n",
    "else:                #3rd block\n",
    "    \n",
    "    print(\"ham\")\n",
    "    print(\"spam\")\n",
    "    print(\"spam\")\n",
    "    \n",
    "# the three blocks of the code is two if blokcs and one else block."
   ]
  },
  {
   "cell_type": "code",
   "execution_count": 4,
   "id": "79f7d22b",
   "metadata": {},
   "outputs": [
    {
     "name": "stdout",
     "output_type": "stream",
     "text": [
      "Hello\n"
     ]
    }
   ],
   "source": [
    "# Q8\n",
    "\n",
    "spam = 1\n",
    "\n",
    "if spam == 1:\n",
    "    print(\"Hello\")\n",
    "elif spam ==2:\n",
    "    print(\"Howdy\")\n",
    "else:\n",
    "    print(\"Greetings!\")"
   ]
  },
  {
   "cell_type": "markdown",
   "id": "d4c2603d",
   "metadata": {},
   "source": [
    "# Q9\n",
    "\n",
    "To break out from endless loop press cntrl-C"
   ]
  },
  {
   "cell_type": "markdown",
   "id": "641b2d0f",
   "metadata": {},
   "source": [
    "# Q10\n",
    "\n",
    "The break is use to come out from loop completely when a certain condition is met. for example let we are searching some value\n",
    "in a list. so in the for loop we are going to check each element one by one , but if the number that we want is in the middle of \n",
    "the list, so after finding the number in the middle there is no point too continue the loop tiil last value , in that case we can use break.\n",
    "\n",
    "on the other hand continue is used to pass a vlue when a condition is met and then continue the loop after skiping that particular \n",
    "value. for example if we are printing the value from a list and we want to rint all value except one value. but we dont know where\n",
    "in the list we have that particular value that we dont want to print , in that case we can use for loop with a coindition that\n",
    "id wqe find that vale we will use continue and print the rest except that value."
   ]
  },
  {
   "cell_type": "markdown",
   "id": "cffd96db",
   "metadata": {},
   "source": [
    "# Q11\n",
    "\n",
    "In a for loop there is NO diffrence among range(10),range(0,10) and range(0,10,1). All of this prints a value 0 to 9."
   ]
  },
  {
   "cell_type": "code",
   "execution_count": 12,
   "id": "8a1f7e3b",
   "metadata": {},
   "outputs": [
    {
     "name": "stdout",
     "output_type": "stream",
     "text": [
      "0\n",
      "1\n",
      "2\n",
      "3\n",
      "4\n",
      "5\n",
      "6\n",
      "7\n",
      "8\n",
      "9\n",
      "10\n",
      "0\n",
      "1\n",
      "2\n",
      "3\n",
      "4\n",
      "5\n",
      "6\n",
      "7\n",
      "8\n",
      "9\n",
      "10\n"
     ]
    }
   ],
   "source": [
    "#Q12\n",
    "\n",
    "# for loop to print numbers\n",
    "\n",
    "for num in range(11):\n",
    "    print(num)\n",
    "\n",
    "# while loop to print numbers\n",
    "num = 0\n",
    "\n",
    "while num <11:\n",
    "    print(num)\n",
    "    num+=1"
   ]
  },
  {
   "cell_type": "code",
   "execution_count": null,
   "id": "769f2533",
   "metadata": {},
   "outputs": [],
   "source": [
    "#Q13\n",
    "\n",
    "# to call a function name bacon from a module name spam\n",
    "\n",
    "import spam\n",
    "\n",
    "spam.bacon()\n",
    "\n"
   ]
  }
 ],
 "metadata": {
  "kernelspec": {
   "display_name": "Python 3",
   "language": "python",
   "name": "python3"
  },
  "language_info": {
   "codemirror_mode": {
    "name": "ipython",
    "version": 3
   },
   "file_extension": ".py",
   "mimetype": "text/x-python",
   "name": "python",
   "nbconvert_exporter": "python",
   "pygments_lexer": "ipython3",
   "version": "3.8.8"
  }
 },
 "nbformat": 4,
 "nbformat_minor": 5
}
