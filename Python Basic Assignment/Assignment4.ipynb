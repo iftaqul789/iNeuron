{
 "cells": [
  {
   "cell_type": "markdown",
   "id": "5fcb2fe8",
   "metadata": {},
   "source": [
    "# Q1\n",
    "\n",
    "[] menas an empty list."
   ]
  },
  {
   "cell_type": "markdown",
   "id": "b8da96e6",
   "metadata": {},
   "source": [
    "# Q2\n",
    "\n",
    "if spam = [2,4,6,8,10] , to assign \"hello\" as its third value\n",
    "we can use,\n",
    "spam[2] = \"hello\"\n"
   ]
  },
  {
   "cell_type": "markdown",
   "id": "6bc10bc7",
   "metadata": {},
   "source": [
    "# Q3\n",
    "if spam = [\"a\",\"b\",\"c\",\"d\"]\n",
    "\n",
    "then spam[int(int(\"3\"*2)/11)] = \"d\""
   ]
  },
  {
   "cell_type": "markdown",
   "id": "95269a43",
   "metadata": {},
   "source": [
    "# Q4\n",
    "spam[-1] = \"d\""
   ]
  },
  {
   "cell_type": "markdown",
   "id": "19ad42fd",
   "metadata": {},
   "source": [
    "# Q5\n",
    "\n",
    "spam[0:2] = [\"a\",\"b\"]"
   ]
  },
  {
   "cell_type": "markdown",
   "id": "6d627112",
   "metadata": {},
   "source": [
    "# Q6\n",
    "\n",
    "bacon = [3.14,'cat', 11,'cat', True]\n",
    "    \n",
    "\n",
    " the value of bacon.index('cat') is 1."
   ]
  },
  {
   "cell_type": "markdown",
   "id": "42f068d7",
   "metadata": {},
   "source": [
    "# Q7\n",
    "if we do bacon.append(99) the bacon will change to [3.14,'cat', 11,'cat', True, 99]"
   ]
  },
  {
   "cell_type": "markdown",
   "id": "4b159666",
   "metadata": {},
   "source": [
    "# Q8\n",
    "if we do becon.remove(\"cat\") the bacon l;ist will become [3.14, 11,'cat', True, 99]"
   ]
  },
  {
   "cell_type": "markdown",
   "id": "2069f0dc",
   "metadata": {},
   "source": [
    "# Q9\n",
    "\n",
    "to concatenate list we can use + (plus) operator , for example [1,2]+ [3,4] will become [1,2,3,4]\n",
    "to replicate list we cna use * (multipliation) operator, for example [1,2] *2 = [1,2,1,2]  , bit we cant multiple two list by using this operator we can only replicate a list by multiplying it by an integer value (how many times we want to replicate the list)"
   ]
  },
  {
   "cell_type": "markdown",
   "id": "5739b5ca",
   "metadata": {},
   "source": [
    "# Q10\n",
    "\n",
    "the difference between list method append() and insert() aer mentioned below--\n",
    "\n",
    "1. By append method we can add the elemnt at the last index of the list i.e -1 but by insert method we can specify \n",
    "the location or the index of the element where we want to add that element.\n",
    "1. In appeend method we have only one parameter i.e the element itself but in insert method we have two paramete first the\n",
    "index of the element where we want to add the element inside the list and the 2nd one is the element. \n",
    "\n"
   ]
  },
  {
   "cell_type": "markdown",
   "id": "9464c53e",
   "metadata": {},
   "source": [
    "# Q11\n",
    "the two methods to remove item form a list is remove() and pop(). Another method to delete element from the list is clear()\n",
    "method it will delete all the elements from the list and return an empty list."
   ]
  },
  {
   "cell_type": "markdown",
   "id": "fcea659d",
   "metadata": {},
   "source": [
    "# Q12\n",
    "The similarity between list and string values is that they both are sequences.\n"
   ]
  },
  {
   "cell_type": "markdown",
   "id": "a37d6000",
   "metadata": {},
   "source": [
    "# Q13\n",
    "\n",
    "The differnece between tuples and list are-\n",
    "1. list are mutable but tuples are immutables."
   ]
  },
  {
   "cell_type": "markdown",
   "id": "10527fa9",
   "metadata": {},
   "source": [
    "# Q14\n",
    "\n",
    "The tuple value that contains only a integre 42 is written as (42,)"
   ]
  },
  {
   "cell_type": "markdown",
   "id": "8939c8fd",
   "metadata": {},
   "source": [
    "# Q15\n",
    "\n",
    "To get a list values in tuple form we can use tuple() method in the list like tuple(my_list), this will return all the list\n",
    "values in tuple form.\n",
    "to get tuple values in list form we can use list() method on the tuple like list(my_tuple), it will return a list containg all \n",
    "the tuple values.\n",
    "\n",
    "here my_list and my_tuple are a list and tuple respectively."
   ]
  },
  {
   "cell_type": "markdown",
   "id": "cbe55722",
   "metadata": {},
   "source": [
    "# Q17\n",
    "\n",
    "if we make a deepcopy() by using copy.deepcopy() any changes we made in the deepcopy( ) object ,will not be refelcted at the\n",
    "orginal copy().\n",
    "\n",
    "but if we make a shallow copy of an object any changes we made on the copied object it will change the orginal object also.\n"
   ]
  },
  {
   "cell_type": "code",
   "execution_count": null,
   "id": "e8db60f6",
   "metadata": {},
   "outputs": [],
   "source": []
  }
 ],
 "metadata": {
  "kernelspec": {
   "display_name": "Python 3",
   "language": "python",
   "name": "python3"
  },
  "language_info": {
   "codemirror_mode": {
    "name": "ipython",
    "version": 3
   },
   "file_extension": ".py",
   "mimetype": "text/x-python",
   "name": "python",
   "nbconvert_exporter": "python",
   "pygments_lexer": "ipython3",
   "version": "3.8.8"
  }
 },
 "nbformat": 4,
 "nbformat_minor": 5
}
