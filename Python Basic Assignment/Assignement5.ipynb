{
 "cells": [
  {
   "cell_type": "markdown",
   "id": "aaf80377",
   "metadata": {},
   "source": [
    "# Q1\n",
    "An empty dictionary is written as { } or dict( ). \n",
    "for example\n",
    "my_dict = { }\n",
    "\n",
    "my_dict2 = dict( )"
   ]
  },
  {
   "cell_type": "markdown",
   "id": "388b1456",
   "metadata": {},
   "source": [
    "# Q2\n",
    "The dictionary value of a dictionary with key \"foo\" and value 42 is 42"
   ]
  },
  {
   "cell_type": "markdown",
   "id": "f0b9ab48",
   "metadata": {},
   "source": [
    "# Q3\n",
    "Significant distiction between a dictionary and lis are as follows-\n",
    "\n",
    "1. A dictionary is consist of key and value pairs and  a list is consist of items only.\n",
    "2. A dictionary is unorderd but a list is a orderd data type.\n",
    "3. a dictionary is represented by { } but list is represented by [ ]"
   ]
  },
  {
   "cell_type": "markdown",
   "id": "a71ff4af",
   "metadata": {},
   "source": [
    "# Q4\n",
    "if spam = {'bar': 100} and we try to access it by spam[\"foo\"] , then it will give us an error with invalid key type like KeyError."
   ]
  },
  {
   "cell_type": "markdown",
   "id": "6e0dc715",
   "metadata": {},
   "source": [
    "# Q5\n",
    "\n",
    "if a  dictionary is stored in spam then \"cat\" in spam means it can be a key or value of the dictionary but \"cat \" in spam.keys()\n",
    "means the \"cat\" is a key in dictionary spam."
   ]
  },
  {
   "cell_type": "markdown",
   "id": "27bd3af1",
   "metadata": {},
   "source": [
    "# Q6\n",
    "if a dictionary is stored in spam then \"cat\" in spam means it can be a key or value of the dictionary but \n",
    "\"cat \" in spam.values() means the \"cat\" is a value in dictionary spam.\n"
   ]
  },
  {
   "cell_type": "markdown",
   "id": "1091aa59",
   "metadata": {},
   "source": [
    "# Q7\n",
    "\n",
    "spam[\"Color\"] = \"Black\"\n"
   ]
  },
  {
   "cell_type": "markdown",
   "id": "d82ffc46",
   "metadata": {},
   "source": [
    "# 8\n",
    "To pretty print a dictionary we can use pprint python mpodule and pprint() function."
   ]
  },
  {
   "cell_type": "code",
   "execution_count": 3,
   "id": "e61ed9e9",
   "metadata": {},
   "outputs": [
    {
     "name": "stdout",
     "output_type": "stream",
     "text": [
      "{'a': 1, 'b': 2, 'c': 3}\n"
     ]
    }
   ],
   "source": [
    "import pprint as pp\n",
    "\n",
    "my_dict = {\"a\":1,\"b\":2,\"c\":3}\n",
    "pp.pprint(my_dict)"
   ]
  },
  {
   "cell_type": "code",
   "execution_count": 13,
   "id": "9855874f",
   "metadata": {},
   "outputs": [
    {
     "name": "stdout",
     "output_type": "stream",
     "text": [
      " my name is iftaqul \n",
      " I am an engineer \n",
      " i am a student of IIT guwahati\n"
     ]
    }
   ],
   "source": [
    "print(\" my name is iftaqul \\n I am an engineer \\n i am a student of IIT guwahati\")"
   ]
  },
  {
   "cell_type": "code",
   "execution_count": null,
   "id": "e6d33063",
   "metadata": {},
   "outputs": [],
   "source": []
  },
  {
   "cell_type": "code",
   "execution_count": null,
   "id": "3a6c921e",
   "metadata": {},
   "outputs": [],
   "source": []
  }
 ],
 "metadata": {
  "kernelspec": {
   "display_name": "Python 3",
   "language": "python",
   "name": "python3"
  },
  "language_info": {
   "codemirror_mode": {
    "name": "ipython",
    "version": 3
   },
   "file_extension": ".py",
   "mimetype": "text/x-python",
   "name": "python",
   "nbconvert_exporter": "python",
   "pygments_lexer": "ipython3",
   "version": "3.8.8"
  }
 },
 "nbformat": 4,
 "nbformat_minor": 5
}
