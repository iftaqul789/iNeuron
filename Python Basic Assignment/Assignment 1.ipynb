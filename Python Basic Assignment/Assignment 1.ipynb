{
 "cells": [
  {
   "cell_type": "markdown",
   "id": "eacd1bb0",
   "metadata": {},
   "source": [
    "# ASSIGNMENT 01"
   ]
  },
  {
   "cell_type": "code",
   "execution_count": 18,
   "id": "331b649e",
   "metadata": {},
   "outputs": [],
   "source": [
    "import pandas as pd"
   ]
  },
  {
   "cell_type": "markdown",
   "id": "9ccd5bfd",
   "metadata": {},
   "source": [
    "# Q1"
   ]
  },
  {
   "cell_type": "code",
   "execution_count": 19,
   "id": "c6f21ed5",
   "metadata": {},
   "outputs": [],
   "source": [
    "table = pd.DataFrame({\"Values\":[\"Hello\", -87.8 ,6,\" \"],\"Expressions\":[\"*\",\"-\",\"/\",\"+\"]})"
   ]
  },
  {
   "cell_type": "code",
   "execution_count": 20,
   "id": "53ede4b2",
   "metadata": {},
   "outputs": [
    {
     "data": {
      "text/html": [
       "<div>\n",
       "<style scoped>\n",
       "    .dataframe tbody tr th:only-of-type {\n",
       "        vertical-align: middle;\n",
       "    }\n",
       "\n",
       "    .dataframe tbody tr th {\n",
       "        vertical-align: top;\n",
       "    }\n",
       "\n",
       "    .dataframe thead th {\n",
       "        text-align: right;\n",
       "    }\n",
       "</style>\n",
       "<table border=\"1\" class=\"dataframe\">\n",
       "  <thead>\n",
       "    <tr style=\"text-align: right;\">\n",
       "      <th></th>\n",
       "      <th>Values</th>\n",
       "      <th>Expressions</th>\n",
       "    </tr>\n",
       "  </thead>\n",
       "  <tbody>\n",
       "    <tr>\n",
       "      <th>0</th>\n",
       "      <td>Hello</td>\n",
       "      <td>*</td>\n",
       "    </tr>\n",
       "    <tr>\n",
       "      <th>1</th>\n",
       "      <td>-87.8</td>\n",
       "      <td>-</td>\n",
       "    </tr>\n",
       "    <tr>\n",
       "      <th>2</th>\n",
       "      <td>6</td>\n",
       "      <td>/</td>\n",
       "    </tr>\n",
       "    <tr>\n",
       "      <th>3</th>\n",
       "      <td></td>\n",
       "      <td>+</td>\n",
       "    </tr>\n",
       "  </tbody>\n",
       "</table>\n",
       "</div>"
      ],
      "text/plain": [
       "  Values Expressions\n",
       "0  Hello           *\n",
       "1  -87.8           -\n",
       "2      6           /\n",
       "3                  +"
      ]
     },
     "execution_count": 20,
     "metadata": {},
     "output_type": "execute_result"
    }
   ],
   "source": [
    "table.head()"
   ]
  },
  {
   "cell_type": "markdown",
   "id": "83b347fb",
   "metadata": {},
   "source": [
    "# Q2"
   ]
  },
  {
   "cell_type": "markdown",
   "id": "fb23dd0b",
   "metadata": {},
   "source": [
    "<p> A variable can be defined as a data container , which can contain any type of data. The name of the variable is given by the programmer itself. The data inside the variable can be chnaged any time during the programe. On the other hand String is a data type. In python anything(any type of data) wriiten inside the quotation mark ( single or double) is considerd as string.</p>"
   ]
  },
  {
   "cell_type": "markdown",
   "id": "1ca20547",
   "metadata": {},
   "source": [
    "# Q3"
   ]
  },
  {
   "cell_type": "markdown",
   "id": "bec9ed2a",
   "metadata": {},
   "source": [
    "<p> Three different data types are mentioned below </p>\n",
    "<p><b>String</b>: In python a string is anything (any data type) that is written inside quotation mark. String s are immutable.\n",
    "    eg:- \"ABC\", \"89\",\"44.4\", \"+\".</p>\n",
    "<p><b>Integer</b>: Any numerical whole number is an integer. eg:- 7,8,9.</p>\n",
    "<p><b>Float</b> : Any fraction in python is a float. eg:- 22.3, 4.8 .</p>"
   ]
  },
  {
   "cell_type": "markdown",
   "id": "50cd61e7",
   "metadata": {},
   "source": [
    "# Q4"
   ]
  },
  {
   "cell_type": "markdown",
   "id": "ca16c906",
   "metadata": {},
   "source": [
    "An expression is a combination of variable , operatores, values or function calls. All expressions evaluates a value."
   ]
  },
  {
   "cell_type": "markdown",
   "id": "07cbc223",
   "metadata": {},
   "source": [
    "# Q5"
   ]
  },
  {
   "cell_type": "markdown",
   "id": "73278919",
   "metadata": {},
   "source": [
    "An assignemnt consists of a value and variables on the other hand expression consist of values , variables , operators or function calls."
   ]
  },
  {
   "cell_type": "markdown",
   "id": "843bf404",
   "metadata": {},
   "source": [
    "# Q6"
   ]
  },
  {
   "cell_type": "markdown",
   "id": "664f1171",
   "metadata": {},
   "source": [
    "value of variable bacon will remain the same which is 22."
   ]
  },
  {
   "cell_type": "markdown",
   "id": "00565376",
   "metadata": {},
   "source": [
    "# Q7"
   ]
  },
  {
   "cell_type": "code",
   "execution_count": 21,
   "id": "4dbf99ec",
   "metadata": {},
   "outputs": [
    {
     "data": {
      "text/plain": [
       "'spamspamspam'"
      ]
     },
     "execution_count": 21,
     "metadata": {},
     "output_type": "execute_result"
    }
   ],
   "source": [
    "\"spam\"*3"
   ]
  },
  {
   "cell_type": "code",
   "execution_count": 22,
   "id": "148ea3a1",
   "metadata": {},
   "outputs": [
    {
     "data": {
      "text/plain": [
       "'spamspamspam'"
      ]
     },
     "execution_count": 22,
     "metadata": {},
     "output_type": "execute_result"
    }
   ],
   "source": [
    "\"spam\" + \"spamspam\""
   ]
  },
  {
   "cell_type": "markdown",
   "id": "e4852b47",
   "metadata": {},
   "source": [
    " both will give the same value."
   ]
  },
  {
   "cell_type": "markdown",
   "id": "ba2709d0",
   "metadata": {},
   "source": [
    "# Q8"
   ]
  },
  {
   "cell_type": "markdown",
   "id": "3c840ee4",
   "metadata": {},
   "source": [
    "#Egg is a valid variable name and 100 is not because a variable name can not be start with a digit or underscore."
   ]
  },
  {
   "cell_type": "markdown",
   "id": "3666a6a4",
   "metadata": {},
   "source": [
    "# Q9"
   ]
  },
  {
   "cell_type": "markdown",
   "id": "909d7c33",
   "metadata": {},
   "source": [
    "The required thre functions are int(),float(), str()"
   ]
  },
  {
   "cell_type": "markdown",
   "id": "483decc2",
   "metadata": {},
   "source": [
    "# Q10"
   ]
  },
  {
   "cell_type": "markdown",
   "id": "f2d5ecc3",
   "metadata": {},
   "source": [
    "The expression is showing error becasuse two diffrent data types can not be add. We can fix it just by making the integer value 99 a string using str() or by just writting it inside quotation mark."
   ]
  },
  {
   "cell_type": "code",
   "execution_count": null,
   "id": "78a375c5",
   "metadata": {},
   "outputs": [],
   "source": []
  }
 ],
 "metadata": {
  "kernelspec": {
   "display_name": "Python 3",
   "language": "python",
   "name": "python3"
  },
  "language_info": {
   "codemirror_mode": {
    "name": "ipython",
    "version": 3
   },
   "file_extension": ".py",
   "mimetype": "text/x-python",
   "name": "python",
   "nbconvert_exporter": "python",
   "pygments_lexer": "ipython3",
   "version": "3.8.8"
  }
 },
 "nbformat": 4,
 "nbformat_minor": 5
}
