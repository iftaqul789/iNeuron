{
 "cells": [
  {
   "cell_type": "markdown",
   "id": "1d5b6660",
   "metadata": {},
   "source": [
    "# Q1\n",
    "\n",
    "In python the escape characters are some special charecters inside a string . It is reperesented by backskash(\\) followed\n",
    "by the charecterwe want to insert. It is also uesed to represent some whitespace charecters such as tab as \\t , new line as \\n\n",
    "etc."
   ]
  },
  {
   "cell_type": "markdown",
   "id": "9b91682a",
   "metadata": {},
   "source": [
    "# Q2\n",
    "\n",
    "Escape character n and t stands for new line and tab. for example , if we print(\"hello \\n world\") it will return hello in line1 \n",
    "and world line2 and if we print (\"hello\\t world\") it will return hello world in beteen a tab space."
   ]
  },
  {
   "cell_type": "markdown",
   "id": "6b472d07",
   "metadata": {},
   "source": [
    "# Q3\n",
    "to include a backslash character in a string use \\\\ inside the string."
   ]
  },
  {
   "cell_type": "markdown",
   "id": "3274dd52",
   "metadata": {},
   "source": [
    "# Q4\n",
    "The string \"Howl's Moving Castle\" is a correct value and the single quote inside not escape problem because the entire\n",
    "string is under double quote . It will resulted pa problem if the entire string is under single quote."
   ]
  },
  {
   "cell_type": "markdown",
   "id": "b26e92a0",
   "metadata": {},
   "source": [
    "# Q5\n",
    "\n",
    "To wrtite newline in python we can use tripple quote(''' ''') to strat and at the end of the string.\n"
   ]
  },
  {
   "cell_type": "code",
   "execution_count": 8,
   "id": "5f69a607",
   "metadata": {},
   "outputs": [
    {
     "name": "stdout",
     "output_type": "stream",
     "text": [
      "Hello \n",
      "world\n"
     ]
    }
   ],
   "source": [
    "print('''Hello \n",
    "world''')"
   ]
  },
  {
   "cell_type": "code",
   "execution_count": null,
   "id": "1c789a39",
   "metadata": {},
   "outputs": [],
   "source": [
    "# Q6\n",
    "# 'Hello, world!'[1] == 'e'\n",
    "#'Hello, world!'[0:5] == 'Hello'\n",
    "#'Hello, world!'[:5] == \"Hello\"\n",
    "#'Hello, world!'[3:] == \"lo, world!\""
   ]
  },
  {
   "cell_type": "code",
   "execution_count": 20,
   "id": "245f6781",
   "metadata": {},
   "outputs": [],
   "source": [
    "#Q7\n",
    "\n",
    "#'Hello'.upper() == \"HELLO\"\n",
    "#'Hello'.upper().isupper() == True\n",
    "#'Hello'.upper().lower() == \"hello\""
   ]
  },
  {
   "cell_type": "code",
   "execution_count": 23,
   "id": "e4ad106b",
   "metadata": {},
   "outputs": [],
   "source": [
    "#Q8\n",
    "\n",
    "#'Remember, remember, the fifth of July.'.split() == ['Remember,', 'remember,', 'the', 'fifth', 'of', 'July.']"
   ]
  },
  {
   "cell_type": "code",
   "execution_count": 25,
   "id": "1a0b9f25",
   "metadata": {},
   "outputs": [],
   "source": [
    "#Q9\n",
    "#'-'.join('There can only one.'.split()) == 'There-can-only-one.'"
   ]
  },
  {
   "cell_type": "code",
   "execution_count": 31,
   "id": "9b99058d",
   "metadata": {},
   "outputs": [
    {
     "name": "stdout",
     "output_type": "stream",
     "text": [
      "    a boy  \n",
      "a boy\n"
     ]
    }
   ],
   "source": [
    "#Q10\n",
    "a = \"    a boy  \"\n",
    "print(a)\n",
    "# To remove whitespace charecter from the beggining and end we can use strip() method. It doesnt changes the original string\n",
    "# it only removes whitespaces from beginning and end of the string.\n",
    "\n",
    "b = a.strip()\n",
    "print(b)"
   ]
  },
  {
   "cell_type": "code",
   "execution_count": null,
   "id": "2b8b14d9",
   "metadata": {},
   "outputs": [],
   "source": []
  }
 ],
 "metadata": {
  "kernelspec": {
   "display_name": "Python 3",
   "language": "python",
   "name": "python3"
  },
  "language_info": {
   "codemirror_mode": {
    "name": "ipython",
    "version": 3
   },
   "file_extension": ".py",
   "mimetype": "text/x-python",
   "name": "python",
   "nbconvert_exporter": "python",
   "pygments_lexer": "ipython3",
   "version": "3.8.8"
  }
 },
 "nbformat": 4,
 "nbformat_minor": 5
}
