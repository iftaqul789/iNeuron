{
 "cells": [
  {
   "cell_type": "code",
   "execution_count": 6,
   "id": "562954ea",
   "metadata": {},
   "outputs": [
    {
     "data": {
      "text/plain": [
       "6765"
      ]
     },
     "execution_count": 6,
     "metadata": {},
     "output_type": "execute_result"
    }
   ],
   "source": [
    "#Q1\n",
    "\n",
    "def fast_fibo(n):\n",
    "    \n",
    "    '''input : int\n",
    "    output: return  n th the fibo nachi number from fibonachi series starting from o'''\n",
    "    \n",
    "    f = list(range(n+1))\n",
    "    for i in range(2,n+1):\n",
    "        f[i] = f[i-1]+ f[i-2]\n",
    "    return f[n]\n",
    "\n",
    "fast_fibo(20)"
   ]
  },
  {
   "cell_type": "code",
   "execution_count": 29,
   "id": "bbcc74e7",
   "metadata": {},
   "outputs": [
    {
     "data": {
      "text/plain": [
       "'68 65 6c 6c 6f 20 77 6f 72 6c 64 '"
      ]
     },
     "execution_count": 29,
     "metadata": {},
     "output_type": "execute_result"
    }
   ],
   "source": [
    "#Q2\n",
    "\n",
    "def convert_to_hex(str_obj):\n",
    "    \n",
    "    '''input: str\n",
    "    ouput: str, return the hexadecimal code for each character using ascii code'''\n",
    "    \n",
    "    hex_str = ''\n",
    "    for char in str_obj:\n",
    "        hex_str += str(hex(ord(char)))[2:] + \" \"  #extracting the hexadecimal value and removing 0X\n",
    "        \n",
    "    return hex_str\n",
    "\n",
    "\n",
    "convert_to_hex(\"hello world\")\n",
    "    "
   ]
  },
  {
   "cell_type": "code",
   "execution_count": 14,
   "id": "e4f86e0e",
   "metadata": {},
   "outputs": [
    {
     "data": {
      "text/plain": [
       "'what the funk'"
      ]
     },
     "execution_count": 14,
     "metadata": {},
     "output_type": "execute_result"
    }
   ],
   "source": [
    "#Q3\n",
    "\n",
    "def uncenssor(str_obj, vwls):\n",
    "    \n",
    "    '''input: str, with missing vowels represented by *, vwls with aqpporopriate order\n",
    "    output: str, completes the missing vowls in str '''\n",
    "    \n",
    "    indx_vwl = 0\n",
    "    uncenssor_str = \"\"\n",
    "    for char in str_obj:\n",
    "        if char == \"*\":\n",
    "            uncenssor_str += vwls[indx_vwl]\n",
    "            indx_vwl+= 1\n",
    "        else:\n",
    "            uncenssor_str += char\n",
    "    return uncenssor_str\n",
    "uncenssor(\"wh*t th* f*nk\", \"aeu\")\n"
   ]
  },
  {
   "cell_type": "code",
   "execution_count": 33,
   "id": "ed9b6489",
   "metadata": {},
   "outputs": [
    {
     "data": {
      "text/plain": [
       "'dns.google'"
      ]
     },
     "execution_count": 33,
     "metadata": {},
     "output_type": "execute_result"
    }
   ],
   "source": [
    "#Q4\n",
    "\n",
    "import socket\n",
    "\n",
    "def get_domain(ip):\n",
    "    \n",
    "    '''input: ip adrss , str\n",
    "    output: gets the host name'''\n",
    "    \n",
    "    return socket.gethostbyaddr(ip)[0]\n",
    "\n",
    "get_domain(\"8.8.8.8\")"
   ]
  },
  {
   "cell_type": "code",
   "execution_count": 19,
   "id": "dff10e2d",
   "metadata": {},
   "outputs": [
    {
     "data": {
      "text/plain": [
       "24883200"
      ]
     },
     "execution_count": 19,
     "metadata": {},
     "output_type": "execute_result"
    }
   ],
   "source": [
    "#Q5\n",
    "\n",
    "def factorial(num):\n",
    "    \n",
    "    '''input: any int\n",
    "    output: factorial of that num , int'''\n",
    "    \n",
    "    if num == 0:\n",
    "        return 1\n",
    "    else:\n",
    "        return num* factorial(num-1)\n",
    "    \n",
    "\n",
    "def fact_of_fact(num):\n",
    "    \n",
    "    '''input: any int\n",
    "    output: fact of fact val , int'''\n",
    "    \n",
    "    fact_of_fact_val = 1\n",
    "    for n in range(1,num+1):\n",
    "        fact_of_fact_val *= factorial(n)\n",
    "    return fact_of_fact_val\n",
    "\n",
    "fact_of_fact(6)"
   ]
  },
  {
   "cell_type": "code",
   "execution_count": null,
   "id": "3d47fbea",
   "metadata": {},
   "outputs": [],
   "source": []
  }
 ],
 "metadata": {
  "kernelspec": {
   "display_name": "Python 3",
   "language": "python",
   "name": "python3"
  },
  "language_info": {
   "codemirror_mode": {
    "name": "ipython",
    "version": 3
   },
   "file_extension": ".py",
   "mimetype": "text/x-python",
   "name": "python",
   "nbconvert_exporter": "python",
   "pygments_lexer": "ipython3",
   "version": "3.8.8"
  }
 },
 "nbformat": 4,
 "nbformat_minor": 5
}
