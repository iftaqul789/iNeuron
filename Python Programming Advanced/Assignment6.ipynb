{
 "cells": [
  {
   "cell_type": "code",
   "execution_count": 1,
   "id": "d447a22f",
   "metadata": {},
   "outputs": [
    {
     "data": {
      "text/plain": [
       "'d'"
      ]
     },
     "execution_count": 1,
     "metadata": {},
     "output_type": "execute_result"
    }
   ],
   "source": [
    "#Q1\n",
    "\n",
    "def find_the_difference(s,t):\n",
    "    '''input: two str\n",
    "    output: returns the difference , str'''\n",
    "    for char in t:\n",
    "        if char not in s:\n",
    "            return char\n",
    "\n",
    "find_the_difference(\"abc\",'abcd')"
   ]
  },
  {
   "cell_type": "code",
   "execution_count": 31,
   "id": "437f5296",
   "metadata": {},
   "outputs": [],
   "source": [
    "#Q2\n",
    "\n",
    "def count_datatypes(*args):\n",
    "    \n",
    "    data_type_count_lst = [0,0,0,0,0,0]\n",
    "    for i in args:\n",
    "        # type format [int,str , bool , list , tuple , dictionatry]\n",
    "        \n",
    "        if type(i) == int:\n",
    "            data_type_count_lst[0] += 1\n",
    "        elif type(i) == str:\n",
    "            data_type_count_lst[1] += 1\n",
    "        elif type(i) ==  bool:\n",
    "            data_type_count_lst[2] += 1\n",
    "        elif type(i) == list:\n",
    "             data_type_count_lst[3] += 1\n",
    "        elif type(i) == tuple:\n",
    "             data_type_count_lst[4] += 1\n",
    "        else:\n",
    "             data_type_count_lst[5] += 1\n",
    "        \n",
    "    return data_type_count_lst\n",
    "\n",
    "\n",
    "\n",
    "        "
   ]
  },
  {
   "cell_type": "code",
   "execution_count": 32,
   "id": "037d7332",
   "metadata": {},
   "outputs": [
    {
     "data": {
      "text/plain": [
       "[1, 2, 1, 1, 1, 1]"
      ]
     },
     "execution_count": 32,
     "metadata": {},
     "output_type": "execute_result"
    }
   ],
   "source": [
    "count_datatypes(\"Hey\",[1,2,3],1,\"k\",(8,),{\"a\":1},True)"
   ]
  },
  {
   "cell_type": "code",
   "execution_count": 54,
   "id": "75d10328",
   "metadata": {},
   "outputs": [
    {
     "data": {
      "text/plain": [
       "'e,a,ae,aea,aeaae'"
      ]
     },
     "execution_count": 54,
     "metadata": {},
     "output_type": "execute_result"
    }
   ],
   "source": [
    "#Q3\n",
    "\n",
    "def fib_str(N,fib_lst):\n",
    "    \n",
    "    '''input: N = length of fibo series , N>2, int\n",
    "    output: str , fibo series as string of length N'''\n",
    "    \n",
    "    final_fib_lst = [fib_lst[0],fib_lst[1]]\n",
    "    \n",
    "    for i in range(N-2):\n",
    "        final_fib_lst.append(final_fib_lst[-1]+final_fib_lst[-2])\n",
    "        \n",
    "    final_fib_str = \"\"\n",
    "    \n",
    "    for item in final_fib_lst:\n",
    "        final_fib_str += item + \",\"\n",
    "        \n",
    "    return final_fib_str[0:-1]\n",
    "\n",
    "fib_str(5,[\"e\",\"a\"])\n",
    "    "
   ]
  },
  {
   "cell_type": "code",
   "execution_count": 77,
   "id": "9675b805",
   "metadata": {},
   "outputs": [
    {
     "name": "stdout",
     "output_type": "stream",
     "text": [
      "nines:2,threes:2,ones:2\n"
     ]
    }
   ],
   "source": [
    "#Q4\n",
    "\n",
    "def ones_threes_nines(num):\n",
    "    \n",
    "    '''input: int , num <= 26\n",
    "    output: str'''\n",
    "    \n",
    "    for i in range(num):\n",
    "        for j in range(num):\n",
    "            for k in range(num):\n",
    "                if 9*k + 3*j + 1*i == num:\n",
    "                    return print(\"nines:{},threes:{},ones:{}\".format(k,j,i))\n",
    "ones_threes_nines(26)\n"
   ]
  },
  {
   "cell_type": "code",
   "execution_count": 60,
   "id": "f4ab76d3",
   "metadata": {},
   "outputs": [
    {
     "data": {
      "text/plain": [
       "8"
      ]
     },
     "execution_count": 60,
     "metadata": {},
     "output_type": "execute_result"
    }
   ],
   "source": [
    "#Q5\n",
    "\n",
    "def fib(n):\n",
    "    fib_srs = list(range(n+1))\n",
    "    for i in range(2,n+1):\n",
    "        fib_srs[i] = fib_srs[i-1] + fib_srs[i-2]\n",
    "    return fib_srs[n]\n",
    "\n",
    "fib(6)"
   ]
  },
  {
   "cell_type": "code",
   "execution_count": null,
   "id": "7fcff1ea",
   "metadata": {},
   "outputs": [],
   "source": []
  }
 ],
 "metadata": {
  "kernelspec": {
   "display_name": "Python 3",
   "language": "python",
   "name": "python3"
  },
  "language_info": {
   "codemirror_mode": {
    "name": "ipython",
    "version": 3
   },
   "file_extension": ".py",
   "mimetype": "text/x-python",
   "name": "python",
   "nbconvert_exporter": "python",
   "pygments_lexer": "ipython3",
   "version": "3.8.8"
  }
 },
 "nbformat": 4,
 "nbformat_minor": 5
}
