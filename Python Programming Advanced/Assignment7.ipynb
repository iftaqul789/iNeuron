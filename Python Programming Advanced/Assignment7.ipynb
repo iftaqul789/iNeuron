{
 "cells": [
  {
   "cell_type": "code",
   "execution_count": 6,
   "id": "00d7cc67",
   "metadata": {},
   "outputs": [
    {
     "data": {
      "text/plain": [
       "2"
      ]
     },
     "execution_count": 6,
     "metadata": {},
     "output_type": "execute_result"
    }
   ],
   "source": [
    "#Q1\n",
    "\n",
    "def count_layers(layr_lst):\n",
    "    \n",
    "    '''input: list\n",
    "    output: int'''\n",
    "    \n",
    "    tot_layer = len(set(layr_lst))\n",
    "    return tot_layer\n",
    "\n",
    "count_layers(['AAAA','ABBA','AAAA'])"
   ]
  },
  {
   "cell_type": "code",
   "execution_count": 7,
   "id": "beec8b57",
   "metadata": {},
   "outputs": [
    {
     "data": {
      "text/plain": [
       "6"
      ]
     },
     "execution_count": 7,
     "metadata": {},
     "output_type": "execute_result"
    }
   ],
   "source": [
    "#Q2\n",
    "\n",
    "def unique_style(music_style_lst):\n",
    "    \n",
    "    \n",
    "    '''input: list\n",
    "    output: int'''\n",
    "    \n",
    "    unique_styles = len(set(music_style_lst))\n",
    "    \n",
    "    return unique_styles\n",
    "\n",
    "unique_style(['soul','house','folk','trance','soul','house','heavy metal','metal'])\n",
    "\n"
   ]
  },
  {
   "cell_type": "code",
   "execution_count": 2,
   "id": "0861e9f5",
   "metadata": {},
   "outputs": [
    {
     "data": {
      "text/plain": [
       "'no'"
      ]
     },
     "execution_count": 2,
     "metadata": {},
     "output_type": "execute_result"
    }
   ],
   "source": [
    "#Q3\n",
    "\n",
    "\n",
    "primes = [2,3,5,7,11,13,17,23,29,31,37,39,41,43,47,53,59,61,67,71,73,79,83,89,97]\n",
    "\n",
    "def is_prime(prime_lst , num):\n",
    "    \n",
    "    '''input: list , int\n",
    "    output: str , returns a number is prime or not'''\n",
    "    if num in prime_lst:\n",
    "        return \"yes\"\n",
    "    else:\n",
    "        return \"no\"\n",
    "    \n",
    "    \n",
    "is_prime(primes,33)\n"
   ]
  },
  {
   "cell_type": "code",
   "execution_count": 13,
   "id": "4fa2e530",
   "metadata": {},
   "outputs": [
    {
     "data": {
      "text/plain": [
       "3"
      ]
     },
     "execution_count": 13,
     "metadata": {},
     "output_type": "execute_result"
    }
   ],
   "source": [
    "#Q4\n",
    "\n",
    "def power_ranger(n,a,b):\n",
    "    \n",
    "    '''input: int , n(power), a(lower limit), b(upper limit)\n",
    "    output: int, number of numbers with power n in the range a , b inclusive'''\n",
    "    \n",
    "    num_lst = []\n",
    "    \n",
    "    for num in range(1,b):\n",
    "        if (num**n >= a) and (num**n <= b):\n",
    "            num_lst.append(num)\n",
    "        if num ** n > b:\n",
    "            break\n",
    "    return len(num_lst)\n",
    "\n",
    "\n",
    "power_ranger(3,1,27)\n",
    "\n",
    "        "
   ]
  },
  {
   "cell_type": "code",
   "execution_count": 33,
   "id": "14958436",
   "metadata": {},
   "outputs": [
    {
     "data": {
      "text/plain": [
       "760833"
      ]
     },
     "execution_count": 33,
     "metadata": {},
     "output_type": "execute_result"
    }
   ],
   "source": [
    "#Q5\n",
    "\n",
    "def ranged_difference(num):\n",
    "    \n",
    "    \n",
    "    '''input: int\n",
    "    output: int'''\n",
    "    \n",
    "    num_str = str(num)\n",
    "    digit_list = []\n",
    "    \n",
    "    for digit in num_str:\n",
    "        digit_list.append(int(digit))\n",
    "        \n",
    "    max_num_lst = sorted(digit_list, reverse = True)\n",
    "    min_num_lst = max_num_lst[::-1]\n",
    "    \n",
    "    num1 = \"\"\n",
    "    num2 = ''\n",
    "    for i in max_num_lst:\n",
    "        num1 += str(i)\n",
    "    for j in min_num_lst:\n",
    "        num2 += str(j)\n",
    "        \n",
    "    return int(num1)- int(num2)\n",
    "    \n",
    "ranged_difference(972882)\n",
    "    "
   ]
  },
  {
   "cell_type": "code",
   "execution_count": null,
   "id": "7b01702e",
   "metadata": {},
   "outputs": [],
   "source": []
  },
  {
   "cell_type": "code",
   "execution_count": null,
   "id": "5f93e47c",
   "metadata": {},
   "outputs": [],
   "source": []
  },
  {
   "cell_type": "code",
   "execution_count": null,
   "id": "44a05476",
   "metadata": {},
   "outputs": [],
   "source": []
  }
 ],
 "metadata": {
  "kernelspec": {
   "display_name": "Python 3",
   "language": "python",
   "name": "python3"
  },
  "language_info": {
   "codemirror_mode": {
    "name": "ipython",
    "version": 3
   },
   "file_extension": ".py",
   "mimetype": "text/x-python",
   "name": "python",
   "nbconvert_exporter": "python",
   "pygments_lexer": "ipython3",
   "version": "3.8.8"
  }
 },
 "nbformat": 4,
 "nbformat_minor": 5
}
