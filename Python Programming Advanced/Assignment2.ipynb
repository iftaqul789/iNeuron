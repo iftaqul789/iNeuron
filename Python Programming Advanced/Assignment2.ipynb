{
 "cells": [
  {
   "cell_type": "code",
   "execution_count": 3,
   "id": "995b4515",
   "metadata": {},
   "outputs": [
    {
     "data": {
      "text/plain": [
       "141"
      ]
     },
     "execution_count": 3,
     "metadata": {},
     "output_type": "execute_result"
    }
   ],
   "source": [
    "#Q1\n",
    "\n",
    "def pentagon(x):\n",
    "    \n",
    "    '''input: int\n",
    "    output: int , returns the number opf dots in the respective pentagon'''\n",
    "    \n",
    "    if x == 1:\n",
    "        return 1\n",
    "    return pentagon(x-1) + 5*(x-1)\n",
    "pentagon(8)"
   ]
  },
  {
   "cell_type": "code",
   "execution_count": 4,
   "id": "4a8ee9bb",
   "metadata": {},
   "outputs": [
    {
     "data": {
      "text/plain": [
       "'1lpp0aca'"
      ]
     },
     "execution_count": 4,
     "metadata": {},
     "output_type": "execute_result"
    }
   ],
   "source": [
    "#Q2\n",
    "\n",
    "def encrypt(x):\n",
    "    \n",
    "    '''input: string\n",
    "    output: string '''\n",
    "    \n",
    "    vwl_d ={\"a\":0,\"e\":1,\"i\":2,\"o\":2,\"u\":3} # vwl dictionary\n",
    "    rev_x = x[::-1] # reversing the string\n",
    "    fnl_str = ''\n",
    "    \n",
    "    for char in rev_x:\n",
    "        if char in vwl_d:\n",
    "            fnl_str += str(vwl_d[char])\n",
    "        else:\n",
    "            fnl_str += char\n",
    "    return fnl_str + \"aca\"\n",
    "\n",
    "encrypt(\"apple\")"
   ]
  },
  {
   "cell_type": "code",
   "execution_count": 11,
   "id": "de3aaea3",
   "metadata": {},
   "outputs": [
    {
     "data": {
      "text/plain": [
       "True"
      ]
     },
     "execution_count": 11,
     "metadata": {},
     "output_type": "execute_result"
    }
   ],
   "source": [
    "\n",
    "#Q3\n",
    "\n",
    "import datetime\n",
    "import calendar\n",
    "\n",
    "\n",
    "def has_friday_13(month,yr):\n",
    "    \n",
    "    '''input: month , yr \n",
    "    output: bool , checks wethr that month in that year has a friday on day 13'''\n",
    "\n",
    "    return \"Friday\" == calendar.day_name[datetime.date(yr,month,13).weekday()]\n",
    "\n",
    "has_friday_13(3,2020)"
   ]
  },
  {
   "cell_type": "code",
   "execution_count": 25,
   "id": "ecab5857",
   "metadata": {},
   "outputs": [
    {
     "name": "stdout",
     "output_type": "stream",
     "text": [
      "2\n"
     ]
    }
   ],
   "source": [
    "#Q4\n",
    "import re\n",
    "\n",
    "lst = [\"bad cookie\",\"good cookie\",\"bad cookie\",\"good cookie\",\"good cookie\"]\n",
    "\n",
    "\n",
    "count_bad_cookie = len(re.findall(\"bad cookie\", str(lst)))\n",
    "\n",
    "print(count_bad_cookie)\n"
   ]
  },
  {
   "cell_type": "code",
   "execution_count": 54,
   "id": "1a2904cb",
   "metadata": {},
   "outputs": [
    {
     "data": {
      "text/plain": [
       "{'apples', 'cats'}"
      ]
     },
     "execution_count": 54,
     "metadata": {},
     "output_type": "execute_result"
    }
   ],
   "source": [
    "#Q5\n",
    "\n",
    "def pluralize(x):\n",
    "    \n",
    "    '''input: list \n",
    "      output:set,  '''\n",
    "    \n",
    "    wrds_dic = {}\n",
    "    plrl_wrds = []\n",
    "    \n",
    "    \n",
    "    for w in x:\n",
    "        if w not in wrds_dic:\n",
    "            wrds_dic[w] = 0\n",
    "        wrds_dic[w] += 1\n",
    "    \n",
    "    for w in wrds_dic:\n",
    "        if wrds_dic[w] > 1:\n",
    "            plrl_wrds.append(w +\"s\")\n",
    "    return set(plrl_wrds)\n",
    "\n",
    "pluralize([\"apple\",\"apple\",\"boy\",\"cat\",\"cat\",\"cat\"])"
   ]
  },
  {
   "cell_type": "code",
   "execution_count": null,
   "id": "6c16aecf",
   "metadata": {},
   "outputs": [],
   "source": []
  },
  {
   "cell_type": "code",
   "execution_count": null,
   "id": "fc953fd2",
   "metadata": {},
   "outputs": [],
   "source": []
  }
 ],
 "metadata": {
  "kernelspec": {
   "display_name": "Python 3",
   "language": "python",
   "name": "python3"
  },
  "language_info": {
   "codemirror_mode": {
    "name": "ipython",
    "version": 3
   },
   "file_extension": ".py",
   "mimetype": "text/x-python",
   "name": "python",
   "nbconvert_exporter": "python",
   "pygments_lexer": "ipython3",
   "version": "3.8.8"
  }
 },
 "nbformat": 4,
 "nbformat_minor": 5
}
