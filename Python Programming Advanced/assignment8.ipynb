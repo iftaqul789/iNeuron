{
 "cells": [
  {
   "cell_type": "code",
   "execution_count": 17,
   "id": "eb70de6d",
   "metadata": {},
   "outputs": [
    {
     "name": "stdout",
     "output_type": "stream",
     "text": [
      "False\n",
      "True\n"
     ]
    }
   ],
   "source": [
    "#Q1\n",
    "\n",
    "def vowel_links(str_sentence):\n",
    "    \n",
    "    '''input: str \n",
    "    output : bool'''\n",
    "    \n",
    "    vowels = \"aeiouAEIOU\"\n",
    "    word_lst = str_sentence.split()\n",
    "    \n",
    "    for indx,word in enumerate(word_lst[0:-1]): # to excldue the last item in the list\n",
    "        \n",
    "        if (word[-1] in vowels) and (word_lst[indx+1][0] in vowels ): # checks the condition for current and one after the current word\n",
    "            return True\n",
    "    return False\n",
    "\n",
    "\n",
    "\n",
    "print(vowel_links(\"an open fire\"))\n",
    "print(vowel_links(\"a very large appliance\"))"
   ]
  },
  {
   "cell_type": "code",
   "execution_count": 66,
   "id": "d1032204",
   "metadata": {},
   "outputs": [
    {
     "name": "stdout",
     "output_type": "stream",
     "text": [
      "False\n",
      "True\n",
      "True\n"
     ]
    }
   ],
   "source": [
    "#Q2\n",
    "# Not Complete\n",
    "\n",
    "def first_before_second(str_sentence,alph1, alph2):\n",
    "    \n",
    "    alph1_indx = []\n",
    "    alph2_indx = []\n",
    "    \n",
    "    for i,char in enumerate(str_sentence):\n",
    "        if char == alph1:\n",
    "            alph1_indx.append(i)\n",
    "        if char == alph2:\n",
    "            alph2_indx.append(i)\n",
    "    \n",
    "    \n",
    "    if len(alph1_indx) == 0:\n",
    "        return False\n",
    "    \n",
    "    for i in range(len(alph1_indx)):\n",
    "        if alph1_indx[i] > alph2_indx[i]:\n",
    "            return False\n",
    "    return True\n",
    "   \n",
    "print(first_before_second(\"i em a chemical engineer\",'a','e'))\n",
    "print(first_before_second(\" a rabbit jumps joyfully\",'a','j'))\n",
    "print(first_before_second(\"knaves knew about waterfalls\",\"k\",\"w\"))\n"
   ]
  },
  {
   "cell_type": "code",
   "execution_count": 23,
   "id": "0068805e",
   "metadata": {},
   "outputs": [
    {
     "name": "stdout",
     "output_type": "stream",
     "text": [
      "[2, 6, 10]\n",
      "EAI\n"
     ]
    }
   ],
   "source": [
    "#Q3\n",
    "\n",
    "def char_at_pos(character,specifier):\n",
    "    \n",
    "    '''input : character = list or string , specifier = even / odd\n",
    "    output: list/string , prints only the values on the postions specified by specifier'''\n",
    "    \n",
    "    if specifier.lower() == \"odd\":\n",
    "        N = 0\n",
    "    else:\n",
    "        N = 1\n",
    "    return character[N:len(character):2]\n",
    "\n",
    "print(char_at_pos([2,4,6,8,10], 'odd'))\n",
    "print(char_at_pos(\"EDABIT\", 'odd'))"
   ]
  },
  {
   "cell_type": "code",
   "execution_count": 33,
   "id": "537e6d52",
   "metadata": {},
   "outputs": [
    {
     "data": {
      "text/plain": [
       "3"
      ]
     },
     "execution_count": 33,
     "metadata": {},
     "output_type": "execute_result"
    }
   ],
   "source": [
    "#Q4\n",
    "\n",
    "def find_gcd(num1,num2):\n",
    "    \n",
    "    '''input: int\n",
    "    output: int, gcd of two number'''\n",
    "    \n",
    "    if num1 == 0:\n",
    "        return num2\n",
    "    else:\n",
    "        return find_gcd(num2%num1,num1)\n",
    "    \n",
    "def GCD(num_lst):\n",
    "    \n",
    "    '''input: list\n",
    "    output: int , gcd of all the list elements'''\n",
    "    \n",
    "    frst_num = num_lst[0]\n",
    "    scnd_num = num_lst[1]\n",
    "    \n",
    "    gcd_val = find_gcd(frst_num,scnd_num)\n",
    "    \n",
    "    for num in num_lst[2:len(num_lst)]:\n",
    "        gcd = find_gcd(gcd_val,num)\n",
    "    \n",
    "    return gcd\n",
    "\n",
    "\n",
    "GCD([3,6,12,15,21])"
   ]
  },
  {
   "cell_type": "code",
   "execution_count": 61,
   "id": "bb39bb19",
   "metadata": {},
   "outputs": [
    {
     "name": "stdout",
     "output_type": "stream",
     "text": [
      "Decimal and Binary\n"
     ]
    }
   ],
   "source": [
    "#Q5\n",
    "\n",
    "def is_palindrome(num):\n",
    "    \n",
    "    '''input: int, str\n",
    "    output: bool , checks wether a number or a string is palindrome or not'''\n",
    "    \n",
    "    num_str = str(num)\n",
    "    \n",
    "    if len(num_str) == 1:\n",
    "        return True\n",
    "    else:\n",
    "        return (num_str[0] == num_str[-1]) and is_palindrome(num_str[1:-1])\n",
    "    \n",
    "    \n",
    "def palindrome_type(num):\n",
    "    \n",
    "    '''input: int\n",
    "    output: str, checks the number in its decimal form and binary form a palindrome or not'''\n",
    "    \n",
    "    bin_num = bin(num)[2:]\n",
    "    str_num = str(num)\n",
    "    \n",
    "    if (is_palindrome(str_num) == True)    and (is_palindrome(bin_num) == True):\n",
    "        \n",
    "        return print(\"Decimal and Binary\")\n",
    "    elif (is_palindrome(str_num) == True ) and (is_palindrome(bin_num) != True):\n",
    "        \n",
    "        return print(\"Decimal only\")\n",
    "    elif (is_palindrome(str_num) != True ) and (is_palindrome(bin_num) == True):\n",
    "        \n",
    "        return print(\"Binary only\")\n",
    "    else:\n",
    "        return print(\"Neither!\")\n",
    "    \n",
    "palindrome_type(313)"
   ]
  },
  {
   "cell_type": "code",
   "execution_count": null,
   "id": "b9785465",
   "metadata": {},
   "outputs": [],
   "source": []
  }
 ],
 "metadata": {
  "kernelspec": {
   "display_name": "Python 3",
   "language": "python",
   "name": "python3"
  },
  "language_info": {
   "codemirror_mode": {
    "name": "ipython",
    "version": 3
   },
   "file_extension": ".py",
   "mimetype": "text/x-python",
   "name": "python",
   "nbconvert_exporter": "python",
   "pygments_lexer": "ipython3",
   "version": "3.8.8"
  }
 },
 "nbformat": 4,
 "nbformat_minor": 5
}
