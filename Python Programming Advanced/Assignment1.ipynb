{
 "cells": [
  {
   "cell_type": "code",
   "execution_count": 12,
   "id": "cb13504f",
   "metadata": {},
   "outputs": [
    {
     "name": "stdout",
     "output_type": "stream",
     "text": [
      "0\n",
      "2\n"
     ]
    }
   ],
   "source": [
    "#Q1\n",
    "\n",
    "my_list = [[\"#\",\"!!\"],[\"O\",\"!!!\"],[\"X\",\"!!\"]]\n",
    "\n",
    "l = [[\"!!!\",\"O\",\"!\"],[\"X\",\"#\",\"!!!\"],[\"!!\",\"X\",\"O\"]]\n",
    "m = [[\"#\",\"!\"],[\"!!\",\"X\"]]\n",
    "\n",
    "\n",
    "\n",
    "\n",
    "def check_score(x):\n",
    "    \n",
    "    '''input: list of lits\n",
    "    output: int val'''\n",
    "    \n",
    "    my_d = {\"#\":0,\"O\":0,\"X\":0,\"!\":0,\"!!\":0,\"!!!\":0}\n",
    "    for ls in x:\n",
    "        for i in ls:\n",
    "            if i in my_d.keys():\n",
    "                my_d[i] += 1\n",
    "    \n",
    "    # given Values\n",
    "    ''' # = 5\n",
    "        o =3\n",
    "        X = 1\n",
    "        !!! = -5\n",
    "        !! = -3\n",
    "        ! = -1'''\n",
    "    \n",
    "    score = 5 * my_d[\"#\"] + 3*my_d[\"O\"]+1*my_d[\"X\"]-5*my_d[\"!!!\"]-3*my_d[\"!!\"]-1*my_d[\"!\"]\n",
    "    if score <0:\n",
    "        return 0\n",
    "    else:\n",
    "        return score\n",
    "print(check_score(l))\n",
    "print(check_score(m))\n",
    "        "
   ]
  },
  {
   "cell_type": "code",
   "execution_count": 20,
   "id": "77ca4f74",
   "metadata": {},
   "outputs": [],
   "source": [
    "#Q2\n",
    "\n",
    "\n",
    "def combinations(*args):\n",
    "    \n",
    "    '''input: any number of int values and each number represents number of items in that group\n",
    "    output: return the value of number of combinations taking one item a time from each group'''\n",
    "    \n",
    "    val = 1\n",
    "    for num in range(len(args)):\n",
    "        val = val * args[num]\n",
    "    return val"
   ]
  },
  {
   "cell_type": "code",
   "execution_count": 24,
   "id": "3b3921bb",
   "metadata": {},
   "outputs": [
    {
     "data": {
      "text/plain": [
       "84"
      ]
     },
     "execution_count": 24,
     "metadata": {},
     "output_type": "execute_result"
    }
   ],
   "source": [
    "combinations(3,7,4)"
   ]
  },
  {
   "cell_type": "code",
   "execution_count": 37,
   "id": "2f13de21",
   "metadata": {},
   "outputs": [
    {
     "data": {
      "text/plain": [
       "'......-...--. --.-.-.--'"
      ]
     },
     "execution_count": 37,
     "metadata": {},
     "output_type": "execute_result"
    }
   ],
   "source": [
    "#Q3\n",
    "\n",
    "\n",
    "\n",
    "def encode_morse(x):\n",
    "    \n",
    "    '''input: string \n",
    "    output: string , converts strig into, morse code'''\n",
    "    \n",
    "    char_to_dots = {\n",
    "    'A': '.-', 'B': '-...', 'C': '-.-.', 'D': '-..', 'E': '.', 'F': '..-.',\n",
    "    'G': '--.', 'H': '....', 'I': '..', 'J': '.---', 'K': '-.-', 'L': '.-..',\n",
    "    'M': '--', 'N': '-.', 'O': '---', 'P': '.--.', 'Q': '--.-', 'R': '.-.',\n",
    "    'S': '...', 'T': '-', 'U': '..-', 'V': '...-', 'W': '.--', 'X': '-..-',\n",
    "    'Y': '-.--', 'Z': '--..', '': '', '0': '-----',\n",
    "    '1': '.----', '2': '..---', '3': '...--', '4': '....-', '5': '.....',\n",
    "    '6': '-....', '7': '--...', '8': '---..', '9': '----.',\n",
    "    '&': '.-...', \"'\": '.----.', '@': '.--.-.', ')': '-.--.-', '(': '-.--.',\n",
    "    ':': '---...', ',': '--..--', '=': '-...-', '!': '-.-.--', '.': '.-.-.-',\n",
    "    '-': '-....-', '+': '.-.-.', '\"': '.-..-.', '?': '..--..', '/': '-..-.'\n",
    "}\n",
    "    morse_encode = \"\"\n",
    "    for char in x:\n",
    "        if char == \" \":\n",
    "            morse_encode += \" \"\n",
    "        else:\n",
    "            morse_encode += char_to_dots[char.upper()]\n",
    "    return morse_encode\n",
    "\n",
    "encode_morse(\"Help Me!\")\n"
   ]
  },
  {
   "cell_type": "code",
   "execution_count": 57,
   "id": "01f61163",
   "metadata": {},
   "outputs": [
    {
     "data": {
      "text/plain": [
       "False"
      ]
     },
     "execution_count": 57,
     "metadata": {},
     "output_type": "execute_result"
    }
   ],
   "source": [
    "#Q4\n",
    "\n",
    "from math import sqrt\n",
    " \n",
    "def isPrime(n):\n",
    "     \n",
    "    '''input: int\n",
    "    outputr: bool , checks wether the number is prime or not'''\n",
    "    \n",
    "    if (n <= 1):\n",
    "        return False\n",
    "    \n",
    "    for i in range(2, int(sqrt(n))+1):\n",
    "        if (n % i == 0):\n",
    "            return False\n",
    " \n",
    "    return True\n",
    "\n",
    "val = 2^64\n",
    "isPrime(val)"
   ]
  },
  {
   "cell_type": "code",
   "execution_count": 75,
   "id": "7cf20df9",
   "metadata": {},
   "outputs": [
    {
     "data": {
      "text/plain": [
       "[False, True, True, False]"
      ]
     },
     "execution_count": 75,
     "metadata": {},
     "output_type": "execute_result"
    }
   ],
   "source": [
    "#Q5\n",
    "\n",
    "def to_bool_list(x):\n",
    "    \n",
    "    '''input: string\n",
    "    output:bool'''\n",
    "    \n",
    "    b_lst = []\n",
    "    for char in x:\n",
    "        if ord(char)%2 == 0:\n",
    "            b_lst.append(False)\n",
    "        else:\n",
    "            b_lst.append(True)\n",
    "    return b_lst\n",
    "\n",
    "to_bool_list(\"deep\")"
   ]
  },
  {
   "cell_type": "code",
   "execution_count": null,
   "id": "89f14cd1",
   "metadata": {},
   "outputs": [],
   "source": []
  },
  {
   "cell_type": "code",
   "execution_count": null,
   "id": "860b4082",
   "metadata": {},
   "outputs": [],
   "source": []
  },
  {
   "cell_type": "code",
   "execution_count": null,
   "id": "5484b10b",
   "metadata": {},
   "outputs": [],
   "source": []
  },
  {
   "cell_type": "code",
   "execution_count": null,
   "id": "3196075e",
   "metadata": {},
   "outputs": [],
   "source": []
  }
 ],
 "metadata": {
  "kernelspec": {
   "display_name": "Python 3",
   "language": "python",
   "name": "python3"
  },
  "language_info": {
   "codemirror_mode": {
    "name": "ipython",
    "version": 3
   },
   "file_extension": ".py",
   "mimetype": "text/x-python",
   "name": "python",
   "nbconvert_exporter": "python",
   "pygments_lexer": "ipython3",
   "version": "3.8.8"
  }
 },
 "nbformat": 4,
 "nbformat_minor": 5
}
