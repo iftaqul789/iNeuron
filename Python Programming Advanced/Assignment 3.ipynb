{
 "cells": [
  {
   "cell_type": "code",
   "execution_count": 16,
   "id": "7111626c",
   "metadata": {},
   "outputs": [
    {
     "data": {
      "text/plain": [
       "3.0"
      ]
     },
     "execution_count": 16,
     "metadata": {},
     "output_type": "execute_result"
    }
   ],
   "source": [
    "#Q1\n",
    "\n",
    "def arithmetic_operation(num_string):\n",
    "    \n",
    "        \"\"\"input: string , numbers and oprtrs\n",
    "        output: int \"\"\"\n",
    "    \n",
    "        # extracting the operators and numbers\n",
    "        num1,oprtr,num2 = num_string.split()\n",
    "        \n",
    "        if oprtr == \"+\":\n",
    "            return int(num1) + int(num2)\n",
    "        elif oprtr == \"-\":\n",
    "            return int(num1) - int(num2)\n",
    "        elif oprtr == \"/\":\n",
    "            try: # controling the division by zero\n",
    "                return int(num1)/int(num2)\n",
    "            except ZeroDivisionError:\n",
    "                \n",
    "                return -1\n",
    "                \n",
    "        else:\n",
    "            return int(num1) * int(num2)\n",
    "\n",
    "arithmetic_operation(\"12 /  4\")"
   ]
  },
  {
   "cell_type": "code",
   "execution_count": 17,
   "id": "45ab0730",
   "metadata": {},
   "outputs": [
    {
     "data": {
      "text/plain": [
       "-1"
      ]
     },
     "execution_count": 17,
     "metadata": {},
     "output_type": "execute_result"
    }
   ],
   "source": [
    "arithmetic_operation(\"12 /  0\")"
   ]
  },
  {
   "cell_type": "code",
   "execution_count": 44,
   "id": "ed467e83",
   "metadata": {},
   "outputs": [
    {
     "data": {
      "text/plain": [
       "47.08"
      ]
     },
     "execution_count": 44,
     "metadata": {},
     "output_type": "execute_result"
    }
   ],
   "source": [
    "#Q2\n",
    "\n",
    "import numpy as np\n",
    "import math as mt\n",
    "\n",
    "a = np.array([[15,7],[5,22],[11,1]])\n",
    "\n",
    "def perimeter(arry):\n",
    "    \n",
    "    \"\"\"input: arayy representing three points of a triangle\n",
    "    output: float , returns the perimeter of the triangle\"\"\"\n",
    "    \n",
    "    dist_1 = abs((arry[0][0]-arry[1][0])**2 + (arry[0][1]-arry[1][1])**2)\n",
    "    dist_2 = abs((arry[1][0]-arry[2][0])**2 + (arry[1][1]-arry[2][1])**2)\n",
    "    dist_3 = abs((arry[2][0]-arry[0][0])**2 + (arry[2][1]-arry[0][1])**2)\n",
    "    return round(mt.sqrt(dist_1) + mt.sqrt(dist_2) + mt.sqrt(dist_3),2)\n",
    "    \n",
    "perimeter(a)"
   ]
  },
  {
   "cell_type": "code",
   "execution_count": 64,
   "id": "73d73533",
   "metadata": {},
   "outputs": [
    {
     "data": {
      "text/plain": [
       "3"
      ]
     },
     "execution_count": 64,
     "metadata": {},
     "output_type": "execute_result"
    }
   ],
   "source": [
    "#Q3\n",
    "\n",
    "def tallest_skyscraper(ary):\n",
    "    \n",
    "    '''input: 2D listr\n",
    "    outputr: int'''\n",
    "    \n",
    "    return max(sum(np.array(ary)))\n",
    "\n",
    "tallest_skyscraper([[0 ,0, 0, 0],[0, 1, 0, 0],[0, 1, 1, 0],[1, 1, 1, 1]])"
   ]
  },
  {
   "cell_type": "code",
   "execution_count": 6,
   "id": "a5c68ad7",
   "metadata": {},
   "outputs": [
    {
     "name": "stdout",
     "output_type": "stream",
     "text": [
      "0\n",
      "1625\n",
      "8200\n"
     ]
    }
   ],
   "source": [
    "#Q4\n",
    "\n",
    "def bonus(days):\n",
    "    \n",
    "    '''inputr: any integer value representing number of working days for bonus calculation\n",
    "    output: int '''\n",
    "    \n",
    "    if days < 33:\n",
    "        return 0\n",
    "    elif days >=33 and days <= 40:\n",
    "        return ((days-33)+1 ) * 325\n",
    "    elif days >=41 and days <=48:\n",
    "        return (8*325) + ((days-41)+1) *550\n",
    "    else:\n",
    "        return (8*325) + (550*8) + ((days-48)) * 600\n",
    "    \n",
    "\n",
    "print(bonus(15))\n",
    "print(bonus(37))\n",
    "print(bonus(50))"
   ]
  },
  {
   "cell_type": "code",
   "execution_count": 25,
   "id": "b65d8493",
   "metadata": {},
   "outputs": [
    {
     "data": {
      "text/plain": [
       "True"
      ]
     },
     "execution_count": 25,
     "metadata": {},
     "output_type": "execute_result"
    }
   ],
   "source": [
    "#Q5\n",
    "\n",
    "def is_disarium(num):\n",
    "    \n",
    "    '''input: any number\n",
    "    output:bool , checks wethre the number is disarium number or not'''\n",
    "    \n",
    "    sum_of_dig = 0\n",
    "   \n",
    "    org_num = num\n",
    "    power = 1\n",
    "    for i,n in enumerate(range(len(str(org_num))-1,-1,-1)):\n",
    "        dig = num//10**n\n",
    "        remndr = num%10**n\n",
    "        sum_of_dig += dig**power\n",
    "        num = remndr\n",
    "        power+=1\n",
    "    \n",
    "    return org_num == sum_of_dig\n",
    "        \n",
    "    \n",
    "is_disarium(518)"
   ]
  },
  {
   "cell_type": "code",
   "execution_count": null,
   "id": "66374284",
   "metadata": {},
   "outputs": [],
   "source": []
  }
 ],
 "metadata": {
  "kernelspec": {
   "display_name": "Python 3",
   "language": "python",
   "name": "python3"
  },
  "language_info": {
   "codemirror_mode": {
    "name": "ipython",
    "version": 3
   },
   "file_extension": ".py",
   "mimetype": "text/x-python",
   "name": "python",
   "nbconvert_exporter": "python",
   "pygments_lexer": "ipython3",
   "version": "3.8.8"
  }
 },
 "nbformat": 4,
 "nbformat_minor": 5
}
