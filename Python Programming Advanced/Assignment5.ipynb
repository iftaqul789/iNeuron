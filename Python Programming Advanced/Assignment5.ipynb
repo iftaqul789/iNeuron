{
 "cells": [
  {
   "cell_type": "code",
   "execution_count": 25,
   "id": "7707afa0",
   "metadata": {},
   "outputs": [
    {
     "name": "stdout",
     "output_type": "stream",
     "text": [
      "c\n",
      "None\n"
     ]
    }
   ],
   "source": [
    "#Q2\n",
    "\n",
    "\n",
    "def majority_vote(x):\n",
    "    \n",
    "    \n",
    "    '''input: list\n",
    "    output: str , majority character which is occured more than  N/2  times inside list'''\n",
    "    \n",
    "    vote_dic = {}\n",
    "    majority = len(x)/2\n",
    "    \n",
    "    for vote in x:\n",
    "        if x.count(vote) > majority:\n",
    "            return vote\n",
    "    \n",
    "    return \"None\"\n",
    "    \n",
    "    \n",
    "        \n",
    "\n",
    "print(majority_vote([\"a\",\"a\",\"b\",\"b\",\"c\",\"c\",\"c\",\"c\",\"c\"]))\n",
    "\n",
    "print(majority_vote([\"a\",\"a\",\"b\",\"b\"]))"
   ]
  },
  {
   "cell_type": "code",
   "execution_count": 29,
   "id": "545861b6",
   "metadata": {},
   "outputs": [
    {
     "data": {
      "text/plain": [
       "'The *** jump over the **** '"
      ]
     },
     "execution_count": 29,
     "metadata": {},
     "output_type": "execute_result"
    }
   ],
   "source": [
    "#Q3\n",
    "\n",
    "def censor_string(str_obj , cnsr_lst):\n",
    "    \n",
    "    '''input: str, list\n",
    "    output: str , censor all the words in the string which are present in list'''\n",
    "    \n",
    "    str_lst = str_obj.split()\n",
    "    censor_str = ''\n",
    "    for word in str_lst:\n",
    "        if word in cnsr_lst:\n",
    "            censor_str += \"*\" * len(word) + \" \"\n",
    "        else:\n",
    "            censor_str += word + \" \"\n",
    "    return censor_str\n",
    "\n",
    "\n",
    "censor_string(\"The cow jump over the road\", [\"cow\",\"road\"])"
   ]
  },
  {
   "cell_type": "code",
   "execution_count": 42,
   "id": "ad87121b",
   "metadata": {},
   "outputs": [
    {
     "name": "stdout",
     "output_type": "stream",
     "text": [
      "False\n",
      "True\n"
     ]
    }
   ],
   "source": [
    "#Q4\n",
    "\n",
    "\n",
    "def is_polydivisible(num):\n",
    "    \n",
    "    '''input: any int\n",
    "    output: bool , checks wether the number is polydivisible or not'''\n",
    "    \n",
    "    trth_table = []\n",
    "    number = 2\n",
    "    if int(str(num)[0]) == 0: \n",
    "        return False\n",
    "    for i in range(2,len(str(num))+1):\n",
    "        if int(str(num)[0:i]) % i == 0: #checking frst two digit divided by 2 , frst 3 by 3 and so on...\n",
    "            trth_table.append(True)\n",
    "        else:\n",
    "            return False\n",
    "    \n",
    "    return sum(trth_table) == len(str(num))-1 #-1 for excluding the first digit\n",
    "\n",
    "print(is_polydivisible(123220))\n",
    "print(is_polydivisible(1232))\n"
   ]
  },
  {
   "cell_type": "code",
   "execution_count": 50,
   "id": "cb78a6bf",
   "metadata": {},
   "outputs": [
    {
     "data": {
      "text/plain": [
       "17"
      ]
     },
     "execution_count": 50,
     "metadata": {},
     "output_type": "execute_result"
    }
   ],
   "source": [
    "#Q5\n",
    "\n",
    "import math as mt\n",
    "\n",
    "#function to check wether a number is prime or not\n",
    "\n",
    "def isPrime(n):\n",
    "    if (n <= 1):\n",
    "        return False\n",
    " \n",
    "    # Checking from  to   2to sqrt n\n",
    "    \n",
    "    for i in range(2, int(mt.sqrt(n) +1)):\n",
    "        if (n % i == 0):\n",
    "            return False\n",
    " \n",
    "    return True\n",
    "\n",
    "def sum_primes(num_lst):\n",
    "    \n",
    "    '''input: list\n",
    "    output: sum opf prime nums in the liost, int'''\n",
    "    \n",
    "    prime_lst = []\n",
    "    for p in num_lst:\n",
    "        if isPrime(p):\n",
    "            prime_lst.append(p)\n",
    "    return sum(prime_lst)\n",
    "\n",
    "sum_primes([1,2,3,4,5,6,7,8,9,10])"
   ]
  },
  {
   "cell_type": "code",
   "execution_count": null,
   "id": "0c392816",
   "metadata": {},
   "outputs": [],
   "source": [
    "#Q1\n",
    "\n",
    "def f(num):\n",
    "    pass"
   ]
  },
  {
   "cell_type": "code",
   "execution_count": null,
   "id": "6ef62384",
   "metadata": {},
   "outputs": [],
   "source": []
  }
 ],
 "metadata": {
  "kernelspec": {
   "display_name": "Python 3",
   "language": "python",
   "name": "python3"
  },
  "language_info": {
   "codemirror_mode": {
    "name": "ipython",
    "version": 3
   },
   "file_extension": ".py",
   "mimetype": "text/x-python",
   "name": "python",
   "nbconvert_exporter": "python",
   "pygments_lexer": "ipython3",
   "version": "3.8.8"
  }
 },
 "nbformat": 4,
 "nbformat_minor": 5
}
